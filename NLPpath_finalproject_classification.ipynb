{
  "nbformat": 4,
  "nbformat_minor": 0,
  "metadata": {
    "colab": {
      "provenance": [],
      "gpuType": "T4"
    },
    "kernelspec": {
      "name": "python3",
      "display_name": "Python 3"
    },
    "language_info": {
      "name": "python"
    },
    "accelerator": "GPU"
  },
  "cells": [
    {
      "cell_type": "markdown",
      "source": [
        "# NLP Project: classification of WhatsApp messages\n",
        "\n"
      ],
      "metadata": {
        "id": "YrZ-MzYjUQWS"
      }
    },
    {
      "cell_type": "markdown",
      "source": [
        "For this project, you will be analyzing text message data using Natural Language Processing techniques and libraries.\n",
        "\n",
        "You are free to use the dataset that is provided or collect your own SMS data from a service like WhatsApp or just from your device’s messaging default app.\n",
        "\n",
        "You will be diving deeper into NLP skills in order to gain a better understanding of the insights chat data can offer.\n",
        "\n",
        "Dataset\n",
        "\n",
        "You have two options:\n",
        "\n",
        "Option 1: While there are many ways to procure text message data, here we have chosen the The National University of Singapore SMS Corpus dataset, made publicly available by The National University of Singapore. This dataset contains 67,093 text messages (SMSs) taken from the corpus on Mar 9, 2015 and is mostly comprised of messages from Singaporeans and students attending the University.\n",
        "\n",
        "This corpus was collected by Tao Chen and Min-Yen Kan:\n",
        "\n",
        "Tao Chen and Min-Yen Kan (2013). Creating a Live, Public Short Message Service Corpus: The NUS SMS Corpus. Language Resources and Evaluation, 47(2)(2013), pages 299-355. URL: https://link.springer.com/article/10.1007%2Fs10579-012-9197-9\n",
        "\n",
        "Data Description\n",
        "\n",
        "\n",
        "**id**\t  Unique identifier for each message.\n",
        "\n",
        "**Message**    The message contents.\n",
        "\n",
        "**length**\t    Total number of characters in the message.\n",
        "\n",
        "**country**\t    Country the sender is from.\n",
        "\n",
        "\n",
        "**Date**\t  Month and Year a message was sent.\n",
        "\n",
        "\n",
        "Data provided by Codecademy."
      ],
      "metadata": {
        "id": "IK_sCn4hhPtf"
      }
    },
    {
      "cell_type": "markdown",
      "source": [
        "**The aim of this project is to classify the messages based on sentiment (positive or negative emotion), as well as compare statistically sentiment between the countries.**"
      ],
      "metadata": {
        "id": "BuQgMeYPOqMQ"
      }
    },
    {
      "cell_type": "markdown",
      "source": [
        "## Loading Packages and Data\n",
        "\n",
        "\n"
      ],
      "metadata": {
        "id": "mWVNdhOUhQOA"
      }
    },
    {
      "cell_type": "code",
      "source": [
        "import re\n",
        "import nltk\n",
        "from nltk.tokenize import word_tokenize\n",
        "from nltk.stem import PorterStemmer\n",
        "from nltk.stem import WordNetLemmatizer"
      ],
      "metadata": {
        "id": "HSx5Q_zEURVP"
      },
      "execution_count": 1,
      "outputs": []
    },
    {
      "cell_type": "code",
      "source": [
        "import spacy\n",
        "from nltk import Tree\n"
      ],
      "metadata": {
        "id": "A2FXOCthVe0g"
      },
      "execution_count": 2,
      "outputs": []
    },
    {
      "cell_type": "code",
      "source": [
        "import pandas as pd\n",
        "import numpy as np\n",
        "import seaborn as sns"
      ],
      "metadata": {
        "id": "eHk8240DZqG0"
      },
      "execution_count": 3,
      "outputs": []
    },
    {
      "cell_type": "markdown",
      "source": [
        "Import the file as pandas dataframe."
      ],
      "metadata": {
        "id": "9vxLLp-bM9hu"
      }
    },
    {
      "cell_type": "code",
      "source": [
        "text = pd.read_csv('clean_nus_sms.csv')"
      ],
      "metadata": {
        "id": "TmEy6iDAap9Y"
      },
      "execution_count": 83,
      "outputs": []
    },
    {
      "cell_type": "markdown",
      "source": [
        "## **Exploring The Dataset**"
      ],
      "metadata": {
        "id": "08xT3J8INGCC"
      }
    },
    {
      "cell_type": "code",
      "source": [
        "text.head(5)"
      ],
      "metadata": {
        "colab": {
          "base_uri": "https://localhost:8080/",
          "height": 204
        },
        "id": "0dH6OIhbatQK",
        "outputId": "5aad6917-24ba-4d37-b8c9-92408fef681e"
      },
      "execution_count": 84,
      "outputs": [
        {
          "output_type": "execute_result",
          "data": {
            "text/plain": [
              "   Unnamed: 0     id                                            Message  \\\n",
              "0           0  10120                              Bugis oso near wat...   \n",
              "1           1  10121  Go until jurong point, crazy.. Available only ...   \n",
              "2           2  10122     I dunno until when... Lets go learn pilates...   \n",
              "3           3  10123  Den only weekdays got special price... Haiz......   \n",
              "4           4  10124                             Meet after lunch la...   \n",
              "\n",
              "  length country    Date  \n",
              "0     21      SG  2003/4  \n",
              "1    111      SG  2003/4  \n",
              "2     46      SG  2003/4  \n",
              "3    140      SG  2003/4  \n",
              "4     22      SG  2003/4  "
            ],
            "text/html": [
              "\n",
              "  <div id=\"df-5b034641-404d-4144-8fb8-f9491f2d50b5\" class=\"colab-df-container\">\n",
              "    <div>\n",
              "<style scoped>\n",
              "    .dataframe tbody tr th:only-of-type {\n",
              "        vertical-align: middle;\n",
              "    }\n",
              "\n",
              "    .dataframe tbody tr th {\n",
              "        vertical-align: top;\n",
              "    }\n",
              "\n",
              "    .dataframe thead th {\n",
              "        text-align: right;\n",
              "    }\n",
              "</style>\n",
              "<table border=\"1\" class=\"dataframe\">\n",
              "  <thead>\n",
              "    <tr style=\"text-align: right;\">\n",
              "      <th></th>\n",
              "      <th>Unnamed: 0</th>\n",
              "      <th>id</th>\n",
              "      <th>Message</th>\n",
              "      <th>length</th>\n",
              "      <th>country</th>\n",
              "      <th>Date</th>\n",
              "    </tr>\n",
              "  </thead>\n",
              "  <tbody>\n",
              "    <tr>\n",
              "      <th>0</th>\n",
              "      <td>0</td>\n",
              "      <td>10120</td>\n",
              "      <td>Bugis oso near wat...</td>\n",
              "      <td>21</td>\n",
              "      <td>SG</td>\n",
              "      <td>2003/4</td>\n",
              "    </tr>\n",
              "    <tr>\n",
              "      <th>1</th>\n",
              "      <td>1</td>\n",
              "      <td>10121</td>\n",
              "      <td>Go until jurong point, crazy.. Available only ...</td>\n",
              "      <td>111</td>\n",
              "      <td>SG</td>\n",
              "      <td>2003/4</td>\n",
              "    </tr>\n",
              "    <tr>\n",
              "      <th>2</th>\n",
              "      <td>2</td>\n",
              "      <td>10122</td>\n",
              "      <td>I dunno until when... Lets go learn pilates...</td>\n",
              "      <td>46</td>\n",
              "      <td>SG</td>\n",
              "      <td>2003/4</td>\n",
              "    </tr>\n",
              "    <tr>\n",
              "      <th>3</th>\n",
              "      <td>3</td>\n",
              "      <td>10123</td>\n",
              "      <td>Den only weekdays got special price... Haiz......</td>\n",
              "      <td>140</td>\n",
              "      <td>SG</td>\n",
              "      <td>2003/4</td>\n",
              "    </tr>\n",
              "    <tr>\n",
              "      <th>4</th>\n",
              "      <td>4</td>\n",
              "      <td>10124</td>\n",
              "      <td>Meet after lunch la...</td>\n",
              "      <td>22</td>\n",
              "      <td>SG</td>\n",
              "      <td>2003/4</td>\n",
              "    </tr>\n",
              "  </tbody>\n",
              "</table>\n",
              "</div>\n",
              "    <div class=\"colab-df-buttons\">\n",
              "\n",
              "  <div class=\"colab-df-container\">\n",
              "    <button class=\"colab-df-convert\" onclick=\"convertToInteractive('df-5b034641-404d-4144-8fb8-f9491f2d50b5')\"\n",
              "            title=\"Convert this dataframe to an interactive table.\"\n",
              "            style=\"display:none;\">\n",
              "\n",
              "  <svg xmlns=\"http://www.w3.org/2000/svg\" height=\"24px\" viewBox=\"0 -960 960 960\">\n",
              "    <path d=\"M120-120v-720h720v720H120Zm60-500h600v-160H180v160Zm220 220h160v-160H400v160Zm0 220h160v-160H400v160ZM180-400h160v-160H180v160Zm440 0h160v-160H620v160ZM180-180h160v-160H180v160Zm440 0h160v-160H620v160Z\"/>\n",
              "  </svg>\n",
              "    </button>\n",
              "\n",
              "  <style>\n",
              "    .colab-df-container {\n",
              "      display:flex;\n",
              "      gap: 12px;\n",
              "    }\n",
              "\n",
              "    .colab-df-convert {\n",
              "      background-color: #E8F0FE;\n",
              "      border: none;\n",
              "      border-radius: 50%;\n",
              "      cursor: pointer;\n",
              "      display: none;\n",
              "      fill: #1967D2;\n",
              "      height: 32px;\n",
              "      padding: 0 0 0 0;\n",
              "      width: 32px;\n",
              "    }\n",
              "\n",
              "    .colab-df-convert:hover {\n",
              "      background-color: #E2EBFA;\n",
              "      box-shadow: 0px 1px 2px rgba(60, 64, 67, 0.3), 0px 1px 3px 1px rgba(60, 64, 67, 0.15);\n",
              "      fill: #174EA6;\n",
              "    }\n",
              "\n",
              "    .colab-df-buttons div {\n",
              "      margin-bottom: 4px;\n",
              "    }\n",
              "\n",
              "    [theme=dark] .colab-df-convert {\n",
              "      background-color: #3B4455;\n",
              "      fill: #D2E3FC;\n",
              "    }\n",
              "\n",
              "    [theme=dark] .colab-df-convert:hover {\n",
              "      background-color: #434B5C;\n",
              "      box-shadow: 0px 1px 3px 1px rgba(0, 0, 0, 0.15);\n",
              "      filter: drop-shadow(0px 1px 2px rgba(0, 0, 0, 0.3));\n",
              "      fill: #FFFFFF;\n",
              "    }\n",
              "  </style>\n",
              "\n",
              "    <script>\n",
              "      const buttonEl =\n",
              "        document.querySelector('#df-5b034641-404d-4144-8fb8-f9491f2d50b5 button.colab-df-convert');\n",
              "      buttonEl.style.display =\n",
              "        google.colab.kernel.accessAllowed ? 'block' : 'none';\n",
              "\n",
              "      async function convertToInteractive(key) {\n",
              "        const element = document.querySelector('#df-5b034641-404d-4144-8fb8-f9491f2d50b5');\n",
              "        const dataTable =\n",
              "          await google.colab.kernel.invokeFunction('convertToInteractive',\n",
              "                                                    [key], {});\n",
              "        if (!dataTable) return;\n",
              "\n",
              "        const docLinkHtml = 'Like what you see? Visit the ' +\n",
              "          '<a target=\"_blank\" href=https://colab.research.google.com/notebooks/data_table.ipynb>data table notebook</a>'\n",
              "          + ' to learn more about interactive tables.';\n",
              "        element.innerHTML = '';\n",
              "        dataTable['output_type'] = 'display_data';\n",
              "        await google.colab.output.renderOutput(dataTable, element);\n",
              "        const docLink = document.createElement('div');\n",
              "        docLink.innerHTML = docLinkHtml;\n",
              "        element.appendChild(docLink);\n",
              "      }\n",
              "    </script>\n",
              "  </div>\n",
              "\n",
              "\n",
              "<div id=\"df-02aef3a6-33a5-4b89-9a52-12fd9b432bd6\">\n",
              "  <button class=\"colab-df-quickchart\" onclick=\"quickchart('df-02aef3a6-33a5-4b89-9a52-12fd9b432bd6')\"\n",
              "            title=\"Suggest charts\"\n",
              "            style=\"display:none;\">\n",
              "\n",
              "<svg xmlns=\"http://www.w3.org/2000/svg\" height=\"24px\"viewBox=\"0 0 24 24\"\n",
              "     width=\"24px\">\n",
              "    <g>\n",
              "        <path d=\"M19 3H5c-1.1 0-2 .9-2 2v14c0 1.1.9 2 2 2h14c1.1 0 2-.9 2-2V5c0-1.1-.9-2-2-2zM9 17H7v-7h2v7zm4 0h-2V7h2v10zm4 0h-2v-4h2v4z\"/>\n",
              "    </g>\n",
              "</svg>\n",
              "  </button>\n",
              "\n",
              "<style>\n",
              "  .colab-df-quickchart {\n",
              "      --bg-color: #E8F0FE;\n",
              "      --fill-color: #1967D2;\n",
              "      --hover-bg-color: #E2EBFA;\n",
              "      --hover-fill-color: #174EA6;\n",
              "      --disabled-fill-color: #AAA;\n",
              "      --disabled-bg-color: #DDD;\n",
              "  }\n",
              "\n",
              "  [theme=dark] .colab-df-quickchart {\n",
              "      --bg-color: #3B4455;\n",
              "      --fill-color: #D2E3FC;\n",
              "      --hover-bg-color: #434B5C;\n",
              "      --hover-fill-color: #FFFFFF;\n",
              "      --disabled-bg-color: #3B4455;\n",
              "      --disabled-fill-color: #666;\n",
              "  }\n",
              "\n",
              "  .colab-df-quickchart {\n",
              "    background-color: var(--bg-color);\n",
              "    border: none;\n",
              "    border-radius: 50%;\n",
              "    cursor: pointer;\n",
              "    display: none;\n",
              "    fill: var(--fill-color);\n",
              "    height: 32px;\n",
              "    padding: 0;\n",
              "    width: 32px;\n",
              "  }\n",
              "\n",
              "  .colab-df-quickchart:hover {\n",
              "    background-color: var(--hover-bg-color);\n",
              "    box-shadow: 0 1px 2px rgba(60, 64, 67, 0.3), 0 1px 3px 1px rgba(60, 64, 67, 0.15);\n",
              "    fill: var(--button-hover-fill-color);\n",
              "  }\n",
              "\n",
              "  .colab-df-quickchart-complete:disabled,\n",
              "  .colab-df-quickchart-complete:disabled:hover {\n",
              "    background-color: var(--disabled-bg-color);\n",
              "    fill: var(--disabled-fill-color);\n",
              "    box-shadow: none;\n",
              "  }\n",
              "\n",
              "  .colab-df-spinner {\n",
              "    border: 2px solid var(--fill-color);\n",
              "    border-color: transparent;\n",
              "    border-bottom-color: var(--fill-color);\n",
              "    animation:\n",
              "      spin 1s steps(1) infinite;\n",
              "  }\n",
              "\n",
              "  @keyframes spin {\n",
              "    0% {\n",
              "      border-color: transparent;\n",
              "      border-bottom-color: var(--fill-color);\n",
              "      border-left-color: var(--fill-color);\n",
              "    }\n",
              "    20% {\n",
              "      border-color: transparent;\n",
              "      border-left-color: var(--fill-color);\n",
              "      border-top-color: var(--fill-color);\n",
              "    }\n",
              "    30% {\n",
              "      border-color: transparent;\n",
              "      border-left-color: var(--fill-color);\n",
              "      border-top-color: var(--fill-color);\n",
              "      border-right-color: var(--fill-color);\n",
              "    }\n",
              "    40% {\n",
              "      border-color: transparent;\n",
              "      border-right-color: var(--fill-color);\n",
              "      border-top-color: var(--fill-color);\n",
              "    }\n",
              "    60% {\n",
              "      border-color: transparent;\n",
              "      border-right-color: var(--fill-color);\n",
              "    }\n",
              "    80% {\n",
              "      border-color: transparent;\n",
              "      border-right-color: var(--fill-color);\n",
              "      border-bottom-color: var(--fill-color);\n",
              "    }\n",
              "    90% {\n",
              "      border-color: transparent;\n",
              "      border-bottom-color: var(--fill-color);\n",
              "    }\n",
              "  }\n",
              "</style>\n",
              "\n",
              "  <script>\n",
              "    async function quickchart(key) {\n",
              "      const quickchartButtonEl =\n",
              "        document.querySelector('#' + key + ' button');\n",
              "      quickchartButtonEl.disabled = true;  // To prevent multiple clicks.\n",
              "      quickchartButtonEl.classList.add('colab-df-spinner');\n",
              "      try {\n",
              "        const charts = await google.colab.kernel.invokeFunction(\n",
              "            'suggestCharts', [key], {});\n",
              "      } catch (error) {\n",
              "        console.error('Error during call to suggestCharts:', error);\n",
              "      }\n",
              "      quickchartButtonEl.classList.remove('colab-df-spinner');\n",
              "      quickchartButtonEl.classList.add('colab-df-quickchart-complete');\n",
              "    }\n",
              "    (() => {\n",
              "      let quickchartButtonEl =\n",
              "        document.querySelector('#df-02aef3a6-33a5-4b89-9a52-12fd9b432bd6 button');\n",
              "      quickchartButtonEl.style.display =\n",
              "        google.colab.kernel.accessAllowed ? 'block' : 'none';\n",
              "    })();\n",
              "  </script>\n",
              "</div>\n",
              "\n",
              "    </div>\n",
              "  </div>\n"
            ],
            "application/vnd.google.colaboratory.intrinsic+json": {
              "type": "dataframe",
              "variable_name": "text",
              "summary": "{\n  \"name\": \"text\",\n  \"rows\": 48598,\n  \"fields\": [\n    {\n      \"column\": \"Unnamed: 0\",\n      \"properties\": {\n        \"dtype\": \"number\",\n        \"std\": 16206,\n        \"min\": 0,\n        \"max\": 55834,\n        \"num_unique_values\": 48598,\n        \"samples\": [\n          30773,\n          12987,\n          52594\n        ],\n        \"semantic_type\": \"\",\n        \"description\": \"\"\n      }\n    },\n    {\n      \"column\": \"id\",\n      \"properties\": {\n        \"dtype\": \"number\",\n        \"std\": 12189,\n        \"min\": 1,\n        \"max\": 45718,\n        \"num_unique_values\": 39463,\n        \"samples\": [\n          45331,\n          3988,\n          9858\n        ],\n        \"semantic_type\": \"\",\n        \"description\": \"\"\n      }\n    },\n    {\n      \"column\": \"Message\",\n      \"properties\": {\n        \"dtype\": \"string\",\n        \"num_unique_values\": 48586,\n        \"samples\": [\n          \"Not very sure eh... neva buy before. U may want to try other software like \\u7f8e\\u56fe\\u79c0\\u79c0, tat one i htink is free\",\n          \"nai...kal hi deni ha\",\n          \"Hello my little party animal! I just thought I'd buzz you as you were with your friends ...*grins*... Reminding you were loved and send a naughty adoring kiss\"\n        ],\n        \"semantic_type\": \"\",\n        \"description\": \"\"\n      }\n    },\n    {\n      \"column\": \"length\",\n      \"properties\": {\n        \"dtype\": \"category\",\n        \"num_unique_values\": 470,\n        \"samples\": [\n          \"43\",\n          \"108\",\n          \"125\"\n        ],\n        \"semantic_type\": \"\",\n        \"description\": \"\"\n      }\n    },\n    {\n      \"column\": \"country\",\n      \"properties\": {\n        \"dtype\": \"category\",\n        \"num_unique_values\": 40,\n        \"samples\": [\n          \"Kenya\",\n          \"Philippines\",\n          \"Bangladesh\"\n        ],\n        \"semantic_type\": \"\",\n        \"description\": \"\"\n      }\n    },\n    {\n      \"column\": \"Date\",\n      \"properties\": {\n        \"dtype\": \"object\",\n        \"num_unique_values\": 27,\n        \"samples\": [\n          \"2011/6\",\n          \"2012/2\",\n          \"2011/8\"\n        ],\n        \"semantic_type\": \"\",\n        \"description\": \"\"\n      }\n    }\n  ]\n}"
            }
          },
          "metadata": {},
          "execution_count": 84
        }
      ]
    },
    {
      "cell_type": "markdown",
      "source": [
        "Checking the size of the dataframe and data types."
      ],
      "metadata": {
        "id": "bKB1JjfKNLHu"
      }
    },
    {
      "cell_type": "code",
      "source": [
        "text.info()"
      ],
      "metadata": {
        "colab": {
          "base_uri": "https://localhost:8080/"
        },
        "id": "s6AXIucTawDh",
        "outputId": "94f3b73f-4675-4e86-e0cf-24c144b996bf"
      },
      "execution_count": 85,
      "outputs": [
        {
          "output_type": "stream",
          "name": "stdout",
          "text": [
            "<class 'pandas.core.frame.DataFrame'>\n",
            "RangeIndex: 48598 entries, 0 to 48597\n",
            "Data columns (total 6 columns):\n",
            " #   Column      Non-Null Count  Dtype \n",
            "---  ------      --------------  ----- \n",
            " 0   Unnamed: 0  48598 non-null  int64 \n",
            " 1   id          48598 non-null  int64 \n",
            " 2   Message     48595 non-null  object\n",
            " 3   length      48598 non-null  object\n",
            " 4   country     48598 non-null  object\n",
            " 5   Date        48598 non-null  object\n",
            "dtypes: int64(2), object(4)\n",
            "memory usage: 2.2+ MB\n"
          ]
        }
      ]
    },
    {
      "cell_type": "markdown",
      "source": [
        "There are 3 fewer data points for the message column than the rest.\n",
        "All columns contain text data except id column, 50K data points."
      ],
      "metadata": {
        "id": "SMNv6DH2N-x9"
      }
    },
    {
      "cell_type": "code",
      "source": [
        "text.describe()"
      ],
      "metadata": {
        "colab": {
          "base_uri": "https://localhost:8080/",
          "height": 297
        },
        "id": "2diKwpJ_ayfE",
        "outputId": "bcd910d8-c7c9-438d-93f9-97d60ae08fe0"
      },
      "execution_count": 86,
      "outputs": [
        {
          "output_type": "execute_result",
          "data": {
            "text/plain": [
              "         Unnamed: 0            id\n",
              "count  48598.000000  48598.000000\n",
              "mean   27138.722355  21106.315342\n",
              "std    16206.056352  12189.313543\n",
              "min        0.000000      1.000000\n",
              "25%    12852.250000  12100.000000\n",
              "50%    26916.500000  18553.000000\n",
              "75%    40080.500000  29964.500000\n",
              "max    55834.000000  45718.000000"
            ],
            "text/html": [
              "\n",
              "  <div id=\"df-0dd5af21-b21c-4653-9dde-6df1cd8735b0\" class=\"colab-df-container\">\n",
              "    <div>\n",
              "<style scoped>\n",
              "    .dataframe tbody tr th:only-of-type {\n",
              "        vertical-align: middle;\n",
              "    }\n",
              "\n",
              "    .dataframe tbody tr th {\n",
              "        vertical-align: top;\n",
              "    }\n",
              "\n",
              "    .dataframe thead th {\n",
              "        text-align: right;\n",
              "    }\n",
              "</style>\n",
              "<table border=\"1\" class=\"dataframe\">\n",
              "  <thead>\n",
              "    <tr style=\"text-align: right;\">\n",
              "      <th></th>\n",
              "      <th>Unnamed: 0</th>\n",
              "      <th>id</th>\n",
              "    </tr>\n",
              "  </thead>\n",
              "  <tbody>\n",
              "    <tr>\n",
              "      <th>count</th>\n",
              "      <td>48598.000000</td>\n",
              "      <td>48598.000000</td>\n",
              "    </tr>\n",
              "    <tr>\n",
              "      <th>mean</th>\n",
              "      <td>27138.722355</td>\n",
              "      <td>21106.315342</td>\n",
              "    </tr>\n",
              "    <tr>\n",
              "      <th>std</th>\n",
              "      <td>16206.056352</td>\n",
              "      <td>12189.313543</td>\n",
              "    </tr>\n",
              "    <tr>\n",
              "      <th>min</th>\n",
              "      <td>0.000000</td>\n",
              "      <td>1.000000</td>\n",
              "    </tr>\n",
              "    <tr>\n",
              "      <th>25%</th>\n",
              "      <td>12852.250000</td>\n",
              "      <td>12100.000000</td>\n",
              "    </tr>\n",
              "    <tr>\n",
              "      <th>50%</th>\n",
              "      <td>26916.500000</td>\n",
              "      <td>18553.000000</td>\n",
              "    </tr>\n",
              "    <tr>\n",
              "      <th>75%</th>\n",
              "      <td>40080.500000</td>\n",
              "      <td>29964.500000</td>\n",
              "    </tr>\n",
              "    <tr>\n",
              "      <th>max</th>\n",
              "      <td>55834.000000</td>\n",
              "      <td>45718.000000</td>\n",
              "    </tr>\n",
              "  </tbody>\n",
              "</table>\n",
              "</div>\n",
              "    <div class=\"colab-df-buttons\">\n",
              "\n",
              "  <div class=\"colab-df-container\">\n",
              "    <button class=\"colab-df-convert\" onclick=\"convertToInteractive('df-0dd5af21-b21c-4653-9dde-6df1cd8735b0')\"\n",
              "            title=\"Convert this dataframe to an interactive table.\"\n",
              "            style=\"display:none;\">\n",
              "\n",
              "  <svg xmlns=\"http://www.w3.org/2000/svg\" height=\"24px\" viewBox=\"0 -960 960 960\">\n",
              "    <path d=\"M120-120v-720h720v720H120Zm60-500h600v-160H180v160Zm220 220h160v-160H400v160Zm0 220h160v-160H400v160ZM180-400h160v-160H180v160Zm440 0h160v-160H620v160ZM180-180h160v-160H180v160Zm440 0h160v-160H620v160Z\"/>\n",
              "  </svg>\n",
              "    </button>\n",
              "\n",
              "  <style>\n",
              "    .colab-df-container {\n",
              "      display:flex;\n",
              "      gap: 12px;\n",
              "    }\n",
              "\n",
              "    .colab-df-convert {\n",
              "      background-color: #E8F0FE;\n",
              "      border: none;\n",
              "      border-radius: 50%;\n",
              "      cursor: pointer;\n",
              "      display: none;\n",
              "      fill: #1967D2;\n",
              "      height: 32px;\n",
              "      padding: 0 0 0 0;\n",
              "      width: 32px;\n",
              "    }\n",
              "\n",
              "    .colab-df-convert:hover {\n",
              "      background-color: #E2EBFA;\n",
              "      box-shadow: 0px 1px 2px rgba(60, 64, 67, 0.3), 0px 1px 3px 1px rgba(60, 64, 67, 0.15);\n",
              "      fill: #174EA6;\n",
              "    }\n",
              "\n",
              "    .colab-df-buttons div {\n",
              "      margin-bottom: 4px;\n",
              "    }\n",
              "\n",
              "    [theme=dark] .colab-df-convert {\n",
              "      background-color: #3B4455;\n",
              "      fill: #D2E3FC;\n",
              "    }\n",
              "\n",
              "    [theme=dark] .colab-df-convert:hover {\n",
              "      background-color: #434B5C;\n",
              "      box-shadow: 0px 1px 3px 1px rgba(0, 0, 0, 0.15);\n",
              "      filter: drop-shadow(0px 1px 2px rgba(0, 0, 0, 0.3));\n",
              "      fill: #FFFFFF;\n",
              "    }\n",
              "  </style>\n",
              "\n",
              "    <script>\n",
              "      const buttonEl =\n",
              "        document.querySelector('#df-0dd5af21-b21c-4653-9dde-6df1cd8735b0 button.colab-df-convert');\n",
              "      buttonEl.style.display =\n",
              "        google.colab.kernel.accessAllowed ? 'block' : 'none';\n",
              "\n",
              "      async function convertToInteractive(key) {\n",
              "        const element = document.querySelector('#df-0dd5af21-b21c-4653-9dde-6df1cd8735b0');\n",
              "        const dataTable =\n",
              "          await google.colab.kernel.invokeFunction('convertToInteractive',\n",
              "                                                    [key], {});\n",
              "        if (!dataTable) return;\n",
              "\n",
              "        const docLinkHtml = 'Like what you see? Visit the ' +\n",
              "          '<a target=\"_blank\" href=https://colab.research.google.com/notebooks/data_table.ipynb>data table notebook</a>'\n",
              "          + ' to learn more about interactive tables.';\n",
              "        element.innerHTML = '';\n",
              "        dataTable['output_type'] = 'display_data';\n",
              "        await google.colab.output.renderOutput(dataTable, element);\n",
              "        const docLink = document.createElement('div');\n",
              "        docLink.innerHTML = docLinkHtml;\n",
              "        element.appendChild(docLink);\n",
              "      }\n",
              "    </script>\n",
              "  </div>\n",
              "\n",
              "\n",
              "<div id=\"df-f7c6b94d-5b7a-45b9-bef6-bcfab63c27a7\">\n",
              "  <button class=\"colab-df-quickchart\" onclick=\"quickchart('df-f7c6b94d-5b7a-45b9-bef6-bcfab63c27a7')\"\n",
              "            title=\"Suggest charts\"\n",
              "            style=\"display:none;\">\n",
              "\n",
              "<svg xmlns=\"http://www.w3.org/2000/svg\" height=\"24px\"viewBox=\"0 0 24 24\"\n",
              "     width=\"24px\">\n",
              "    <g>\n",
              "        <path d=\"M19 3H5c-1.1 0-2 .9-2 2v14c0 1.1.9 2 2 2h14c1.1 0 2-.9 2-2V5c0-1.1-.9-2-2-2zM9 17H7v-7h2v7zm4 0h-2V7h2v10zm4 0h-2v-4h2v4z\"/>\n",
              "    </g>\n",
              "</svg>\n",
              "  </button>\n",
              "\n",
              "<style>\n",
              "  .colab-df-quickchart {\n",
              "      --bg-color: #E8F0FE;\n",
              "      --fill-color: #1967D2;\n",
              "      --hover-bg-color: #E2EBFA;\n",
              "      --hover-fill-color: #174EA6;\n",
              "      --disabled-fill-color: #AAA;\n",
              "      --disabled-bg-color: #DDD;\n",
              "  }\n",
              "\n",
              "  [theme=dark] .colab-df-quickchart {\n",
              "      --bg-color: #3B4455;\n",
              "      --fill-color: #D2E3FC;\n",
              "      --hover-bg-color: #434B5C;\n",
              "      --hover-fill-color: #FFFFFF;\n",
              "      --disabled-bg-color: #3B4455;\n",
              "      --disabled-fill-color: #666;\n",
              "  }\n",
              "\n",
              "  .colab-df-quickchart {\n",
              "    background-color: var(--bg-color);\n",
              "    border: none;\n",
              "    border-radius: 50%;\n",
              "    cursor: pointer;\n",
              "    display: none;\n",
              "    fill: var(--fill-color);\n",
              "    height: 32px;\n",
              "    padding: 0;\n",
              "    width: 32px;\n",
              "  }\n",
              "\n",
              "  .colab-df-quickchart:hover {\n",
              "    background-color: var(--hover-bg-color);\n",
              "    box-shadow: 0 1px 2px rgba(60, 64, 67, 0.3), 0 1px 3px 1px rgba(60, 64, 67, 0.15);\n",
              "    fill: var(--button-hover-fill-color);\n",
              "  }\n",
              "\n",
              "  .colab-df-quickchart-complete:disabled,\n",
              "  .colab-df-quickchart-complete:disabled:hover {\n",
              "    background-color: var(--disabled-bg-color);\n",
              "    fill: var(--disabled-fill-color);\n",
              "    box-shadow: none;\n",
              "  }\n",
              "\n",
              "  .colab-df-spinner {\n",
              "    border: 2px solid var(--fill-color);\n",
              "    border-color: transparent;\n",
              "    border-bottom-color: var(--fill-color);\n",
              "    animation:\n",
              "      spin 1s steps(1) infinite;\n",
              "  }\n",
              "\n",
              "  @keyframes spin {\n",
              "    0% {\n",
              "      border-color: transparent;\n",
              "      border-bottom-color: var(--fill-color);\n",
              "      border-left-color: var(--fill-color);\n",
              "    }\n",
              "    20% {\n",
              "      border-color: transparent;\n",
              "      border-left-color: var(--fill-color);\n",
              "      border-top-color: var(--fill-color);\n",
              "    }\n",
              "    30% {\n",
              "      border-color: transparent;\n",
              "      border-left-color: var(--fill-color);\n",
              "      border-top-color: var(--fill-color);\n",
              "      border-right-color: var(--fill-color);\n",
              "    }\n",
              "    40% {\n",
              "      border-color: transparent;\n",
              "      border-right-color: var(--fill-color);\n",
              "      border-top-color: var(--fill-color);\n",
              "    }\n",
              "    60% {\n",
              "      border-color: transparent;\n",
              "      border-right-color: var(--fill-color);\n",
              "    }\n",
              "    80% {\n",
              "      border-color: transparent;\n",
              "      border-right-color: var(--fill-color);\n",
              "      border-bottom-color: var(--fill-color);\n",
              "    }\n",
              "    90% {\n",
              "      border-color: transparent;\n",
              "      border-bottom-color: var(--fill-color);\n",
              "    }\n",
              "  }\n",
              "</style>\n",
              "\n",
              "  <script>\n",
              "    async function quickchart(key) {\n",
              "      const quickchartButtonEl =\n",
              "        document.querySelector('#' + key + ' button');\n",
              "      quickchartButtonEl.disabled = true;  // To prevent multiple clicks.\n",
              "      quickchartButtonEl.classList.add('colab-df-spinner');\n",
              "      try {\n",
              "        const charts = await google.colab.kernel.invokeFunction(\n",
              "            'suggestCharts', [key], {});\n",
              "      } catch (error) {\n",
              "        console.error('Error during call to suggestCharts:', error);\n",
              "      }\n",
              "      quickchartButtonEl.classList.remove('colab-df-spinner');\n",
              "      quickchartButtonEl.classList.add('colab-df-quickchart-complete');\n",
              "    }\n",
              "    (() => {\n",
              "      let quickchartButtonEl =\n",
              "        document.querySelector('#df-f7c6b94d-5b7a-45b9-bef6-bcfab63c27a7 button');\n",
              "      quickchartButtonEl.style.display =\n",
              "        google.colab.kernel.accessAllowed ? 'block' : 'none';\n",
              "    })();\n",
              "  </script>\n",
              "</div>\n",
              "\n",
              "    </div>\n",
              "  </div>\n"
            ],
            "application/vnd.google.colaboratory.intrinsic+json": {
              "type": "dataframe",
              "summary": "{\n  \"name\": \"text\",\n  \"rows\": 8,\n  \"fields\": [\n    {\n      \"column\": \"Unnamed: 0\",\n      \"properties\": {\n        \"dtype\": \"number\",\n        \"std\": 18889.79822165534,\n        \"min\": 0.0,\n        \"max\": 55834.0,\n        \"num_unique_values\": 8,\n        \"samples\": [\n          27138.722354829417,\n          26916.5,\n          48598.0\n        ],\n        \"semantic_type\": \"\",\n        \"description\": \"\"\n      }\n    },\n    {\n      \"column\": \"id\",\n      \"properties\": {\n        \"dtype\": \"number\",\n        \"std\": 16926.85707345717,\n        \"min\": 1.0,\n        \"max\": 48598.0,\n        \"num_unique_values\": 8,\n        \"samples\": [\n          21106.315342195154,\n          18553.0,\n          48598.0\n        ],\n        \"semantic_type\": \"\",\n        \"description\": \"\"\n      }\n    }\n  ]\n}"
            }
          },
          "metadata": {},
          "execution_count": 86
        }
      ]
    },
    {
      "cell_type": "markdown",
      "source": [
        "Shows that Message has 3 missing rows."
      ],
      "metadata": {
        "id": "2FeCvvxMPIeO"
      }
    },
    {
      "cell_type": "code",
      "source": [
        "text.isna().sum()"
      ],
      "metadata": {
        "colab": {
          "base_uri": "https://localhost:8080/",
          "height": 269
        },
        "id": "mbDc4gSSa0sT",
        "outputId": "f9f5f230-df8d-4703-e08a-17ad7cd4a7cd"
      },
      "execution_count": 87,
      "outputs": [
        {
          "output_type": "execute_result",
          "data": {
            "text/plain": [
              "Unnamed: 0    0\n",
              "id            0\n",
              "Message       3\n",
              "length        0\n",
              "country       0\n",
              "Date          0\n",
              "dtype: int64"
            ],
            "text/html": [
              "<div>\n",
              "<style scoped>\n",
              "    .dataframe tbody tr th:only-of-type {\n",
              "        vertical-align: middle;\n",
              "    }\n",
              "\n",
              "    .dataframe tbody tr th {\n",
              "        vertical-align: top;\n",
              "    }\n",
              "\n",
              "    .dataframe thead th {\n",
              "        text-align: right;\n",
              "    }\n",
              "</style>\n",
              "<table border=\"1\" class=\"dataframe\">\n",
              "  <thead>\n",
              "    <tr style=\"text-align: right;\">\n",
              "      <th></th>\n",
              "      <th>0</th>\n",
              "    </tr>\n",
              "  </thead>\n",
              "  <tbody>\n",
              "    <tr>\n",
              "      <th>Unnamed: 0</th>\n",
              "      <td>0</td>\n",
              "    </tr>\n",
              "    <tr>\n",
              "      <th>id</th>\n",
              "      <td>0</td>\n",
              "    </tr>\n",
              "    <tr>\n",
              "      <th>Message</th>\n",
              "      <td>3</td>\n",
              "    </tr>\n",
              "    <tr>\n",
              "      <th>length</th>\n",
              "      <td>0</td>\n",
              "    </tr>\n",
              "    <tr>\n",
              "      <th>country</th>\n",
              "      <td>0</td>\n",
              "    </tr>\n",
              "    <tr>\n",
              "      <th>Date</th>\n",
              "      <td>0</td>\n",
              "    </tr>\n",
              "  </tbody>\n",
              "</table>\n",
              "</div><br><label><b>dtype:</b> int64</label>"
            ]
          },
          "metadata": {},
          "execution_count": 87
        }
      ]
    },
    {
      "cell_type": "markdown",
      "source": [
        "## **Preprocessing Data**"
      ],
      "metadata": {
        "id": "1AB7F4fMPUTm"
      }
    },
    {
      "cell_type": "markdown",
      "source": [
        "To classify messages based on sentiment, I will do the following:\n",
        "\n",
        "*   text preprocessing with regex and NLTK\n",
        "*   exploratory data analysis with seaborn and pandas\n",
        "*   sentiment analysis using bag-of-words and Naive Bayes Classifier models\n"
      ],
      "metadata": {
        "id": "BhpGaKctPX9F"
      }
    },
    {
      "cell_type": "markdown",
      "source": [
        "\n",
        "First, the text needs to be cleaned up, there is a lot of noise in the messages data points which provide no information and jumble up words.\n",
        "\n",
        "\n",
        "Had to remove:\n",
        "\n",
        "\n",
        "*   3 empty messages\n",
        "*   punctuation\n",
        "*   stopwords\n",
        "*   URLs\n",
        "*   HTMLs\n",
        "\n",
        "\n",
        "Normalise text using lower casing.\n",
        "\n",
        "\n"
      ],
      "metadata": {
        "id": "29V-TfSZSPBY"
      }
    },
    {
      "cell_type": "markdown",
      "source": [
        "Remove 3 empty messages with dropna()"
      ],
      "metadata": {
        "id": "GaDXaZMPVFUV"
      }
    },
    {
      "cell_type": "code",
      "source": [
        "text = text.dropna()"
      ],
      "metadata": {
        "id": "yAbMchYta3c4"
      },
      "execution_count": 88,
      "outputs": []
    },
    {
      "cell_type": "code",
      "source": [
        "len(text)"
      ],
      "metadata": {
        "colab": {
          "base_uri": "https://localhost:8080/"
        },
        "id": "SsE8lmw7a5V3",
        "outputId": "e18a8706-8ea5-4767-a3a7-270f9f5294fb"
      },
      "execution_count": 89,
      "outputs": [
        {
          "output_type": "execute_result",
          "data": {
            "text/plain": [
              "48595"
            ]
          },
          "metadata": {},
          "execution_count": 89
        }
      ]
    },
    {
      "cell_type": "code",
      "source": [
        "text.shape"
      ],
      "metadata": {
        "colab": {
          "base_uri": "https://localhost:8080/"
        },
        "id": "xUG7VjBya-j8",
        "outputId": "f338c89c-3b9e-40ed-efdb-66ba3e6a390f"
      },
      "execution_count": 90,
      "outputs": [
        {
          "output_type": "execute_result",
          "data": {
            "text/plain": [
              "(48595, 6)"
            ]
          },
          "metadata": {},
          "execution_count": 90
        }
      ]
    },
    {
      "cell_type": "markdown",
      "source": [
        "Use str() and lower() methods to make all the text lower case, to every string in each column."
      ],
      "metadata": {
        "id": "6yY50KeOVJ-T"
      }
    },
    {
      "cell_type": "code",
      "source": [
        "text['Message_lowercase'] = text['Message'].str.lower()"
      ],
      "metadata": {
        "id": "mzc0O3vxbFni"
      },
      "execution_count": 91,
      "outputs": []
    },
    {
      "cell_type": "code",
      "source": [
        "text.head(3)"
      ],
      "metadata": {
        "colab": {
          "base_uri": "https://localhost:8080/",
          "height": 142
        },
        "id": "nl5qIg3if1oJ",
        "outputId": "b06429c5-9bc4-4c9f-d1d7-3b8e95534aec"
      },
      "execution_count": 13,
      "outputs": [
        {
          "output_type": "execute_result",
          "data": {
            "text/plain": [
              "   Unnamed: 0     id                                            Message  \\\n",
              "0           0  10120                              Bugis oso near wat...   \n",
              "1           1  10121  Go until jurong point, crazy.. Available only ...   \n",
              "2           2  10122     I dunno until when... Lets go learn pilates...   \n",
              "\n",
              "  length country    Date                                  Message_lowercase  \n",
              "0     21      SG  2003/4                              bugis oso near wat...  \n",
              "1    111      SG  2003/4  go until jurong point, crazy.. available only ...  \n",
              "2     46      SG  2003/4     i dunno until when... lets go learn pilates...  "
            ],
            "text/html": [
              "\n",
              "  <div id=\"df-c7f7c3fb-b4c4-4059-8bf0-90bb39e1d601\" class=\"colab-df-container\">\n",
              "    <div>\n",
              "<style scoped>\n",
              "    .dataframe tbody tr th:only-of-type {\n",
              "        vertical-align: middle;\n",
              "    }\n",
              "\n",
              "    .dataframe tbody tr th {\n",
              "        vertical-align: top;\n",
              "    }\n",
              "\n",
              "    .dataframe thead th {\n",
              "        text-align: right;\n",
              "    }\n",
              "</style>\n",
              "<table border=\"1\" class=\"dataframe\">\n",
              "  <thead>\n",
              "    <tr style=\"text-align: right;\">\n",
              "      <th></th>\n",
              "      <th>Unnamed: 0</th>\n",
              "      <th>id</th>\n",
              "      <th>Message</th>\n",
              "      <th>length</th>\n",
              "      <th>country</th>\n",
              "      <th>Date</th>\n",
              "      <th>Message_lowercase</th>\n",
              "    </tr>\n",
              "  </thead>\n",
              "  <tbody>\n",
              "    <tr>\n",
              "      <th>0</th>\n",
              "      <td>0</td>\n",
              "      <td>10120</td>\n",
              "      <td>Bugis oso near wat...</td>\n",
              "      <td>21</td>\n",
              "      <td>SG</td>\n",
              "      <td>2003/4</td>\n",
              "      <td>bugis oso near wat...</td>\n",
              "    </tr>\n",
              "    <tr>\n",
              "      <th>1</th>\n",
              "      <td>1</td>\n",
              "      <td>10121</td>\n",
              "      <td>Go until jurong point, crazy.. Available only ...</td>\n",
              "      <td>111</td>\n",
              "      <td>SG</td>\n",
              "      <td>2003/4</td>\n",
              "      <td>go until jurong point, crazy.. available only ...</td>\n",
              "    </tr>\n",
              "    <tr>\n",
              "      <th>2</th>\n",
              "      <td>2</td>\n",
              "      <td>10122</td>\n",
              "      <td>I dunno until when... Lets go learn pilates...</td>\n",
              "      <td>46</td>\n",
              "      <td>SG</td>\n",
              "      <td>2003/4</td>\n",
              "      <td>i dunno until when... lets go learn pilates...</td>\n",
              "    </tr>\n",
              "  </tbody>\n",
              "</table>\n",
              "</div>\n",
              "    <div class=\"colab-df-buttons\">\n",
              "\n",
              "  <div class=\"colab-df-container\">\n",
              "    <button class=\"colab-df-convert\" onclick=\"convertToInteractive('df-c7f7c3fb-b4c4-4059-8bf0-90bb39e1d601')\"\n",
              "            title=\"Convert this dataframe to an interactive table.\"\n",
              "            style=\"display:none;\">\n",
              "\n",
              "  <svg xmlns=\"http://www.w3.org/2000/svg\" height=\"24px\" viewBox=\"0 -960 960 960\">\n",
              "    <path d=\"M120-120v-720h720v720H120Zm60-500h600v-160H180v160Zm220 220h160v-160H400v160Zm0 220h160v-160H400v160ZM180-400h160v-160H180v160Zm440 0h160v-160H620v160ZM180-180h160v-160H180v160Zm440 0h160v-160H620v160Z\"/>\n",
              "  </svg>\n",
              "    </button>\n",
              "\n",
              "  <style>\n",
              "    .colab-df-container {\n",
              "      display:flex;\n",
              "      gap: 12px;\n",
              "    }\n",
              "\n",
              "    .colab-df-convert {\n",
              "      background-color: #E8F0FE;\n",
              "      border: none;\n",
              "      border-radius: 50%;\n",
              "      cursor: pointer;\n",
              "      display: none;\n",
              "      fill: #1967D2;\n",
              "      height: 32px;\n",
              "      padding: 0 0 0 0;\n",
              "      width: 32px;\n",
              "    }\n",
              "\n",
              "    .colab-df-convert:hover {\n",
              "      background-color: #E2EBFA;\n",
              "      box-shadow: 0px 1px 2px rgba(60, 64, 67, 0.3), 0px 1px 3px 1px rgba(60, 64, 67, 0.15);\n",
              "      fill: #174EA6;\n",
              "    }\n",
              "\n",
              "    .colab-df-buttons div {\n",
              "      margin-bottom: 4px;\n",
              "    }\n",
              "\n",
              "    [theme=dark] .colab-df-convert {\n",
              "      background-color: #3B4455;\n",
              "      fill: #D2E3FC;\n",
              "    }\n",
              "\n",
              "    [theme=dark] .colab-df-convert:hover {\n",
              "      background-color: #434B5C;\n",
              "      box-shadow: 0px 1px 3px 1px rgba(0, 0, 0, 0.15);\n",
              "      filter: drop-shadow(0px 1px 2px rgba(0, 0, 0, 0.3));\n",
              "      fill: #FFFFFF;\n",
              "    }\n",
              "  </style>\n",
              "\n",
              "    <script>\n",
              "      const buttonEl =\n",
              "        document.querySelector('#df-c7f7c3fb-b4c4-4059-8bf0-90bb39e1d601 button.colab-df-convert');\n",
              "      buttonEl.style.display =\n",
              "        google.colab.kernel.accessAllowed ? 'block' : 'none';\n",
              "\n",
              "      async function convertToInteractive(key) {\n",
              "        const element = document.querySelector('#df-c7f7c3fb-b4c4-4059-8bf0-90bb39e1d601');\n",
              "        const dataTable =\n",
              "          await google.colab.kernel.invokeFunction('convertToInteractive',\n",
              "                                                    [key], {});\n",
              "        if (!dataTable) return;\n",
              "\n",
              "        const docLinkHtml = 'Like what you see? Visit the ' +\n",
              "          '<a target=\"_blank\" href=https://colab.research.google.com/notebooks/data_table.ipynb>data table notebook</a>'\n",
              "          + ' to learn more about interactive tables.';\n",
              "        element.innerHTML = '';\n",
              "        dataTable['output_type'] = 'display_data';\n",
              "        await google.colab.output.renderOutput(dataTable, element);\n",
              "        const docLink = document.createElement('div');\n",
              "        docLink.innerHTML = docLinkHtml;\n",
              "        element.appendChild(docLink);\n",
              "      }\n",
              "    </script>\n",
              "  </div>\n",
              "\n",
              "\n",
              "<div id=\"df-69647251-981a-459c-a5ad-108f50396fa4\">\n",
              "  <button class=\"colab-df-quickchart\" onclick=\"quickchart('df-69647251-981a-459c-a5ad-108f50396fa4')\"\n",
              "            title=\"Suggest charts\"\n",
              "            style=\"display:none;\">\n",
              "\n",
              "<svg xmlns=\"http://www.w3.org/2000/svg\" height=\"24px\"viewBox=\"0 0 24 24\"\n",
              "     width=\"24px\">\n",
              "    <g>\n",
              "        <path d=\"M19 3H5c-1.1 0-2 .9-2 2v14c0 1.1.9 2 2 2h14c1.1 0 2-.9 2-2V5c0-1.1-.9-2-2-2zM9 17H7v-7h2v7zm4 0h-2V7h2v10zm4 0h-2v-4h2v4z\"/>\n",
              "    </g>\n",
              "</svg>\n",
              "  </button>\n",
              "\n",
              "<style>\n",
              "  .colab-df-quickchart {\n",
              "      --bg-color: #E8F0FE;\n",
              "      --fill-color: #1967D2;\n",
              "      --hover-bg-color: #E2EBFA;\n",
              "      --hover-fill-color: #174EA6;\n",
              "      --disabled-fill-color: #AAA;\n",
              "      --disabled-bg-color: #DDD;\n",
              "  }\n",
              "\n",
              "  [theme=dark] .colab-df-quickchart {\n",
              "      --bg-color: #3B4455;\n",
              "      --fill-color: #D2E3FC;\n",
              "      --hover-bg-color: #434B5C;\n",
              "      --hover-fill-color: #FFFFFF;\n",
              "      --disabled-bg-color: #3B4455;\n",
              "      --disabled-fill-color: #666;\n",
              "  }\n",
              "\n",
              "  .colab-df-quickchart {\n",
              "    background-color: var(--bg-color);\n",
              "    border: none;\n",
              "    border-radius: 50%;\n",
              "    cursor: pointer;\n",
              "    display: none;\n",
              "    fill: var(--fill-color);\n",
              "    height: 32px;\n",
              "    padding: 0;\n",
              "    width: 32px;\n",
              "  }\n",
              "\n",
              "  .colab-df-quickchart:hover {\n",
              "    background-color: var(--hover-bg-color);\n",
              "    box-shadow: 0 1px 2px rgba(60, 64, 67, 0.3), 0 1px 3px 1px rgba(60, 64, 67, 0.15);\n",
              "    fill: var(--button-hover-fill-color);\n",
              "  }\n",
              "\n",
              "  .colab-df-quickchart-complete:disabled,\n",
              "  .colab-df-quickchart-complete:disabled:hover {\n",
              "    background-color: var(--disabled-bg-color);\n",
              "    fill: var(--disabled-fill-color);\n",
              "    box-shadow: none;\n",
              "  }\n",
              "\n",
              "  .colab-df-spinner {\n",
              "    border: 2px solid var(--fill-color);\n",
              "    border-color: transparent;\n",
              "    border-bottom-color: var(--fill-color);\n",
              "    animation:\n",
              "      spin 1s steps(1) infinite;\n",
              "  }\n",
              "\n",
              "  @keyframes spin {\n",
              "    0% {\n",
              "      border-color: transparent;\n",
              "      border-bottom-color: var(--fill-color);\n",
              "      border-left-color: var(--fill-color);\n",
              "    }\n",
              "    20% {\n",
              "      border-color: transparent;\n",
              "      border-left-color: var(--fill-color);\n",
              "      border-top-color: var(--fill-color);\n",
              "    }\n",
              "    30% {\n",
              "      border-color: transparent;\n",
              "      border-left-color: var(--fill-color);\n",
              "      border-top-color: var(--fill-color);\n",
              "      border-right-color: var(--fill-color);\n",
              "    }\n",
              "    40% {\n",
              "      border-color: transparent;\n",
              "      border-right-color: var(--fill-color);\n",
              "      border-top-color: var(--fill-color);\n",
              "    }\n",
              "    60% {\n",
              "      border-color: transparent;\n",
              "      border-right-color: var(--fill-color);\n",
              "    }\n",
              "    80% {\n",
              "      border-color: transparent;\n",
              "      border-right-color: var(--fill-color);\n",
              "      border-bottom-color: var(--fill-color);\n",
              "    }\n",
              "    90% {\n",
              "      border-color: transparent;\n",
              "      border-bottom-color: var(--fill-color);\n",
              "    }\n",
              "  }\n",
              "</style>\n",
              "\n",
              "  <script>\n",
              "    async function quickchart(key) {\n",
              "      const quickchartButtonEl =\n",
              "        document.querySelector('#' + key + ' button');\n",
              "      quickchartButtonEl.disabled = true;  // To prevent multiple clicks.\n",
              "      quickchartButtonEl.classList.add('colab-df-spinner');\n",
              "      try {\n",
              "        const charts = await google.colab.kernel.invokeFunction(\n",
              "            'suggestCharts', [key], {});\n",
              "      } catch (error) {\n",
              "        console.error('Error during call to suggestCharts:', error);\n",
              "      }\n",
              "      quickchartButtonEl.classList.remove('colab-df-spinner');\n",
              "      quickchartButtonEl.classList.add('colab-df-quickchart-complete');\n",
              "    }\n",
              "    (() => {\n",
              "      let quickchartButtonEl =\n",
              "        document.querySelector('#df-69647251-981a-459c-a5ad-108f50396fa4 button');\n",
              "      quickchartButtonEl.style.display =\n",
              "        google.colab.kernel.accessAllowed ? 'block' : 'none';\n",
              "    })();\n",
              "  </script>\n",
              "</div>\n",
              "\n",
              "    </div>\n",
              "  </div>\n"
            ],
            "application/vnd.google.colaboratory.intrinsic+json": {
              "type": "dataframe",
              "variable_name": "text",
              "summary": "{\n  \"name\": \"text\",\n  \"rows\": 48595,\n  \"fields\": [\n    {\n      \"column\": \"Unnamed: 0\",\n      \"properties\": {\n        \"dtype\": \"number\",\n        \"std\": 16205,\n        \"min\": 0,\n        \"max\": 55834,\n        \"num_unique_values\": 48595,\n        \"samples\": [\n          45801,\n          20975,\n          16397\n        ],\n        \"semantic_type\": \"\",\n        \"description\": \"\"\n      }\n    },\n    {\n      \"column\": \"id\",\n      \"properties\": {\n        \"dtype\": \"number\",\n        \"std\": 12189,\n        \"min\": 1,\n        \"max\": 45718,\n        \"num_unique_values\": 39462,\n        \"samples\": [\n          43951,\n          3990,\n          9860\n        ],\n        \"semantic_type\": \"\",\n        \"description\": \"\"\n      }\n    },\n    {\n      \"column\": \"Message\",\n      \"properties\": {\n        \"dtype\": \"string\",\n        \"num_unique_values\": 48586,\n        \"samples\": [\n          \"Not very sure eh... neva buy before. U may want to try other software like \\u7f8e\\u56fe\\u79c0\\u79c0, tat one i htink is free\",\n          \"nai...kal hi deni ha\",\n          \"Hello my little party animal! I just thought I'd buzz you as you were with your friends ...*grins*... Reminding you were loved and send a naughty adoring kiss\"\n        ],\n        \"semantic_type\": \"\",\n        \"description\": \"\"\n      }\n    },\n    {\n      \"column\": \"length\",\n      \"properties\": {\n        \"dtype\": \"category\",\n        \"num_unique_values\": 470,\n        \"samples\": [\n          \"43\",\n          \"108\",\n          \"125\"\n        ],\n        \"semantic_type\": \"\",\n        \"description\": \"\"\n      }\n    },\n    {\n      \"column\": \"country\",\n      \"properties\": {\n        \"dtype\": \"category\",\n        \"num_unique_values\": 40,\n        \"samples\": [\n          \"Kenya\",\n          \"Philippines\",\n          \"Bangladesh\"\n        ],\n        \"semantic_type\": \"\",\n        \"description\": \"\"\n      }\n    },\n    {\n      \"column\": \"Date\",\n      \"properties\": {\n        \"dtype\": \"object\",\n        \"num_unique_values\": 27,\n        \"samples\": [\n          \"2011/6\",\n          \"2012/2\",\n          \"2011/8\"\n        ],\n        \"semantic_type\": \"\",\n        \"description\": \"\"\n      }\n    },\n    {\n      \"column\": \"Message_lowercase\",\n      \"properties\": {\n        \"dtype\": \"string\",\n        \"num_unique_values\": 48354,\n        \"samples\": [\n          \"got bread in e toaster...\",\n          \"ll quit my job at e end of tis month... so sian of workin oredi.. u still workin?\",\n          \"wa so many lol... no arh i king then.u shld be queen mah! lol... sofat fat also =p... so wat time u intending to sleep?\"\n        ],\n        \"semantic_type\": \"\",\n        \"description\": \"\"\n      }\n    }\n  ]\n}"
            }
          },
          "metadata": {},
          "execution_count": 13
        }
      ]
    },
    {
      "cell_type": "markdown",
      "source": [
        "Remove any punctuation using str() and replace() methods with '[^\\w\\s]' to label all punctuation, '' to replace it with nothing."
      ],
      "metadata": {
        "id": "xAtBeQXIVW28"
      }
    },
    {
      "cell_type": "code",
      "source": [
        "text['Message_lowercase'] = text['Message_lowercase'].str.replace('[^\\w\\s]','')"
      ],
      "metadata": {
        "id": "JhqibWwkguqw"
      },
      "execution_count": 92,
      "outputs": []
    },
    {
      "cell_type": "code",
      "source": [
        "from nltk.corpus import stopwords"
      ],
      "metadata": {
        "id": "_fFJvuiiheVP"
      },
      "execution_count": 15,
      "outputs": []
    },
    {
      "cell_type": "code",
      "source": [
        "nltk.download('stopwords')"
      ],
      "metadata": {
        "colab": {
          "base_uri": "https://localhost:8080/"
        },
        "id": "Cb7frD4yi6x-",
        "outputId": "8494b006-2828-4534-d6cc-a194bad5b3ea"
      },
      "execution_count": 16,
      "outputs": [
        {
          "output_type": "stream",
          "name": "stderr",
          "text": [
            "[nltk_data] Downloading package stopwords to /root/nltk_data...\n",
            "[nltk_data]   Unzipping corpora/stopwords.zip.\n"
          ]
        },
        {
          "output_type": "execute_result",
          "data": {
            "text/plain": [
              "True"
            ]
          },
          "metadata": {},
          "execution_count": 16
        }
      ]
    },
    {
      "cell_type": "markdown",
      "source": [
        "Remove stopwords is one of the most common NLP preprocessing strategies, first checking english stopwords if any information might be lost contextually after their removal."
      ],
      "metadata": {
        "id": "3MQAew_RWZlg"
      }
    },
    {
      "cell_type": "code",
      "source": [
        "stop_words = set(stopwords.words('english'))"
      ],
      "metadata": {
        "id": "KzWsZ7bliIo0"
      },
      "execution_count": 17,
      "outputs": []
    },
    {
      "cell_type": "code",
      "source": [
        "\", \".join(stopwords.words('english'))"
      ],
      "metadata": {
        "colab": {
          "base_uri": "https://localhost:8080/",
          "height": 171
        },
        "id": "76yqN_bPi9F9",
        "outputId": "37c7052e-30f1-4a03-ae29-573f85339f56"
      },
      "execution_count": 18,
      "outputs": [
        {
          "output_type": "execute_result",
          "data": {
            "text/plain": [
              "\"i, me, my, myself, we, our, ours, ourselves, you, you're, you've, you'll, you'd, your, yours, yourself, yourselves, he, him, his, himself, she, she's, her, hers, herself, it, it's, its, itself, they, them, their, theirs, themselves, what, which, who, whom, this, that, that'll, these, those, am, is, are, was, were, be, been, being, have, has, had, having, do, does, did, doing, a, an, the, and, but, if, or, because, as, until, while, of, at, by, for, with, about, against, between, into, through, during, before, after, above, below, to, from, up, down, in, out, on, off, over, under, again, further, then, once, here, there, when, where, why, how, all, any, both, each, few, more, most, other, some, such, no, nor, not, only, own, same, so, than, too, very, s, t, can, will, just, don, don't, should, should've, now, d, ll, m, o, re, ve, y, ain, aren, aren't, couldn, couldn't, didn, didn't, doesn, doesn't, hadn, hadn't, hasn, hasn't, haven, haven't, isn, isn't, ma, mightn, mightn't, mustn, mustn't, needn, needn't, shan, shan't, shouldn, shouldn't, wasn, wasn't, weren, weren't, won, won't, wouldn, wouldn't\""
            ],
            "application/vnd.google.colaboratory.intrinsic+json": {
              "type": "string"
            }
          },
          "metadata": {},
          "execution_count": 18
        }
      ]
    },
    {
      "cell_type": "markdown",
      "source": [
        "Since removing some of these words might cause loss of information, they will be kept."
      ],
      "metadata": {
        "id": "uQmGh-mTWoDu"
      }
    },
    {
      "cell_type": "markdown",
      "source": [
        "Remove HTMLs, use regular expression and a function to remove HTML pattern using , apply to the message column with lambda.\n",
        "\n",
        "Identify all instances of URL with '<.*?>' and replace with ''."
      ],
      "metadata": {
        "id": "yVKnEI23Ws6d"
      }
    },
    {
      "cell_type": "code",
      "source": [
        "def remove_html(text):\n",
        "  html_pattern = re.compile('<.*?>')\n",
        "  return html_pattern.sub(r'', text)"
      ],
      "metadata": {
        "id": "EF3FU6mRjRIo"
      },
      "execution_count": 93,
      "outputs": []
    },
    {
      "cell_type": "code",
      "source": [
        "text['message_clean'] = text['Message_lowercase'].apply(lambda x: remove_html(x))"
      ],
      "metadata": {
        "id": "LPwHttSr3gJ5"
      },
      "execution_count": 94,
      "outputs": []
    },
    {
      "cell_type": "code",
      "source": [
        "text.head(5)"
      ],
      "metadata": {
        "colab": {
          "base_uri": "https://localhost:8080/",
          "height": 272
        },
        "id": "R1FOEPRN3sZd",
        "outputId": "7e2a8ac8-5322-400c-dc39-a631175b831e"
      },
      "execution_count": 21,
      "outputs": [
        {
          "output_type": "execute_result",
          "data": {
            "text/plain": [
              "   Unnamed: 0     id                                            Message  \\\n",
              "0           0  10120                              Bugis oso near wat...   \n",
              "1           1  10121  Go until jurong point, crazy.. Available only ...   \n",
              "2           2  10122     I dunno until when... Lets go learn pilates...   \n",
              "3           3  10123  Den only weekdays got special price... Haiz......   \n",
              "4           4  10124                             Meet after lunch la...   \n",
              "\n",
              "  length country    Date                                  Message_lowercase  \\\n",
              "0     21      SG  2003/4                              bugis oso near wat...   \n",
              "1    111      SG  2003/4  go until jurong point, crazy.. available only ...   \n",
              "2     46      SG  2003/4     i dunno until when... lets go learn pilates...   \n",
              "3    140      SG  2003/4  den only weekdays got special price... haiz......   \n",
              "4     22      SG  2003/4                             meet after lunch la...   \n",
              "\n",
              "                                       message_clean  \n",
              "0                              bugis oso near wat...  \n",
              "1  go until jurong point, crazy.. available only ...  \n",
              "2     i dunno until when... lets go learn pilates...  \n",
              "3  den only weekdays got special price... haiz......  \n",
              "4                             meet after lunch la...  "
            ],
            "text/html": [
              "\n",
              "  <div id=\"df-70a9c939-6ce5-4f3f-9e3c-5366fa68b426\" class=\"colab-df-container\">\n",
              "    <div>\n",
              "<style scoped>\n",
              "    .dataframe tbody tr th:only-of-type {\n",
              "        vertical-align: middle;\n",
              "    }\n",
              "\n",
              "    .dataframe tbody tr th {\n",
              "        vertical-align: top;\n",
              "    }\n",
              "\n",
              "    .dataframe thead th {\n",
              "        text-align: right;\n",
              "    }\n",
              "</style>\n",
              "<table border=\"1\" class=\"dataframe\">\n",
              "  <thead>\n",
              "    <tr style=\"text-align: right;\">\n",
              "      <th></th>\n",
              "      <th>Unnamed: 0</th>\n",
              "      <th>id</th>\n",
              "      <th>Message</th>\n",
              "      <th>length</th>\n",
              "      <th>country</th>\n",
              "      <th>Date</th>\n",
              "      <th>Message_lowercase</th>\n",
              "      <th>message_clean</th>\n",
              "    </tr>\n",
              "  </thead>\n",
              "  <tbody>\n",
              "    <tr>\n",
              "      <th>0</th>\n",
              "      <td>0</td>\n",
              "      <td>10120</td>\n",
              "      <td>Bugis oso near wat...</td>\n",
              "      <td>21</td>\n",
              "      <td>SG</td>\n",
              "      <td>2003/4</td>\n",
              "      <td>bugis oso near wat...</td>\n",
              "      <td>bugis oso near wat...</td>\n",
              "    </tr>\n",
              "    <tr>\n",
              "      <th>1</th>\n",
              "      <td>1</td>\n",
              "      <td>10121</td>\n",
              "      <td>Go until jurong point, crazy.. Available only ...</td>\n",
              "      <td>111</td>\n",
              "      <td>SG</td>\n",
              "      <td>2003/4</td>\n",
              "      <td>go until jurong point, crazy.. available only ...</td>\n",
              "      <td>go until jurong point, crazy.. available only ...</td>\n",
              "    </tr>\n",
              "    <tr>\n",
              "      <th>2</th>\n",
              "      <td>2</td>\n",
              "      <td>10122</td>\n",
              "      <td>I dunno until when... Lets go learn pilates...</td>\n",
              "      <td>46</td>\n",
              "      <td>SG</td>\n",
              "      <td>2003/4</td>\n",
              "      <td>i dunno until when... lets go learn pilates...</td>\n",
              "      <td>i dunno until when... lets go learn pilates...</td>\n",
              "    </tr>\n",
              "    <tr>\n",
              "      <th>3</th>\n",
              "      <td>3</td>\n",
              "      <td>10123</td>\n",
              "      <td>Den only weekdays got special price... Haiz......</td>\n",
              "      <td>140</td>\n",
              "      <td>SG</td>\n",
              "      <td>2003/4</td>\n",
              "      <td>den only weekdays got special price... haiz......</td>\n",
              "      <td>den only weekdays got special price... haiz......</td>\n",
              "    </tr>\n",
              "    <tr>\n",
              "      <th>4</th>\n",
              "      <td>4</td>\n",
              "      <td>10124</td>\n",
              "      <td>Meet after lunch la...</td>\n",
              "      <td>22</td>\n",
              "      <td>SG</td>\n",
              "      <td>2003/4</td>\n",
              "      <td>meet after lunch la...</td>\n",
              "      <td>meet after lunch la...</td>\n",
              "    </tr>\n",
              "  </tbody>\n",
              "</table>\n",
              "</div>\n",
              "    <div class=\"colab-df-buttons\">\n",
              "\n",
              "  <div class=\"colab-df-container\">\n",
              "    <button class=\"colab-df-convert\" onclick=\"convertToInteractive('df-70a9c939-6ce5-4f3f-9e3c-5366fa68b426')\"\n",
              "            title=\"Convert this dataframe to an interactive table.\"\n",
              "            style=\"display:none;\">\n",
              "\n",
              "  <svg xmlns=\"http://www.w3.org/2000/svg\" height=\"24px\" viewBox=\"0 -960 960 960\">\n",
              "    <path d=\"M120-120v-720h720v720H120Zm60-500h600v-160H180v160Zm220 220h160v-160H400v160Zm0 220h160v-160H400v160ZM180-400h160v-160H180v160Zm440 0h160v-160H620v160ZM180-180h160v-160H180v160Zm440 0h160v-160H620v160Z\"/>\n",
              "  </svg>\n",
              "    </button>\n",
              "\n",
              "  <style>\n",
              "    .colab-df-container {\n",
              "      display:flex;\n",
              "      gap: 12px;\n",
              "    }\n",
              "\n",
              "    .colab-df-convert {\n",
              "      background-color: #E8F0FE;\n",
              "      border: none;\n",
              "      border-radius: 50%;\n",
              "      cursor: pointer;\n",
              "      display: none;\n",
              "      fill: #1967D2;\n",
              "      height: 32px;\n",
              "      padding: 0 0 0 0;\n",
              "      width: 32px;\n",
              "    }\n",
              "\n",
              "    .colab-df-convert:hover {\n",
              "      background-color: #E2EBFA;\n",
              "      box-shadow: 0px 1px 2px rgba(60, 64, 67, 0.3), 0px 1px 3px 1px rgba(60, 64, 67, 0.15);\n",
              "      fill: #174EA6;\n",
              "    }\n",
              "\n",
              "    .colab-df-buttons div {\n",
              "      margin-bottom: 4px;\n",
              "    }\n",
              "\n",
              "    [theme=dark] .colab-df-convert {\n",
              "      background-color: #3B4455;\n",
              "      fill: #D2E3FC;\n",
              "    }\n",
              "\n",
              "    [theme=dark] .colab-df-convert:hover {\n",
              "      background-color: #434B5C;\n",
              "      box-shadow: 0px 1px 3px 1px rgba(0, 0, 0, 0.15);\n",
              "      filter: drop-shadow(0px 1px 2px rgba(0, 0, 0, 0.3));\n",
              "      fill: #FFFFFF;\n",
              "    }\n",
              "  </style>\n",
              "\n",
              "    <script>\n",
              "      const buttonEl =\n",
              "        document.querySelector('#df-70a9c939-6ce5-4f3f-9e3c-5366fa68b426 button.colab-df-convert');\n",
              "      buttonEl.style.display =\n",
              "        google.colab.kernel.accessAllowed ? 'block' : 'none';\n",
              "\n",
              "      async function convertToInteractive(key) {\n",
              "        const element = document.querySelector('#df-70a9c939-6ce5-4f3f-9e3c-5366fa68b426');\n",
              "        const dataTable =\n",
              "          await google.colab.kernel.invokeFunction('convertToInteractive',\n",
              "                                                    [key], {});\n",
              "        if (!dataTable) return;\n",
              "\n",
              "        const docLinkHtml = 'Like what you see? Visit the ' +\n",
              "          '<a target=\"_blank\" href=https://colab.research.google.com/notebooks/data_table.ipynb>data table notebook</a>'\n",
              "          + ' to learn more about interactive tables.';\n",
              "        element.innerHTML = '';\n",
              "        dataTable['output_type'] = 'display_data';\n",
              "        await google.colab.output.renderOutput(dataTable, element);\n",
              "        const docLink = document.createElement('div');\n",
              "        docLink.innerHTML = docLinkHtml;\n",
              "        element.appendChild(docLink);\n",
              "      }\n",
              "    </script>\n",
              "  </div>\n",
              "\n",
              "\n",
              "<div id=\"df-04a035c9-c668-4085-9a42-26d87b59840e\">\n",
              "  <button class=\"colab-df-quickchart\" onclick=\"quickchart('df-04a035c9-c668-4085-9a42-26d87b59840e')\"\n",
              "            title=\"Suggest charts\"\n",
              "            style=\"display:none;\">\n",
              "\n",
              "<svg xmlns=\"http://www.w3.org/2000/svg\" height=\"24px\"viewBox=\"0 0 24 24\"\n",
              "     width=\"24px\">\n",
              "    <g>\n",
              "        <path d=\"M19 3H5c-1.1 0-2 .9-2 2v14c0 1.1.9 2 2 2h14c1.1 0 2-.9 2-2V5c0-1.1-.9-2-2-2zM9 17H7v-7h2v7zm4 0h-2V7h2v10zm4 0h-2v-4h2v4z\"/>\n",
              "    </g>\n",
              "</svg>\n",
              "  </button>\n",
              "\n",
              "<style>\n",
              "  .colab-df-quickchart {\n",
              "      --bg-color: #E8F0FE;\n",
              "      --fill-color: #1967D2;\n",
              "      --hover-bg-color: #E2EBFA;\n",
              "      --hover-fill-color: #174EA6;\n",
              "      --disabled-fill-color: #AAA;\n",
              "      --disabled-bg-color: #DDD;\n",
              "  }\n",
              "\n",
              "  [theme=dark] .colab-df-quickchart {\n",
              "      --bg-color: #3B4455;\n",
              "      --fill-color: #D2E3FC;\n",
              "      --hover-bg-color: #434B5C;\n",
              "      --hover-fill-color: #FFFFFF;\n",
              "      --disabled-bg-color: #3B4455;\n",
              "      --disabled-fill-color: #666;\n",
              "  }\n",
              "\n",
              "  .colab-df-quickchart {\n",
              "    background-color: var(--bg-color);\n",
              "    border: none;\n",
              "    border-radius: 50%;\n",
              "    cursor: pointer;\n",
              "    display: none;\n",
              "    fill: var(--fill-color);\n",
              "    height: 32px;\n",
              "    padding: 0;\n",
              "    width: 32px;\n",
              "  }\n",
              "\n",
              "  .colab-df-quickchart:hover {\n",
              "    background-color: var(--hover-bg-color);\n",
              "    box-shadow: 0 1px 2px rgba(60, 64, 67, 0.3), 0 1px 3px 1px rgba(60, 64, 67, 0.15);\n",
              "    fill: var(--button-hover-fill-color);\n",
              "  }\n",
              "\n",
              "  .colab-df-quickchart-complete:disabled,\n",
              "  .colab-df-quickchart-complete:disabled:hover {\n",
              "    background-color: var(--disabled-bg-color);\n",
              "    fill: var(--disabled-fill-color);\n",
              "    box-shadow: none;\n",
              "  }\n",
              "\n",
              "  .colab-df-spinner {\n",
              "    border: 2px solid var(--fill-color);\n",
              "    border-color: transparent;\n",
              "    border-bottom-color: var(--fill-color);\n",
              "    animation:\n",
              "      spin 1s steps(1) infinite;\n",
              "  }\n",
              "\n",
              "  @keyframes spin {\n",
              "    0% {\n",
              "      border-color: transparent;\n",
              "      border-bottom-color: var(--fill-color);\n",
              "      border-left-color: var(--fill-color);\n",
              "    }\n",
              "    20% {\n",
              "      border-color: transparent;\n",
              "      border-left-color: var(--fill-color);\n",
              "      border-top-color: var(--fill-color);\n",
              "    }\n",
              "    30% {\n",
              "      border-color: transparent;\n",
              "      border-left-color: var(--fill-color);\n",
              "      border-top-color: var(--fill-color);\n",
              "      border-right-color: var(--fill-color);\n",
              "    }\n",
              "    40% {\n",
              "      border-color: transparent;\n",
              "      border-right-color: var(--fill-color);\n",
              "      border-top-color: var(--fill-color);\n",
              "    }\n",
              "    60% {\n",
              "      border-color: transparent;\n",
              "      border-right-color: var(--fill-color);\n",
              "    }\n",
              "    80% {\n",
              "      border-color: transparent;\n",
              "      border-right-color: var(--fill-color);\n",
              "      border-bottom-color: var(--fill-color);\n",
              "    }\n",
              "    90% {\n",
              "      border-color: transparent;\n",
              "      border-bottom-color: var(--fill-color);\n",
              "    }\n",
              "  }\n",
              "</style>\n",
              "\n",
              "  <script>\n",
              "    async function quickchart(key) {\n",
              "      const quickchartButtonEl =\n",
              "        document.querySelector('#' + key + ' button');\n",
              "      quickchartButtonEl.disabled = true;  // To prevent multiple clicks.\n",
              "      quickchartButtonEl.classList.add('colab-df-spinner');\n",
              "      try {\n",
              "        const charts = await google.colab.kernel.invokeFunction(\n",
              "            'suggestCharts', [key], {});\n",
              "      } catch (error) {\n",
              "        console.error('Error during call to suggestCharts:', error);\n",
              "      }\n",
              "      quickchartButtonEl.classList.remove('colab-df-spinner');\n",
              "      quickchartButtonEl.classList.add('colab-df-quickchart-complete');\n",
              "    }\n",
              "    (() => {\n",
              "      let quickchartButtonEl =\n",
              "        document.querySelector('#df-04a035c9-c668-4085-9a42-26d87b59840e button');\n",
              "      quickchartButtonEl.style.display =\n",
              "        google.colab.kernel.accessAllowed ? 'block' : 'none';\n",
              "    })();\n",
              "  </script>\n",
              "</div>\n",
              "\n",
              "    </div>\n",
              "  </div>\n"
            ],
            "application/vnd.google.colaboratory.intrinsic+json": {
              "type": "dataframe",
              "variable_name": "text",
              "summary": "{\n  \"name\": \"text\",\n  \"rows\": 48595,\n  \"fields\": [\n    {\n      \"column\": \"Unnamed: 0\",\n      \"properties\": {\n        \"dtype\": \"number\",\n        \"std\": 16205,\n        \"min\": 0,\n        \"max\": 55834,\n        \"num_unique_values\": 48595,\n        \"samples\": [\n          45801,\n          20975,\n          16397\n        ],\n        \"semantic_type\": \"\",\n        \"description\": \"\"\n      }\n    },\n    {\n      \"column\": \"id\",\n      \"properties\": {\n        \"dtype\": \"number\",\n        \"std\": 12189,\n        \"min\": 1,\n        \"max\": 45718,\n        \"num_unique_values\": 39462,\n        \"samples\": [\n          43951,\n          3990,\n          9860\n        ],\n        \"semantic_type\": \"\",\n        \"description\": \"\"\n      }\n    },\n    {\n      \"column\": \"Message\",\n      \"properties\": {\n        \"dtype\": \"string\",\n        \"num_unique_values\": 48586,\n        \"samples\": [\n          \"Not very sure eh... neva buy before. U may want to try other software like \\u7f8e\\u56fe\\u79c0\\u79c0, tat one i htink is free\",\n          \"nai...kal hi deni ha\",\n          \"Hello my little party animal! I just thought I'd buzz you as you were with your friends ...*grins*... Reminding you were loved and send a naughty adoring kiss\"\n        ],\n        \"semantic_type\": \"\",\n        \"description\": \"\"\n      }\n    },\n    {\n      \"column\": \"length\",\n      \"properties\": {\n        \"dtype\": \"category\",\n        \"num_unique_values\": 470,\n        \"samples\": [\n          \"43\",\n          \"108\",\n          \"125\"\n        ],\n        \"semantic_type\": \"\",\n        \"description\": \"\"\n      }\n    },\n    {\n      \"column\": \"country\",\n      \"properties\": {\n        \"dtype\": \"category\",\n        \"num_unique_values\": 40,\n        \"samples\": [\n          \"Kenya\",\n          \"Philippines\",\n          \"Bangladesh\"\n        ],\n        \"semantic_type\": \"\",\n        \"description\": \"\"\n      }\n    },\n    {\n      \"column\": \"Date\",\n      \"properties\": {\n        \"dtype\": \"object\",\n        \"num_unique_values\": 27,\n        \"samples\": [\n          \"2011/6\",\n          \"2012/2\",\n          \"2011/8\"\n        ],\n        \"semantic_type\": \"\",\n        \"description\": \"\"\n      }\n    },\n    {\n      \"column\": \"Message_lowercase\",\n      \"properties\": {\n        \"dtype\": \"string\",\n        \"num_unique_values\": 48354,\n        \"samples\": [\n          \"got bread in e toaster...\",\n          \"ll quit my job at e end of tis month... so sian of workin oredi.. u still workin?\",\n          \"wa so many lol... no arh i king then.u shld be queen mah! lol... sofat fat also =p... so wat time u intending to sleep?\"\n        ],\n        \"semantic_type\": \"\",\n        \"description\": \"\"\n      }\n    },\n    {\n      \"column\": \"message_clean\",\n      \"properties\": {\n        \"dtype\": \"string\",\n        \"num_unique_values\": 48336,\n        \"samples\": [\n          \"hi cumi.. i'm gr8 n wht abt u.. i missd u t0o.. y d0nt u cme at mig n0w.. hws ur bf n hv u g0t any sch0lrshp?.. tc cya\",\n          \"have a nice day.\",\n          \"forgot it takes me 3 years to shower, sorry. where you at/your phone dead yet?\"\n        ],\n        \"semantic_type\": \"\",\n        \"description\": \"\"\n      }\n    }\n  ]\n}"
            }
          },
          "metadata": {},
          "execution_count": 21
        }
      ]
    },
    {
      "cell_type": "markdown",
      "source": [
        "Remove URLs, use regular expression and a function to remove URL pattern using , apply to the message column with lambda.\n",
        "\n",
        "Identify all instances of URL with 'https?://\\S+|www\\.\\S+' and replace with ''."
      ],
      "metadata": {
        "id": "P_z0y_QzXFHa"
      }
    },
    {
      "cell_type": "code",
      "source": [
        "def remove_url(text):\n",
        "  url_pattern = re.compile(r'https?://\\S+|www\\.\\S+')\n",
        "  return url_pattern.sub(r'', text)"
      ],
      "metadata": {
        "id": "T8ynTTip3xYv"
      },
      "execution_count": 95,
      "outputs": []
    },
    {
      "cell_type": "code",
      "source": [
        "text['message_clean'] = text['message_clean'].apply(lambda x: remove_url(x))"
      ],
      "metadata": {
        "id": "7OUR3oPh3_sX"
      },
      "execution_count": 96,
      "outputs": []
    },
    {
      "cell_type": "code",
      "source": [
        "text.head(5)"
      ],
      "metadata": {
        "colab": {
          "base_uri": "https://localhost:8080/",
          "height": 272
        },
        "id": "mUBpDI3L4Gt0",
        "outputId": "3bcd2fd0-df87-489c-864d-225dbc32b24c"
      },
      "execution_count": 24,
      "outputs": [
        {
          "output_type": "execute_result",
          "data": {
            "text/plain": [
              "   Unnamed: 0     id                                            Message  \\\n",
              "0           0  10120                              Bugis oso near wat...   \n",
              "1           1  10121  Go until jurong point, crazy.. Available only ...   \n",
              "2           2  10122     I dunno until when... Lets go learn pilates...   \n",
              "3           3  10123  Den only weekdays got special price... Haiz......   \n",
              "4           4  10124                             Meet after lunch la...   \n",
              "\n",
              "  length country    Date                                  Message_lowercase  \\\n",
              "0     21      SG  2003/4                              bugis oso near wat...   \n",
              "1    111      SG  2003/4  go until jurong point, crazy.. available only ...   \n",
              "2     46      SG  2003/4     i dunno until when... lets go learn pilates...   \n",
              "3    140      SG  2003/4  den only weekdays got special price... haiz......   \n",
              "4     22      SG  2003/4                             meet after lunch la...   \n",
              "\n",
              "                                       message_clean  \n",
              "0                              bugis oso near wat...  \n",
              "1  go until jurong point, crazy.. available only ...  \n",
              "2     i dunno until when... lets go learn pilates...  \n",
              "3  den only weekdays got special price... haiz......  \n",
              "4                             meet after lunch la...  "
            ],
            "text/html": [
              "\n",
              "  <div id=\"df-a9b9480a-6f0c-481c-aef0-0de2f1feac27\" class=\"colab-df-container\">\n",
              "    <div>\n",
              "<style scoped>\n",
              "    .dataframe tbody tr th:only-of-type {\n",
              "        vertical-align: middle;\n",
              "    }\n",
              "\n",
              "    .dataframe tbody tr th {\n",
              "        vertical-align: top;\n",
              "    }\n",
              "\n",
              "    .dataframe thead th {\n",
              "        text-align: right;\n",
              "    }\n",
              "</style>\n",
              "<table border=\"1\" class=\"dataframe\">\n",
              "  <thead>\n",
              "    <tr style=\"text-align: right;\">\n",
              "      <th></th>\n",
              "      <th>Unnamed: 0</th>\n",
              "      <th>id</th>\n",
              "      <th>Message</th>\n",
              "      <th>length</th>\n",
              "      <th>country</th>\n",
              "      <th>Date</th>\n",
              "      <th>Message_lowercase</th>\n",
              "      <th>message_clean</th>\n",
              "    </tr>\n",
              "  </thead>\n",
              "  <tbody>\n",
              "    <tr>\n",
              "      <th>0</th>\n",
              "      <td>0</td>\n",
              "      <td>10120</td>\n",
              "      <td>Bugis oso near wat...</td>\n",
              "      <td>21</td>\n",
              "      <td>SG</td>\n",
              "      <td>2003/4</td>\n",
              "      <td>bugis oso near wat...</td>\n",
              "      <td>bugis oso near wat...</td>\n",
              "    </tr>\n",
              "    <tr>\n",
              "      <th>1</th>\n",
              "      <td>1</td>\n",
              "      <td>10121</td>\n",
              "      <td>Go until jurong point, crazy.. Available only ...</td>\n",
              "      <td>111</td>\n",
              "      <td>SG</td>\n",
              "      <td>2003/4</td>\n",
              "      <td>go until jurong point, crazy.. available only ...</td>\n",
              "      <td>go until jurong point, crazy.. available only ...</td>\n",
              "    </tr>\n",
              "    <tr>\n",
              "      <th>2</th>\n",
              "      <td>2</td>\n",
              "      <td>10122</td>\n",
              "      <td>I dunno until when... Lets go learn pilates...</td>\n",
              "      <td>46</td>\n",
              "      <td>SG</td>\n",
              "      <td>2003/4</td>\n",
              "      <td>i dunno until when... lets go learn pilates...</td>\n",
              "      <td>i dunno until when... lets go learn pilates...</td>\n",
              "    </tr>\n",
              "    <tr>\n",
              "      <th>3</th>\n",
              "      <td>3</td>\n",
              "      <td>10123</td>\n",
              "      <td>Den only weekdays got special price... Haiz......</td>\n",
              "      <td>140</td>\n",
              "      <td>SG</td>\n",
              "      <td>2003/4</td>\n",
              "      <td>den only weekdays got special price... haiz......</td>\n",
              "      <td>den only weekdays got special price... haiz......</td>\n",
              "    </tr>\n",
              "    <tr>\n",
              "      <th>4</th>\n",
              "      <td>4</td>\n",
              "      <td>10124</td>\n",
              "      <td>Meet after lunch la...</td>\n",
              "      <td>22</td>\n",
              "      <td>SG</td>\n",
              "      <td>2003/4</td>\n",
              "      <td>meet after lunch la...</td>\n",
              "      <td>meet after lunch la...</td>\n",
              "    </tr>\n",
              "  </tbody>\n",
              "</table>\n",
              "</div>\n",
              "    <div class=\"colab-df-buttons\">\n",
              "\n",
              "  <div class=\"colab-df-container\">\n",
              "    <button class=\"colab-df-convert\" onclick=\"convertToInteractive('df-a9b9480a-6f0c-481c-aef0-0de2f1feac27')\"\n",
              "            title=\"Convert this dataframe to an interactive table.\"\n",
              "            style=\"display:none;\">\n",
              "\n",
              "  <svg xmlns=\"http://www.w3.org/2000/svg\" height=\"24px\" viewBox=\"0 -960 960 960\">\n",
              "    <path d=\"M120-120v-720h720v720H120Zm60-500h600v-160H180v160Zm220 220h160v-160H400v160Zm0 220h160v-160H400v160ZM180-400h160v-160H180v160Zm440 0h160v-160H620v160ZM180-180h160v-160H180v160Zm440 0h160v-160H620v160Z\"/>\n",
              "  </svg>\n",
              "    </button>\n",
              "\n",
              "  <style>\n",
              "    .colab-df-container {\n",
              "      display:flex;\n",
              "      gap: 12px;\n",
              "    }\n",
              "\n",
              "    .colab-df-convert {\n",
              "      background-color: #E8F0FE;\n",
              "      border: none;\n",
              "      border-radius: 50%;\n",
              "      cursor: pointer;\n",
              "      display: none;\n",
              "      fill: #1967D2;\n",
              "      height: 32px;\n",
              "      padding: 0 0 0 0;\n",
              "      width: 32px;\n",
              "    }\n",
              "\n",
              "    .colab-df-convert:hover {\n",
              "      background-color: #E2EBFA;\n",
              "      box-shadow: 0px 1px 2px rgba(60, 64, 67, 0.3), 0px 1px 3px 1px rgba(60, 64, 67, 0.15);\n",
              "      fill: #174EA6;\n",
              "    }\n",
              "\n",
              "    .colab-df-buttons div {\n",
              "      margin-bottom: 4px;\n",
              "    }\n",
              "\n",
              "    [theme=dark] .colab-df-convert {\n",
              "      background-color: #3B4455;\n",
              "      fill: #D2E3FC;\n",
              "    }\n",
              "\n",
              "    [theme=dark] .colab-df-convert:hover {\n",
              "      background-color: #434B5C;\n",
              "      box-shadow: 0px 1px 3px 1px rgba(0, 0, 0, 0.15);\n",
              "      filter: drop-shadow(0px 1px 2px rgba(0, 0, 0, 0.3));\n",
              "      fill: #FFFFFF;\n",
              "    }\n",
              "  </style>\n",
              "\n",
              "    <script>\n",
              "      const buttonEl =\n",
              "        document.querySelector('#df-a9b9480a-6f0c-481c-aef0-0de2f1feac27 button.colab-df-convert');\n",
              "      buttonEl.style.display =\n",
              "        google.colab.kernel.accessAllowed ? 'block' : 'none';\n",
              "\n",
              "      async function convertToInteractive(key) {\n",
              "        const element = document.querySelector('#df-a9b9480a-6f0c-481c-aef0-0de2f1feac27');\n",
              "        const dataTable =\n",
              "          await google.colab.kernel.invokeFunction('convertToInteractive',\n",
              "                                                    [key], {});\n",
              "        if (!dataTable) return;\n",
              "\n",
              "        const docLinkHtml = 'Like what you see? Visit the ' +\n",
              "          '<a target=\"_blank\" href=https://colab.research.google.com/notebooks/data_table.ipynb>data table notebook</a>'\n",
              "          + ' to learn more about interactive tables.';\n",
              "        element.innerHTML = '';\n",
              "        dataTable['output_type'] = 'display_data';\n",
              "        await google.colab.output.renderOutput(dataTable, element);\n",
              "        const docLink = document.createElement('div');\n",
              "        docLink.innerHTML = docLinkHtml;\n",
              "        element.appendChild(docLink);\n",
              "      }\n",
              "    </script>\n",
              "  </div>\n",
              "\n",
              "\n",
              "<div id=\"df-826505c8-ac96-4785-a623-d59259f6f626\">\n",
              "  <button class=\"colab-df-quickchart\" onclick=\"quickchart('df-826505c8-ac96-4785-a623-d59259f6f626')\"\n",
              "            title=\"Suggest charts\"\n",
              "            style=\"display:none;\">\n",
              "\n",
              "<svg xmlns=\"http://www.w3.org/2000/svg\" height=\"24px\"viewBox=\"0 0 24 24\"\n",
              "     width=\"24px\">\n",
              "    <g>\n",
              "        <path d=\"M19 3H5c-1.1 0-2 .9-2 2v14c0 1.1.9 2 2 2h14c1.1 0 2-.9 2-2V5c0-1.1-.9-2-2-2zM9 17H7v-7h2v7zm4 0h-2V7h2v10zm4 0h-2v-4h2v4z\"/>\n",
              "    </g>\n",
              "</svg>\n",
              "  </button>\n",
              "\n",
              "<style>\n",
              "  .colab-df-quickchart {\n",
              "      --bg-color: #E8F0FE;\n",
              "      --fill-color: #1967D2;\n",
              "      --hover-bg-color: #E2EBFA;\n",
              "      --hover-fill-color: #174EA6;\n",
              "      --disabled-fill-color: #AAA;\n",
              "      --disabled-bg-color: #DDD;\n",
              "  }\n",
              "\n",
              "  [theme=dark] .colab-df-quickchart {\n",
              "      --bg-color: #3B4455;\n",
              "      --fill-color: #D2E3FC;\n",
              "      --hover-bg-color: #434B5C;\n",
              "      --hover-fill-color: #FFFFFF;\n",
              "      --disabled-bg-color: #3B4455;\n",
              "      --disabled-fill-color: #666;\n",
              "  }\n",
              "\n",
              "  .colab-df-quickchart {\n",
              "    background-color: var(--bg-color);\n",
              "    border: none;\n",
              "    border-radius: 50%;\n",
              "    cursor: pointer;\n",
              "    display: none;\n",
              "    fill: var(--fill-color);\n",
              "    height: 32px;\n",
              "    padding: 0;\n",
              "    width: 32px;\n",
              "  }\n",
              "\n",
              "  .colab-df-quickchart:hover {\n",
              "    background-color: var(--hover-bg-color);\n",
              "    box-shadow: 0 1px 2px rgba(60, 64, 67, 0.3), 0 1px 3px 1px rgba(60, 64, 67, 0.15);\n",
              "    fill: var(--button-hover-fill-color);\n",
              "  }\n",
              "\n",
              "  .colab-df-quickchart-complete:disabled,\n",
              "  .colab-df-quickchart-complete:disabled:hover {\n",
              "    background-color: var(--disabled-bg-color);\n",
              "    fill: var(--disabled-fill-color);\n",
              "    box-shadow: none;\n",
              "  }\n",
              "\n",
              "  .colab-df-spinner {\n",
              "    border: 2px solid var(--fill-color);\n",
              "    border-color: transparent;\n",
              "    border-bottom-color: var(--fill-color);\n",
              "    animation:\n",
              "      spin 1s steps(1) infinite;\n",
              "  }\n",
              "\n",
              "  @keyframes spin {\n",
              "    0% {\n",
              "      border-color: transparent;\n",
              "      border-bottom-color: var(--fill-color);\n",
              "      border-left-color: var(--fill-color);\n",
              "    }\n",
              "    20% {\n",
              "      border-color: transparent;\n",
              "      border-left-color: var(--fill-color);\n",
              "      border-top-color: var(--fill-color);\n",
              "    }\n",
              "    30% {\n",
              "      border-color: transparent;\n",
              "      border-left-color: var(--fill-color);\n",
              "      border-top-color: var(--fill-color);\n",
              "      border-right-color: var(--fill-color);\n",
              "    }\n",
              "    40% {\n",
              "      border-color: transparent;\n",
              "      border-right-color: var(--fill-color);\n",
              "      border-top-color: var(--fill-color);\n",
              "    }\n",
              "    60% {\n",
              "      border-color: transparent;\n",
              "      border-right-color: var(--fill-color);\n",
              "    }\n",
              "    80% {\n",
              "      border-color: transparent;\n",
              "      border-right-color: var(--fill-color);\n",
              "      border-bottom-color: var(--fill-color);\n",
              "    }\n",
              "    90% {\n",
              "      border-color: transparent;\n",
              "      border-bottom-color: var(--fill-color);\n",
              "    }\n",
              "  }\n",
              "</style>\n",
              "\n",
              "  <script>\n",
              "    async function quickchart(key) {\n",
              "      const quickchartButtonEl =\n",
              "        document.querySelector('#' + key + ' button');\n",
              "      quickchartButtonEl.disabled = true;  // To prevent multiple clicks.\n",
              "      quickchartButtonEl.classList.add('colab-df-spinner');\n",
              "      try {\n",
              "        const charts = await google.colab.kernel.invokeFunction(\n",
              "            'suggestCharts', [key], {});\n",
              "      } catch (error) {\n",
              "        console.error('Error during call to suggestCharts:', error);\n",
              "      }\n",
              "      quickchartButtonEl.classList.remove('colab-df-spinner');\n",
              "      quickchartButtonEl.classList.add('colab-df-quickchart-complete');\n",
              "    }\n",
              "    (() => {\n",
              "      let quickchartButtonEl =\n",
              "        document.querySelector('#df-826505c8-ac96-4785-a623-d59259f6f626 button');\n",
              "      quickchartButtonEl.style.display =\n",
              "        google.colab.kernel.accessAllowed ? 'block' : 'none';\n",
              "    })();\n",
              "  </script>\n",
              "</div>\n",
              "\n",
              "    </div>\n",
              "  </div>\n"
            ],
            "application/vnd.google.colaboratory.intrinsic+json": {
              "type": "dataframe",
              "variable_name": "text",
              "summary": "{\n  \"name\": \"text\",\n  \"rows\": 48595,\n  \"fields\": [\n    {\n      \"column\": \"Unnamed: 0\",\n      \"properties\": {\n        \"dtype\": \"number\",\n        \"std\": 16205,\n        \"min\": 0,\n        \"max\": 55834,\n        \"num_unique_values\": 48595,\n        \"samples\": [\n          45801,\n          20975,\n          16397\n        ],\n        \"semantic_type\": \"\",\n        \"description\": \"\"\n      }\n    },\n    {\n      \"column\": \"id\",\n      \"properties\": {\n        \"dtype\": \"number\",\n        \"std\": 12189,\n        \"min\": 1,\n        \"max\": 45718,\n        \"num_unique_values\": 39462,\n        \"samples\": [\n          43951,\n          3990,\n          9860\n        ],\n        \"semantic_type\": \"\",\n        \"description\": \"\"\n      }\n    },\n    {\n      \"column\": \"Message\",\n      \"properties\": {\n        \"dtype\": \"string\",\n        \"num_unique_values\": 48586,\n        \"samples\": [\n          \"Not very sure eh... neva buy before. U may want to try other software like \\u7f8e\\u56fe\\u79c0\\u79c0, tat one i htink is free\",\n          \"nai...kal hi deni ha\",\n          \"Hello my little party animal! I just thought I'd buzz you as you were with your friends ...*grins*... Reminding you were loved and send a naughty adoring kiss\"\n        ],\n        \"semantic_type\": \"\",\n        \"description\": \"\"\n      }\n    },\n    {\n      \"column\": \"length\",\n      \"properties\": {\n        \"dtype\": \"category\",\n        \"num_unique_values\": 470,\n        \"samples\": [\n          \"43\",\n          \"108\",\n          \"125\"\n        ],\n        \"semantic_type\": \"\",\n        \"description\": \"\"\n      }\n    },\n    {\n      \"column\": \"country\",\n      \"properties\": {\n        \"dtype\": \"category\",\n        \"num_unique_values\": 40,\n        \"samples\": [\n          \"Kenya\",\n          \"Philippines\",\n          \"Bangladesh\"\n        ],\n        \"semantic_type\": \"\",\n        \"description\": \"\"\n      }\n    },\n    {\n      \"column\": \"Date\",\n      \"properties\": {\n        \"dtype\": \"object\",\n        \"num_unique_values\": 27,\n        \"samples\": [\n          \"2011/6\",\n          \"2012/2\",\n          \"2011/8\"\n        ],\n        \"semantic_type\": \"\",\n        \"description\": \"\"\n      }\n    },\n    {\n      \"column\": \"Message_lowercase\",\n      \"properties\": {\n        \"dtype\": \"string\",\n        \"num_unique_values\": 48354,\n        \"samples\": [\n          \"got bread in e toaster...\",\n          \"ll quit my job at e end of tis month... so sian of workin oredi.. u still workin?\",\n          \"wa so many lol... no arh i king then.u shld be queen mah! lol... sofat fat also =p... so wat time u intending to sleep?\"\n        ],\n        \"semantic_type\": \"\",\n        \"description\": \"\"\n      }\n    },\n    {\n      \"column\": \"message_clean\",\n      \"properties\": {\n        \"dtype\": \"string\",\n        \"num_unique_values\": 48334,\n        \"samples\": [\n          \"xin said okie... huh? u in macs now ah...\",\n          \"yes andrx,u r more dan  % corect.v hv 2 go 2 1 day,bt malli wnt earlier.one way its gud cos its 4 his own gud n he wil pave d way 4 us 2 reach god.yes..gb\",\n          \"haha better late than ever, any way i could swing by?\"\n        ],\n        \"semantic_type\": \"\",\n        \"description\": \"\"\n      }\n    }\n  ]\n}"
            }
          },
          "metadata": {},
          "execution_count": 24
        }
      ]
    },
    {
      "cell_type": "code",
      "source": [
        "text['message_clean'].head(20)"
      ],
      "metadata": {
        "colab": {
          "base_uri": "https://localhost:8080/",
          "height": 703
        },
        "id": "5N4dvbsE4Js-",
        "outputId": "0779966d-c21b-4f36-b210-3a3942a721bb"
      },
      "execution_count": 25,
      "outputs": [
        {
          "output_type": "execute_result",
          "data": {
            "text/plain": [
              "0                                 bugis oso near wat...\n",
              "1     go until jurong point, crazy.. available only ...\n",
              "2        i dunno until when... lets go learn pilates...\n",
              "3     den only weekdays got special price... haiz......\n",
              "4                                meet after lunch la...\n",
              "5     m walking in citylink now ü faster come down.....\n",
              "6     5 nights...we nt staying at port step liao...t...\n",
              "7     hey pple...$700 or $900 for 5 nights...excelle...\n",
              "8     yun ah.the ubi one say if ü wan call by tomorr...\n",
              "9                     hey tmr maybe can meet you at yck\n",
              "10            oh...i asked for fun. haha...take care. ü\n",
              "11    we are supposed to meet to discuss abt our tri...\n",
              "12                              t finish my film yet...\n",
              "13                    m having dinner with my cousin...\n",
              "14                           oh... kay... on sat right?\n",
              "15                      i need... coz i never go before\n",
              "16    s a basic yoga course... at bugis... we can go...\n",
              "17    i am going to sao mu today. will be done only ...\n",
              "18        hey gals...u all wanna meet 4 dinner at nìte?\n",
              "19                           jos ask if u wana meet up?\n",
              "Name: message_clean, dtype: object"
            ],
            "text/html": [
              "<div>\n",
              "<style scoped>\n",
              "    .dataframe tbody tr th:only-of-type {\n",
              "        vertical-align: middle;\n",
              "    }\n",
              "\n",
              "    .dataframe tbody tr th {\n",
              "        vertical-align: top;\n",
              "    }\n",
              "\n",
              "    .dataframe thead th {\n",
              "        text-align: right;\n",
              "    }\n",
              "</style>\n",
              "<table border=\"1\" class=\"dataframe\">\n",
              "  <thead>\n",
              "    <tr style=\"text-align: right;\">\n",
              "      <th></th>\n",
              "      <th>message_clean</th>\n",
              "    </tr>\n",
              "  </thead>\n",
              "  <tbody>\n",
              "    <tr>\n",
              "      <th>0</th>\n",
              "      <td>bugis oso near wat...</td>\n",
              "    </tr>\n",
              "    <tr>\n",
              "      <th>1</th>\n",
              "      <td>go until jurong point, crazy.. available only ...</td>\n",
              "    </tr>\n",
              "    <tr>\n",
              "      <th>2</th>\n",
              "      <td>i dunno until when... lets go learn pilates...</td>\n",
              "    </tr>\n",
              "    <tr>\n",
              "      <th>3</th>\n",
              "      <td>den only weekdays got special price... haiz......</td>\n",
              "    </tr>\n",
              "    <tr>\n",
              "      <th>4</th>\n",
              "      <td>meet after lunch la...</td>\n",
              "    </tr>\n",
              "    <tr>\n",
              "      <th>5</th>\n",
              "      <td>m walking in citylink now ü faster come down.....</td>\n",
              "    </tr>\n",
              "    <tr>\n",
              "      <th>6</th>\n",
              "      <td>5 nights...we nt staying at port step liao...t...</td>\n",
              "    </tr>\n",
              "    <tr>\n",
              "      <th>7</th>\n",
              "      <td>hey pple...$700 or $900 for 5 nights...excelle...</td>\n",
              "    </tr>\n",
              "    <tr>\n",
              "      <th>8</th>\n",
              "      <td>yun ah.the ubi one say if ü wan call by tomorr...</td>\n",
              "    </tr>\n",
              "    <tr>\n",
              "      <th>9</th>\n",
              "      <td>hey tmr maybe can meet you at yck</td>\n",
              "    </tr>\n",
              "    <tr>\n",
              "      <th>10</th>\n",
              "      <td>oh...i asked for fun. haha...take care. ü</td>\n",
              "    </tr>\n",
              "    <tr>\n",
              "      <th>11</th>\n",
              "      <td>we are supposed to meet to discuss abt our tri...</td>\n",
              "    </tr>\n",
              "    <tr>\n",
              "      <th>12</th>\n",
              "      <td>t finish my film yet...</td>\n",
              "    </tr>\n",
              "    <tr>\n",
              "      <th>13</th>\n",
              "      <td>m having dinner with my cousin...</td>\n",
              "    </tr>\n",
              "    <tr>\n",
              "      <th>14</th>\n",
              "      <td>oh... kay... on sat right?</td>\n",
              "    </tr>\n",
              "    <tr>\n",
              "      <th>15</th>\n",
              "      <td>i need... coz i never go before</td>\n",
              "    </tr>\n",
              "    <tr>\n",
              "      <th>16</th>\n",
              "      <td>s a basic yoga course... at bugis... we can go...</td>\n",
              "    </tr>\n",
              "    <tr>\n",
              "      <th>17</th>\n",
              "      <td>i am going to sao mu today. will be done only ...</td>\n",
              "    </tr>\n",
              "    <tr>\n",
              "      <th>18</th>\n",
              "      <td>hey gals...u all wanna meet 4 dinner at nìte?</td>\n",
              "    </tr>\n",
              "    <tr>\n",
              "      <th>19</th>\n",
              "      <td>jos ask if u wana meet up?</td>\n",
              "    </tr>\n",
              "  </tbody>\n",
              "</table>\n",
              "</div><br><label><b>dtype:</b> object</label>"
            ]
          },
          "metadata": {},
          "execution_count": 25
        }
      ]
    },
    {
      "cell_type": "markdown",
      "source": [
        "## **Exploratory Data Analysis**"
      ],
      "metadata": {
        "id": "ldyva1h-X9Dc"
      }
    },
    {
      "cell_type": "markdown",
      "source": [
        "Explore data using visualisations to get better understanding of data and the patterns."
      ],
      "metadata": {
        "id": "F65IBUkVYBcN"
      }
    },
    {
      "cell_type": "markdown",
      "source": [
        "Count number of all countries and see how many messages  were sent per country  with nunique() and value_counts()."
      ],
      "metadata": {
        "id": "gED4C1OUYOIK"
      }
    },
    {
      "cell_type": "code",
      "source": [
        "text['country'].nunique()"
      ],
      "metadata": {
        "colab": {
          "base_uri": "https://localhost:8080/"
        },
        "id": "lUEePSYJ4NTr",
        "outputId": "c23e7ad1-63fd-4e60-804b-8c036cd862c3"
      },
      "execution_count": 97,
      "outputs": [
        {
          "output_type": "execute_result",
          "data": {
            "text/plain": [
              "40"
            ]
          },
          "metadata": {},
          "execution_count": 97
        }
      ]
    },
    {
      "cell_type": "code",
      "source": [
        "text['country'].value_counts()"
      ],
      "metadata": {
        "colab": {
          "base_uri": "https://localhost:8080/",
          "height": 1000
        },
        "id": "JiatPET548XL",
        "outputId": "2ba850b0-0cc4-4ef9-b96b-94d401e6c1ae"
      },
      "execution_count": 98,
      "outputs": [
        {
          "output_type": "execute_result",
          "data": {
            "text/plain": [
              "country\n",
              "Singapore              22013\n",
              "SG                      9804\n",
              "India                   6901\n",
              "United States           3749\n",
              "USA                     1931\n",
              "Sri Lanka               1017\n",
              "Malaysia                 766\n",
              "Pakistan                 751\n",
              "unknown                  602\n",
              "Canada                   198\n",
              "Bangladesh               126\n",
              "China                    107\n",
              "india                    105\n",
              "INDIA                     79\n",
              "Philippines               67\n",
              "Indonesia                 48\n",
              "Nepal                     39\n",
              "srilanka                  30\n",
              "United Kingdom            30\n",
              "Hungary                   28\n",
              "Serbia                    22\n",
              "Kenya                     20\n",
              "Ghana                     18\n",
              "UK                        10\n",
              "Italia                    10\n",
              "Trinidad and Tobago       10\n",
              "Turkey                    10\n",
              "Nigeria                   10\n",
              "Macedonia                 10\n",
              "New Zealand               10\n",
              "Slovenia                  10\n",
              "Lebanon                   10\n",
              "Romania                    9\n",
              "Morocco                    9\n",
              "Australia                  9\n",
              "jamaica                    8\n",
              "BARBADOS                   8\n",
              "France                     5\n",
              "Spain                      5\n",
              "MY                         1\n",
              "Name: count, dtype: int64"
            ],
            "text/html": [
              "<div>\n",
              "<style scoped>\n",
              "    .dataframe tbody tr th:only-of-type {\n",
              "        vertical-align: middle;\n",
              "    }\n",
              "\n",
              "    .dataframe tbody tr th {\n",
              "        vertical-align: top;\n",
              "    }\n",
              "\n",
              "    .dataframe thead th {\n",
              "        text-align: right;\n",
              "    }\n",
              "</style>\n",
              "<table border=\"1\" class=\"dataframe\">\n",
              "  <thead>\n",
              "    <tr style=\"text-align: right;\">\n",
              "      <th></th>\n",
              "      <th>count</th>\n",
              "    </tr>\n",
              "    <tr>\n",
              "      <th>country</th>\n",
              "      <th></th>\n",
              "    </tr>\n",
              "  </thead>\n",
              "  <tbody>\n",
              "    <tr>\n",
              "      <th>Singapore</th>\n",
              "      <td>22013</td>\n",
              "    </tr>\n",
              "    <tr>\n",
              "      <th>SG</th>\n",
              "      <td>9804</td>\n",
              "    </tr>\n",
              "    <tr>\n",
              "      <th>India</th>\n",
              "      <td>6901</td>\n",
              "    </tr>\n",
              "    <tr>\n",
              "      <th>United States</th>\n",
              "      <td>3749</td>\n",
              "    </tr>\n",
              "    <tr>\n",
              "      <th>USA</th>\n",
              "      <td>1931</td>\n",
              "    </tr>\n",
              "    <tr>\n",
              "      <th>Sri Lanka</th>\n",
              "      <td>1017</td>\n",
              "    </tr>\n",
              "    <tr>\n",
              "      <th>Malaysia</th>\n",
              "      <td>766</td>\n",
              "    </tr>\n",
              "    <tr>\n",
              "      <th>Pakistan</th>\n",
              "      <td>751</td>\n",
              "    </tr>\n",
              "    <tr>\n",
              "      <th>unknown</th>\n",
              "      <td>602</td>\n",
              "    </tr>\n",
              "    <tr>\n",
              "      <th>Canada</th>\n",
              "      <td>198</td>\n",
              "    </tr>\n",
              "    <tr>\n",
              "      <th>Bangladesh</th>\n",
              "      <td>126</td>\n",
              "    </tr>\n",
              "    <tr>\n",
              "      <th>China</th>\n",
              "      <td>107</td>\n",
              "    </tr>\n",
              "    <tr>\n",
              "      <th>india</th>\n",
              "      <td>105</td>\n",
              "    </tr>\n",
              "    <tr>\n",
              "      <th>INDIA</th>\n",
              "      <td>79</td>\n",
              "    </tr>\n",
              "    <tr>\n",
              "      <th>Philippines</th>\n",
              "      <td>67</td>\n",
              "    </tr>\n",
              "    <tr>\n",
              "      <th>Indonesia</th>\n",
              "      <td>48</td>\n",
              "    </tr>\n",
              "    <tr>\n",
              "      <th>Nepal</th>\n",
              "      <td>39</td>\n",
              "    </tr>\n",
              "    <tr>\n",
              "      <th>srilanka</th>\n",
              "      <td>30</td>\n",
              "    </tr>\n",
              "    <tr>\n",
              "      <th>United Kingdom</th>\n",
              "      <td>30</td>\n",
              "    </tr>\n",
              "    <tr>\n",
              "      <th>Hungary</th>\n",
              "      <td>28</td>\n",
              "    </tr>\n",
              "    <tr>\n",
              "      <th>Serbia</th>\n",
              "      <td>22</td>\n",
              "    </tr>\n",
              "    <tr>\n",
              "      <th>Kenya</th>\n",
              "      <td>20</td>\n",
              "    </tr>\n",
              "    <tr>\n",
              "      <th>Ghana</th>\n",
              "      <td>18</td>\n",
              "    </tr>\n",
              "    <tr>\n",
              "      <th>UK</th>\n",
              "      <td>10</td>\n",
              "    </tr>\n",
              "    <tr>\n",
              "      <th>Italia</th>\n",
              "      <td>10</td>\n",
              "    </tr>\n",
              "    <tr>\n",
              "      <th>Trinidad and Tobago</th>\n",
              "      <td>10</td>\n",
              "    </tr>\n",
              "    <tr>\n",
              "      <th>Turkey</th>\n",
              "      <td>10</td>\n",
              "    </tr>\n",
              "    <tr>\n",
              "      <th>Nigeria</th>\n",
              "      <td>10</td>\n",
              "    </tr>\n",
              "    <tr>\n",
              "      <th>Macedonia</th>\n",
              "      <td>10</td>\n",
              "    </tr>\n",
              "    <tr>\n",
              "      <th>New Zealand</th>\n",
              "      <td>10</td>\n",
              "    </tr>\n",
              "    <tr>\n",
              "      <th>Slovenia</th>\n",
              "      <td>10</td>\n",
              "    </tr>\n",
              "    <tr>\n",
              "      <th>Lebanon</th>\n",
              "      <td>10</td>\n",
              "    </tr>\n",
              "    <tr>\n",
              "      <th>Romania</th>\n",
              "      <td>9</td>\n",
              "    </tr>\n",
              "    <tr>\n",
              "      <th>Morocco</th>\n",
              "      <td>9</td>\n",
              "    </tr>\n",
              "    <tr>\n",
              "      <th>Australia</th>\n",
              "      <td>9</td>\n",
              "    </tr>\n",
              "    <tr>\n",
              "      <th>jamaica</th>\n",
              "      <td>8</td>\n",
              "    </tr>\n",
              "    <tr>\n",
              "      <th>BARBADOS</th>\n",
              "      <td>8</td>\n",
              "    </tr>\n",
              "    <tr>\n",
              "      <th>France</th>\n",
              "      <td>5</td>\n",
              "    </tr>\n",
              "    <tr>\n",
              "      <th>Spain</th>\n",
              "      <td>5</td>\n",
              "    </tr>\n",
              "    <tr>\n",
              "      <th>MY</th>\n",
              "      <td>1</td>\n",
              "    </tr>\n",
              "  </tbody>\n",
              "</table>\n",
              "</div><br><label><b>dtype:</b> int64</label>"
            ]
          },
          "metadata": {},
          "execution_count": 98
        }
      ]
    },
    {
      "cell_type": "markdown",
      "source": [
        "Some of the countries are represented with acronyms and others with full names, which can cause problems further down the line.\n",
        "\n",
        " Use the replace() method to correct the names of each country."
      ],
      "metadata": {
        "id": "uOBjaKNYYctu"
      }
    },
    {
      "cell_type": "code",
      "source": [
        "text = text.replace({'country':{'SG':'Singapore',\n",
        "                            'USA':'United States',\n",
        "                            'india':'India',\n",
        "                            'INDIA':'India',\n",
        "                            'srilanka':'Sri Lanka',\n",
        "                            'UK':'United Kingdom',\n",
        "                            'BARBADOS':'Barbados',\n",
        "                            'jamaica':'Jamaica',\n",
        "                            'MY':'Malaysia',\n",
        "                            'unknown':'Unknown'}})"
      ],
      "metadata": {
        "id": "V2DdMfmp5CZF"
      },
      "execution_count": 99,
      "outputs": []
    },
    {
      "cell_type": "markdown",
      "source": [
        "Visualise top 5 countries with the highest number of messages sent using bar plot."
      ],
      "metadata": {
        "id": "-NzNUwN5YylM"
      }
    },
    {
      "cell_type": "code",
      "source": [
        "top5_countries = text['country'].value_counts().head(5)"
      ],
      "metadata": {
        "id": "9KdG1T3P5wN0"
      },
      "execution_count": 29,
      "outputs": []
    },
    {
      "cell_type": "code",
      "source": [
        "sns.countplot(data=text, y='country', hue='country')"
      ],
      "metadata": {
        "colab": {
          "base_uri": "https://localhost:8080/",
          "height": 466
        },
        "id": "BBz229yU5QXh",
        "outputId": "9eec81e0-6ae8-4f73-dae6-ee49b3c28935"
      },
      "execution_count": 30,
      "outputs": [
        {
          "output_type": "execute_result",
          "data": {
            "text/plain": [
              "<Axes: xlabel='count', ylabel='country'>"
            ]
          },
          "metadata": {},
          "execution_count": 30
        },
        {
          "output_type": "display_data",
          "data": {
            "text/plain": [
              "<Figure size 640x480 with 1 Axes>"
            ],
            "image/png": "[encoded data removed]"
          },
          "metadata": {}
        }
      ]
    },
    {
      "cell_type": "code",
      "source": [
        "top5_countries.plot.bar()"
      ],
      "metadata": {
        "colab": {
          "base_uri": "https://localhost:8080/",
          "height": 546
        },
        "id": "CVVMG18957r6",
        "outputId": "9e4e6cc4-5a5e-4080-ddd3-93c62edd8a6a"
      },
      "execution_count": 31,
      "outputs": [
        {
          "output_type": "execute_result",
          "data": {
            "text/plain": [
              "<Axes: xlabel='country'>"
            ]
          },
          "metadata": {},
          "execution_count": 31
        },
        {
          "output_type": "display_data",
          "data": {
            "text/plain": [
              "<Figure size 640x480 with 1 Axes>"
            ],
            "image/png": "[encoded data removed]"
          },
          "metadata": {}
        }
      ]
    },
    {
      "cell_type": "markdown",
      "source": [
        "The countries with the highest number of messages are Singapore, India and United States."
      ],
      "metadata": {
        "id": "75dH5s8IY9K0"
      }
    },
    {
      "cell_type": "markdown",
      "source": [
        "## **Sentiment Analysis**"
      ],
      "metadata": {
        "id": "9UcKrcxeZDk5"
      }
    },
    {
      "cell_type": "markdown",
      "source": [
        "Already decided to categorise the messsages into 2 classes; negative and positive.\n",
        "\n",
        "First test the Naive Bayes Classifier to classify sentiment of the Messages column."
      ],
      "metadata": {
        "id": "4Jvrn0guae3b"
      }
    },
    {
      "cell_type": "markdown",
      "source": [
        "Download twitter data and the model, import twitter_samples from nltk corpus."
      ],
      "metadata": {
        "id": "W2wBfphCasg6"
      }
    },
    {
      "cell_type": "code",
      "source": [
        "nltk.download('twitter_samples')"
      ],
      "metadata": {
        "colab": {
          "base_uri": "https://localhost:8080/"
        },
        "id": "0kBWg7HU6HPd",
        "outputId": "f359bb4f-589c-4422-f414-1211791668e4"
      },
      "execution_count": 32,
      "outputs": [
        {
          "output_type": "stream",
          "name": "stderr",
          "text": [
            "[nltk_data] Downloading package twitter_samples to /root/nltk_data...\n",
            "[nltk_data]   Unzipping corpora/twitter_samples.zip.\n"
          ]
        },
        {
          "output_type": "execute_result",
          "data": {
            "text/plain": [
              "True"
            ]
          },
          "metadata": {},
          "execution_count": 32
        }
      ]
    },
    {
      "cell_type": "code",
      "source": [
        "from nltk.corpus import twitter_samples"
      ],
      "metadata": {
        "id": "ZzFeA9ES7ETx"
      },
      "execution_count": 33,
      "outputs": []
    },
    {
      "cell_type": "markdown",
      "source": [
        "1. Instantiate the tweets that already have positive and negative labels to create training set for the classifier."
      ],
      "metadata": {
        "id": "Z24i-Ja-a7Tt"
      }
    },
    {
      "cell_type": "code",
      "source": [
        "positive_tweets = twitter_samples.strings('positive_tweets.json')\n",
        "negative_tweets = twitter_samples.strings('negative_tweets.json')"
      ],
      "metadata": {
        "id": "CI72B4-Y7GR1"
      },
      "execution_count": 34,
      "outputs": []
    },
    {
      "cell_type": "markdown",
      "source": [
        "Check the distributions of each type of tweets using indexing and len()."
      ],
      "metadata": {
        "id": "m8HrvQ99bFYx"
      }
    },
    {
      "cell_type": "code",
      "source": [
        "print(format(len(positive_tweets)))\n",
        "print(format(len(negative_tweets)))"
      ],
      "metadata": {
        "colab": {
          "base_uri": "https://localhost:8080/"
        },
        "id": "TuwrYJeV7I29",
        "outputId": "8b2676c2-7204-4d5a-cdad-53217c3cb653"
      },
      "execution_count": 35,
      "outputs": [
        {
          "output_type": "stream",
          "name": "stdout",
          "text": [
            "5000\n",
            "5000\n"
          ]
        }
      ]
    },
    {
      "cell_type": "markdown",
      "source": [
        "View first 5 tweets from each."
      ],
      "metadata": {
        "id": "D4KsVFSEbOIs"
      }
    },
    {
      "cell_type": "code",
      "source": [
        "print(negative_tweets[0:5])"
      ],
      "metadata": {
        "colab": {
          "base_uri": "https://localhost:8080/"
        },
        "id": "4I2kI5z97P2q",
        "outputId": "91d9fb40-c52e-4ebd-da53-a85547e5d71d"
      },
      "execution_count": 36,
      "outputs": [
        {
          "output_type": "stream",
          "name": "stdout",
          "text": [
            "['hopeless for tmr :(', \"Everything in the kids section of IKEA is so cute. Shame I'm nearly 19 in 2 months :(\", '@Hegelbon That heart sliding into the waste basket. :(', '“@ketchBurning: I hate Japanese call him \"bani\" :( :(”\\n\\nMe too', 'Dang starting next week I have \"work\" :(']\n"
          ]
        }
      ]
    },
    {
      "cell_type": "code",
      "source": [
        "print(positive_tweets[0:5])"
      ],
      "metadata": {
        "colab": {
          "base_uri": "https://localhost:8080/"
        },
        "id": "_3HCI45v7Vi_",
        "outputId": "8867d119-0daa-40c6-a800-2adebf45bb80"
      },
      "execution_count": 37,
      "outputs": [
        {
          "output_type": "stream",
          "name": "stdout",
          "text": [
            "['#FollowFriday @France_Inte @PKuchly57 @Milipol_Paris for being top engaged members in my community this week :)', '@Lamb2ja Hey James! How odd :/ Please call our Contact Centre on 02392441234 and we will be able to assist you :) Many thanks!', '@DespiteOfficial we had a listen last night :) As You Bleed is an amazing track. When are you in Scotland?!', '@97sides CONGRATS :)', 'yeaaaah yippppy!!!  my accnt verified rqst has succeed got a blue tick mark on my fb profile :) in 15 days']\n"
          ]
        }
      ]
    },
    {
      "cell_type": "markdown",
      "source": [
        "Evenly distributed, can tokenize."
      ],
      "metadata": {
        "id": "W65kLHp8bSGT"
      }
    },
    {
      "cell_type": "code",
      "source": [
        "from nltk.tokenize import word_tokenize"
      ],
      "metadata": {
        "id": "W2zkjSnG74XD"
      },
      "execution_count": 38,
      "outputs": []
    },
    {
      "cell_type": "code",
      "source": [
        " nltk.download('punkt')"
      ],
      "metadata": {
        "colab": {
          "base_uri": "https://localhost:8080/"
        },
        "id": "C7ajYi3d8Iq8",
        "outputId": "6f4db8a1-d8c6-49ae-b58f-faf50e574c6c"
      },
      "execution_count": 39,
      "outputs": [
        {
          "output_type": "stream",
          "name": "stderr",
          "text": [
            "[nltk_data] Downloading package punkt to /root/nltk_data...\n",
            "[nltk_data]   Unzipping tokenizers/punkt.zip.\n"
          ]
        },
        {
          "output_type": "execute_result",
          "data": {
            "text/plain": [
              "True"
            ]
          },
          "metadata": {},
          "execution_count": 39
        }
      ]
    },
    {
      "cell_type": "code",
      "source": [
        "positive_tweets.__class__.__name__"
      ],
      "metadata": {
        "colab": {
          "base_uri": "https://localhost:8080/",
          "height": 35
        },
        "id": "7g0Hk0B28NVh",
        "outputId": "1ea81491-6be3-447b-d417-b0d17499dff9"
      },
      "execution_count": 40,
      "outputs": [
        {
          "output_type": "execute_result",
          "data": {
            "text/plain": [
              "'list'"
            ],
            "application/vnd.google.colaboratory.intrinsic+json": {
              "type": "string"
            }
          },
          "metadata": {},
          "execution_count": 40
        }
      ]
    },
    {
      "cell_type": "markdown",
      "source": [
        "Tried tokenizing messages here using the nltk module but encountered an error."
      ],
      "metadata": {
        "id": "jL9jKlLGXynq"
      }
    },
    {
      "cell_type": "code",
      "source": [
        "tokenized_positive = twitter_samples.word_tokenized(positive_tweets)"
      ],
      "metadata": {
        "colab": {
          "base_uri": "https://localhost:8080/",
          "height": 139
        },
        "id": "zX1ZQscG7wbn",
        "outputId": "b426c0b0-1cec-4a6c-95a3-e08387ac7dfa"
      },
      "execution_count": 100,
      "outputs": [
        {
          "output_type": "error",
          "ename": "AttributeError",
          "evalue": "'TwitterCorpusReader' object has no attribute 'word_tokenized'",
          "traceback": [
            "\u001b[0;31m---------------------------------------------------------------------------\u001b[0m",
            "\u001b[0;31mAttributeError\u001b[0m                            Traceback (most recent call last)",
            "\u001b[0;32m<ipython-input-100-daf277d928bf>\u001b[0m in \u001b[0;36m<cell line: 1>\u001b[0;34m()\u001b[0m\n\u001b[0;32m----> 1\u001b[0;31m \u001b[0mtokenized_positive\u001b[0m \u001b[0;34m=\u001b[0m \u001b[0mtwitter_samples\u001b[0m\u001b[0;34m.\u001b[0m\u001b[0mword_tokenized\u001b[0m\u001b[0;34m(\u001b[0m\u001b[0mpositive_tweets\u001b[0m\u001b[0;34m)\u001b[0m\u001b[0;34m\u001b[0m\u001b[0;34m\u001b[0m\u001b[0m\n\u001b[0m",
            "\u001b[0;31mAttributeError\u001b[0m: 'TwitterCorpusReader' object has no attribute 'word_tokenized'"
          ]
        }
      ]
    },
    {
      "cell_type": "code",
      "source": [
        "nltk.download('averaged_perceptron_tagger')\n",
        "nltk.download('wordnet')"
      ],
      "metadata": {
        "colab": {
          "base_uri": "https://localhost:8080/"
        },
        "id": "1GcwcDl-8gLD",
        "outputId": "535eda08-7c5a-48be-c569-ee04e8c87023"
      },
      "execution_count": 42,
      "outputs": [
        {
          "output_type": "stream",
          "name": "stderr",
          "text": [
            "[nltk_data] Downloading package averaged_perceptron_tagger to\n",
            "[nltk_data]     /root/nltk_data...\n",
            "[nltk_data]   Unzipping taggers/averaged_perceptron_tagger.zip.\n",
            "[nltk_data] Downloading package wordnet to /root/nltk_data...\n"
          ]
        },
        {
          "output_type": "execute_result",
          "data": {
            "text/plain": [
              "True"
            ]
          },
          "metadata": {},
          "execution_count": 42
        }
      ]
    },
    {
      "cell_type": "code",
      "source": [
        "positive_tokenized = twitter_samples.tokenize(positive_tweets)"
      ],
      "metadata": {
        "colab": {
          "base_uri": "https://localhost:8080/",
          "height": 139
        },
        "id": "UA7qJjtu8hfo",
        "outputId": "e2dbc3de-eb72-4dc8-f1b1-210766ae9191"
      },
      "execution_count": 43,
      "outputs": [
        {
          "output_type": "error",
          "ename": "AttributeError",
          "evalue": "'TwitterCorpusReader' object has no attribute 'tokenize'",
          "traceback": [
            "\u001b[0;31m---------------------------------------------------------------------------\u001b[0m",
            "\u001b[0;31mAttributeError\u001b[0m                            Traceback (most recent call last)",
            "\u001b[0;32m<ipython-input-43-63f077683236>\u001b[0m in \u001b[0;36m<cell line: 1>\u001b[0;34m()\u001b[0m\n\u001b[0;32m----> 1\u001b[0;31m \u001b[0mpositive_tokenized\u001b[0m \u001b[0;34m=\u001b[0m \u001b[0mtwitter_samples\u001b[0m\u001b[0;34m.\u001b[0m\u001b[0mtokenize\u001b[0m\u001b[0;34m(\u001b[0m\u001b[0mpositive_tweets\u001b[0m\u001b[0;34m)\u001b[0m\u001b[0;34m\u001b[0m\u001b[0;34m\u001b[0m\u001b[0m\n\u001b[0m",
            "\u001b[0;31mAttributeError\u001b[0m: 'TwitterCorpusReader' object has no attribute 'tokenize'"
          ]
        }
      ]
    },
    {
      "cell_type": "markdown",
      "source": [
        "word_tokenize didn't work, so use tokenized() instead."
      ],
      "metadata": {
        "id": "-O1Vw4ABbYnM"
      }
    },
    {
      "cell_type": "code",
      "source": [
        "positive_tokens = twitter_samples.tokenized('positive_tweets.json')\n",
        "negative_tokens = twitter_samples.tokenized('negative_tweets.json')"
      ],
      "metadata": {
        "id": "XJgmuGVE82fV"
      },
      "execution_count": 101,
      "outputs": []
    },
    {
      "cell_type": "code",
      "source": [
        "positive_tokens[0:5]"
      ],
      "metadata": {
        "colab": {
          "base_uri": "https://localhost:8080/"
        },
        "id": "dHT_lIFh8_QA",
        "outputId": "b8af531a-e15a-4507-f059-21229adb470c"
      },
      "execution_count": 45,
      "outputs": [
        {
          "output_type": "execute_result",
          "data": {
            "text/plain": [
              "[['#FollowFriday',\n",
              "  '@France_Inte',\n",
              "  '@PKuchly57',\n",
              "  '@Milipol_Paris',\n",
              "  'for',\n",
              "  'being',\n",
              "  'top',\n",
              "  'engaged',\n",
              "  'members',\n",
              "  'in',\n",
              "  'my',\n",
              "  'community',\n",
              "  'this',\n",
              "  'week',\n",
              "  ':)'],\n",
              " ['@Lamb2ja',\n",
              "  'Hey',\n",
              "  'James',\n",
              "  '!',\n",
              "  'How',\n",
              "  'odd',\n",
              "  ':/',\n",
              "  'Please',\n",
              "  'call',\n",
              "  'our',\n",
              "  'Contact',\n",
              "  'Centre',\n",
              "  'on',\n",
              "  '02392441234',\n",
              "  'and',\n",
              "  'we',\n",
              "  'will',\n",
              "  'be',\n",
              "  'able',\n",
              "  'to',\n",
              "  'assist',\n",
              "  'you',\n",
              "  ':)',\n",
              "  'Many',\n",
              "  'thanks',\n",
              "  '!'],\n",
              " ['@DespiteOfficial',\n",
              "  'we',\n",
              "  'had',\n",
              "  'a',\n",
              "  'listen',\n",
              "  'last',\n",
              "  'night',\n",
              "  ':)',\n",
              "  'As',\n",
              "  'You',\n",
              "  'Bleed',\n",
              "  'is',\n",
              "  'an',\n",
              "  'amazing',\n",
              "  'track',\n",
              "  '.',\n",
              "  'When',\n",
              "  'are',\n",
              "  'you',\n",
              "  'in',\n",
              "  'Scotland',\n",
              "  '?',\n",
              "  '!'],\n",
              " ['@97sides', 'CONGRATS', ':)'],\n",
              " ['yeaaaah',\n",
              "  'yippppy',\n",
              "  '!',\n",
              "  '!',\n",
              "  '!',\n",
              "  'my',\n",
              "  'accnt',\n",
              "  'verified',\n",
              "  'rqst',\n",
              "  'has',\n",
              "  'succeed',\n",
              "  'got',\n",
              "  'a',\n",
              "  'blue',\n",
              "  'tick',\n",
              "  'mark',\n",
              "  'on',\n",
              "  'my',\n",
              "  'fb',\n",
              "  'profile',\n",
              "  ':)',\n",
              "  'in',\n",
              "  '15',\n",
              "  'days']]"
            ]
          },
          "metadata": {},
          "execution_count": 45
        }
      ]
    },
    {
      "cell_type": "code",
      "source": [
        "negative_tokens[0:5]"
      ],
      "metadata": {
        "colab": {
          "base_uri": "https://localhost:8080/"
        },
        "id": "bx3TgcKr9CWc",
        "outputId": "5a9b8fb4-7558-4751-e4e7-5a7a3c5631f9"
      },
      "execution_count": 46,
      "outputs": [
        {
          "output_type": "execute_result",
          "data": {
            "text/plain": [
              "[['hopeless', 'for', 'tmr', ':('],\n",
              " ['Everything',\n",
              "  'in',\n",
              "  'the',\n",
              "  'kids',\n",
              "  'section',\n",
              "  'of',\n",
              "  'IKEA',\n",
              "  'is',\n",
              "  'so',\n",
              "  'cute',\n",
              "  '.',\n",
              "  'Shame',\n",
              "  \"I'm\",\n",
              "  'nearly',\n",
              "  '19',\n",
              "  'in',\n",
              "  '2',\n",
              "  'months',\n",
              "  ':('],\n",
              " ['@Hegelbon',\n",
              "  'That',\n",
              "  'heart',\n",
              "  'sliding',\n",
              "  'into',\n",
              "  'the',\n",
              "  'waste',\n",
              "  'basket',\n",
              "  '.',\n",
              "  ':('],\n",
              " ['“',\n",
              "  '@ketchBurning',\n",
              "  ':',\n",
              "  'I',\n",
              "  'hate',\n",
              "  'Japanese',\n",
              "  'call',\n",
              "  'him',\n",
              "  '\"',\n",
              "  'bani',\n",
              "  '\"',\n",
              "  ':(',\n",
              "  ':(',\n",
              "  '”',\n",
              "  'Me',\n",
              "  'too'],\n",
              " ['Dang', 'starting', 'next', 'week', 'I', 'have', '\"', 'work', '\"', ':(']]"
            ]
          },
          "metadata": {},
          "execution_count": 46
        }
      ]
    },
    {
      "cell_type": "markdown",
      "source": [
        "Remove URLs and HTMLs from training tweets so that they will be standardised just as SMS data was.\n",
        "Save into lists."
      ],
      "metadata": {
        "id": "2RiHnobIbewq"
      }
    },
    {
      "cell_type": "code",
      "source": [
        "positive_cleaned = []\n",
        "negative_cleaned = []\n",
        "\n",
        "for tweet in positive_tokens:\n",
        "  cleaned_tweet = []\n",
        "  for token in tweet:\n",
        "    url_cleaned = remove_url(token)\n",
        "    html_cleaned = remove_html(url_cleaned)\n",
        "    cleaned_tweet.append(html_cleaned)\n",
        "  positive_cleaned.append(cleaned_tweet)\n",
        "\n",
        "for tweet in negative_tokens:\n",
        "  cleaned_tweet = []\n",
        "  for token in tweet:\n",
        "    url_cleaned = remove_url(token)\n",
        "    html_cleaned = remove_html(url_cleaned)\n",
        "    cleaned_tweet.append(html_cleaned)\n",
        "  negative_cleaned.append(html_cleaned)"
      ],
      "metadata": {
        "id": "BP3otidg7kyf"
      },
      "execution_count": 47,
      "outputs": []
    },
    {
      "cell_type": "code",
      "source": [
        "print(positive_cleaned[:5])"
      ],
      "metadata": {
        "colab": {
          "base_uri": "https://localhost:8080/"
        },
        "id": "VBTseh667tn3",
        "outputId": "fb65e66f-7746-4746-e9e0-97906af2ee47"
      },
      "execution_count": 48,
      "outputs": [
        {
          "output_type": "stream",
          "name": "stdout",
          "text": [
            "[['#FollowFriday', '@France_Inte', '@PKuchly57', '@Milipol_Paris', 'for', 'being', 'top', 'engaged', 'members', 'in', 'my', 'community', 'this', 'week', ':)'], ['@Lamb2ja', 'Hey', 'James', '!', 'How', 'odd', ':/', 'Please', 'call', 'our', 'Contact', 'Centre', 'on', '02392441234', 'and', 'we', 'will', 'be', 'able', 'to', 'assist', 'you', ':)', 'Many', 'thanks', '!'], ['@DespiteOfficial', 'we', 'had', 'a', 'listen', 'last', 'night', ':)', 'As', 'You', 'Bleed', 'is', 'an', 'amazing', 'track', '.', 'When', 'are', 'you', 'in', 'Scotland', '?', '!'], ['@97sides', 'CONGRATS', ':)'], ['yeaaaah', 'yippppy', '!', '!', '!', 'my', 'accnt', 'verified', 'rqst', 'has', 'succeed', 'got', 'a', 'blue', 'tick', 'mark', 'on', 'my', 'fb', 'profile', ':)', 'in', '15', 'days']]\n"
          ]
        }
      ]
    },
    {
      "cell_type": "code",
      "source": [
        "print(negative_cleaned[:5])"
      ],
      "metadata": {
        "colab": {
          "base_uri": "https://localhost:8080/"
        },
        "id": "t9jkNHD_9-eM",
        "outputId": "21917d76-2906-4fb3-ebe7-015a22df920f"
      },
      "execution_count": 49,
      "outputs": [
        {
          "output_type": "stream",
          "name": "stdout",
          "text": [
            "[':(', ':(', ':(', 'too', ':(']\n"
          ]
        }
      ]
    },
    {
      "cell_type": "markdown",
      "source": [
        "2. Select features for the classifier.\n",
        "\n",
        "Sleecr most common words in my corpus, assume they will be the best indicator of both labels, use frequency distribution to select them."
      ],
      "metadata": {
        "id": "hjHMoEMvbuKr"
      }
    },
    {
      "cell_type": "code",
      "source": [
        "all_tweets = positive_cleaned + negative_cleaned"
      ],
      "metadata": {
        "id": "vQMEG-xn-dbF"
      },
      "execution_count": 50,
      "outputs": []
    },
    {
      "cell_type": "code",
      "source": [
        "#changing 2 lists of tokens into 1\n",
        "all_tweets_tokenized = [token for sublist in all_tweets for token in sublist]"
      ],
      "metadata": {
        "id": "QyZAK31A-ifI"
      },
      "execution_count": 51,
      "outputs": []
    },
    {
      "cell_type": "code",
      "source": [
        "len(all_tweets_tokenized)"
      ],
      "metadata": {
        "colab": {
          "base_uri": "https://localhost:8080/"
        },
        "id": "B9yXgB9y-suj",
        "outputId": "a61b3972-371c-44a2-b3ae-33af91aad77a"
      },
      "execution_count": 52,
      "outputs": [
        {
          "output_type": "execute_result",
          "data": {
            "text/plain": [
              "78098"
            ]
          },
          "metadata": {},
          "execution_count": 52
        }
      ]
    },
    {
      "cell_type": "markdown",
      "source": [
        "Change tweet list to a flat token list."
      ],
      "metadata": {
        "id": "rgAGnm4jb93d"
      }
    },
    {
      "cell_type": "code",
      "source": [
        "all_tokens = nltk.FreqDist(token for token in all_tweets_tokenized)"
      ],
      "metadata": {
        "id": "8-q3OM4l-vyS"
      },
      "execution_count": 53,
      "outputs": []
    },
    {
      "cell_type": "markdown",
      "source": [
        "Check number of words."
      ],
      "metadata": {
        "id": "D0rB_Y7OcB2f"
      }
    },
    {
      "cell_type": "code",
      "source": [
        "print(len(all_tokens))"
      ],
      "metadata": {
        "colab": {
          "base_uri": "https://localhost:8080/"
        },
        "id": "jBBU1Aq_-6No",
        "outputId": "6c556ba9-f413-4545-afd4-39c9c9a70afe"
      },
      "execution_count": 54,
      "outputs": [
        {
          "output_type": "stream",
          "name": "stdout",
          "text": [
            "14235\n"
          ]
        }
      ]
    },
    {
      "cell_type": "markdown",
      "source": [
        "Create frequency distribution of all words.\n",
        "\n",
        "Choose the most common 10K words."
      ],
      "metadata": {
        "id": "cn42ek2KcDhB"
      }
    },
    {
      "cell_type": "code",
      "source": [
        "sentiment_features = [word for (word, freq) in all_tokens.most_common(10000)]"
      ],
      "metadata": {
        "id": "eVUv4GWM-8nS"
      },
      "execution_count": 55,
      "outputs": []
    },
    {
      "cell_type": "markdown",
      "source": [
        "Create feature extractor that identifies which feature is present in a message."
      ],
      "metadata": {
        "id": "w4OjBQYNcaih"
      }
    },
    {
      "cell_type": "code",
      "source": [
        "def document_features(document, sentiment_features):\n",
        "    #make a set list of all the tokens in a message\n",
        "    document_tokens = set(document)\n",
        "    features = {}\n",
        "    #for all my features, check if that feature is in my target message\n",
        "    for token in sentiment_features:\n",
        "        #make a dictionary for each message\n",
        "        features[token] = (token in document_tokens)\n",
        "    return features"
      ],
      "metadata": {
        "id": "ftHJRg--_S3a"
      },
      "execution_count": 56,
      "outputs": []
    },
    {
      "cell_type": "markdown",
      "source": [
        "Now create training and test sets, label them according, split into 70% training and 30% test.\n",
        "\n",
        "Use random library to randomise each tweet."
      ],
      "metadata": {
        "id": "hRbgJmYgcm_w"
      }
    },
    {
      "cell_type": "code",
      "source": [
        "import random"
      ],
      "metadata": {
        "id": "B5SIl8l5_hfJ"
      },
      "execution_count": 57,
      "outputs": []
    },
    {
      "cell_type": "markdown",
      "source": [
        "create positive and negative datasets from my list of tokenised tweets."
      ],
      "metadata": {
        "id": "Vd5Ix4_Pcvn5"
      }
    },
    {
      "cell_type": "code",
      "source": [
        "positive_tw = [(tweet, \"Positive\") for tweet in positive_cleaned]\n",
        "negative_tw = [(tweet, \"Negative\") for tweet in negative_cleaned]"
      ],
      "metadata": {
        "id": "GS6S_kBq_jF6"
      },
      "execution_count": 58,
      "outputs": []
    },
    {
      "cell_type": "markdown",
      "source": [
        "Create combined dataset."
      ],
      "metadata": {
        "id": "q6vwihUwc3Cn"
      }
    },
    {
      "cell_type": "code",
      "source": [
        "labelled_tweets = positive_tw + negative_tw"
      ],
      "metadata": {
        "id": "gCokX54b_w-h"
      },
      "execution_count": 59,
      "outputs": []
    },
    {
      "cell_type": "markdown",
      "source": [
        "Initiate random number that will allow you to get the same result every time.\n",
        "\n",
        "Shuffle the order of tweets."
      ],
      "metadata": {
        "id": "x_a4suzOc5yZ"
      }
    },
    {
      "cell_type": "code",
      "source": [
        "random.seed(101)\n",
        "random.shuffle(labelled_tweets)"
      ],
      "metadata": {
        "id": "71kS6301_1-W"
      },
      "execution_count": 60,
      "outputs": []
    },
    {
      "cell_type": "markdown",
      "source": [
        "Create list of (token, sentiment) pairs for all features in the tweets list"
      ],
      "metadata": {
        "id": "LytwmpqddD3C"
      }
    },
    {
      "cell_type": "code",
      "source": [
        "feature_set = [(document_features(d, sentiment_features),c) for (d,c) in labelled_tweets]\n",
        "# Separate the dataset into the training and testing sets\n",
        "train_set, test_set = feature_set[:3000], feature_set[3000:]"
      ],
      "metadata": {
        "id": "GuBSmGANAxNH"
      },
      "execution_count": 102,
      "outputs": []
    },
    {
      "cell_type": "markdown",
      "source": [
        "## **Naive Bayes Classifier**"
      ],
      "metadata": {
        "id": "FRefY1-QdeWn"
      }
    },
    {
      "cell_type": "markdown",
      "source": [
        "Use the NaiveBayesClassifier model with training and test sets to build my sentiment model.\n",
        "\n",
        "Use classify() function to check the performance of my model on training set."
      ],
      "metadata": {
        "id": "jjQ2mKsNdW9U"
      }
    },
    {
      "cell_type": "markdown",
      "source": [
        "instant classifier and train it on training set/"
      ],
      "metadata": {
        "id": "5x6y1OggdkM9"
      }
    },
    {
      "cell_type": "code",
      "source": [
        "from nltk.classify import NaiveBayesClassifier"
      ],
      "metadata": {
        "id": "RpCUZkWFBA6L"
      },
      "execution_count": 62,
      "outputs": []
    },
    {
      "cell_type": "code",
      "source": [
        "classifier = NaiveBayesClassifier.train(train_set)"
      ],
      "metadata": {
        "id": "2unqtuW1BFAm"
      },
      "execution_count": 63,
      "outputs": []
    },
    {
      "cell_type": "code",
      "source": [
        "from nltk import classify"
      ],
      "metadata": {
        "id": "KQ2DGJ8HBNT7"
      },
      "execution_count": 64,
      "outputs": []
    },
    {
      "cell_type": "markdown",
      "source": [
        "Evaluate the model with classify()"
      ],
      "metadata": {
        "id": "crAL5Eexdpo4"
      }
    },
    {
      "cell_type": "code",
      "source": [
        "print(classify.accuracy(classifier, test_set))"
      ],
      "metadata": {
        "colab": {
          "base_uri": "https://localhost:8080/"
        },
        "id": "BbdPz__YBKmP",
        "outputId": "684bcc64-7552-4e2d-c860-ffd94493a074"
      },
      "execution_count": 65,
      "outputs": [
        {
          "output_type": "stream",
          "name": "stdout",
          "text": [
            "0.9858571428571429\n"
          ]
        }
      ]
    },
    {
      "cell_type": "markdown",
      "source": [
        "Show 20 most informative features for prediction of the 2 classes."
      ],
      "metadata": {
        "id": "0DLAyrc2ds9z"
      }
    },
    {
      "cell_type": "code",
      "source": [
        "print(classifier.show_most_informative_features(20))"
      ],
      "metadata": {
        "colab": {
          "base_uri": "https://localhost:8080/"
        },
        "id": "iNBj26V1BSXW",
        "outputId": "9857fcdb-fe09-485b-bb0c-3888e651710f"
      },
      "execution_count": 66,
      "outputs": [
        {
          "output_type": "stream",
          "name": "stdout",
          "text": [
            "Most Informative Features\n",
            "                       ( = True           Negati : Positi =     39.9 : 1.0\n",
            "                       ) = True           Positi : Negati =     31.2 : 1.0\n",
            "                       l = True           Negati : Positi =     28.9 : 1.0\n",
            "                       m = True           Negati : Positi =     26.9 : 1.0\n",
            "                       r = True           Negati : Positi =     18.2 : 1.0\n",
            "                       I = True           Positi : Negati =     18.0 : 1.0\n",
            "                       o = True           Negati : Positi =     17.4 : 1.0\n",
            "                       ! = True           Positi : Negati =     17.2 : 1.0\n",
            "                       t = True           Negati : Positi =     16.5 : 1.0\n",
            "                       1 = True           Positi : Negati =     16.0 : 1.0\n",
            "                       g = True           Negati : Positi =     15.3 : 1.0\n",
            "                       : = True           Negati : Positi =     14.7 : 1.0\n",
            "                       k = True           Negati : Positi =     13.3 : 1.0\n",
            "                       n = True           Negati : Positi =     12.1 : 1.0\n",
            "                       d = True           Negati : Positi =     11.6 : 1.0\n",
            "                       C = True           Negati : Positi =     10.6 : 1.0\n",
            "                       h = True           Negati : Positi =     10.4 : 1.0\n",
            "                       y = True           Negati : Positi =      9.5 : 1.0\n",
            "                       ' = True           Positi : Negati =      9.5 : 1.0\n",
            "                       s = True           Negati : Positi =      9.4 : 1.0\n",
            "None\n"
          ]
        }
      ]
    },
    {
      "cell_type": "markdown",
      "source": [
        "Now use my model to classify sentiment of messages.\n",
        "\n",
        "First try it out one last time on a sample message from the whatsapp corpus before all of it."
      ],
      "metadata": {
        "id": "k1oD6Hindylf"
      }
    },
    {
      "cell_type": "code",
      "source": [
        "sample_message = str(text['message_clean'][50])\n",
        "print(sample_message)"
      ],
      "metadata": {
        "colab": {
          "base_uri": "https://localhost:8080/"
        },
        "id": "vqzZa9etBXaj",
        "outputId": "516b64ac-f854-49b4-c373-5652d0c47f47"
      },
      "execution_count": 103,
      "outputs": [
        {
          "output_type": "stream",
          "name": "stdout",
          "text": [
            "yup... ok i go home look at the timings then i msg ü again... xuhui going to learn on 2nd may too but her lesson is at 8am\n"
          ]
        }
      ]
    },
    {
      "cell_type": "markdown",
      "source": [
        "Predict sentiment of the sample message.\n",
        "\n",
        "50th message is Negative."
      ],
      "metadata": {
        "id": "RsV9tmQvd8Cd"
      }
    },
    {
      "cell_type": "code",
      "source": [
        "print(classifier.classify(dict([token, True] for token in sample_message)))"
      ],
      "metadata": {
        "colab": {
          "base_uri": "https://localhost:8080/"
        },
        "id": "ZNHrTorTBega",
        "outputId": "1472637d-ac39-43db-913a-0e67d4d78ab3"
      },
      "execution_count": 68,
      "outputs": [
        {
          "output_type": "stream",
          "name": "stdout",
          "text": [
            "Negative\n"
          ]
        }
      ]
    },
    {
      "cell_type": "markdown",
      "source": [
        "Now evaluate on all messages in the SMS whatsapp corpus."
      ],
      "metadata": {
        "id": "3h3ML15reB6N"
      }
    },
    {
      "cell_type": "code",
      "source": [
        "# Create an empty list\n",
        "sentiments = []\n",
        "\n",
        "# Iterate through the column and predict each response's sentiment, append\n",
        "# sentiment to new list\n",
        "for message in text['message_clean']:\n",
        "    sentiments.append(str((classifier.classify(dict([token, True] for token in message)))))\n",
        "\n",
        "# add the list back to our DataFrame\n",
        "text['Sentiment'] = sentiments\n",
        "\n",
        "text['Sentiment'].value_counts()"
      ],
      "metadata": {
        "colab": {
          "base_uri": "https://localhost:8080/",
          "height": 176
        },
        "id": "p5yF_1gdBqH7",
        "outputId": "a1cb395e-d118-4e6e-f242-08ae5d92b9a4"
      },
      "execution_count": 104,
      "outputs": [
        {
          "output_type": "execute_result",
          "data": {
            "text/plain": [
              "Sentiment\n",
              "Negative    48354\n",
              "Positive      241\n",
              "Name: count, dtype: int64"
            ],
            "text/html": [
              "<div>\n",
              "<style scoped>\n",
              "    .dataframe tbody tr th:only-of-type {\n",
              "        vertical-align: middle;\n",
              "    }\n",
              "\n",
              "    .dataframe tbody tr th {\n",
              "        vertical-align: top;\n",
              "    }\n",
              "\n",
              "    .dataframe thead th {\n",
              "        text-align: right;\n",
              "    }\n",
              "</style>\n",
              "<table border=\"1\" class=\"dataframe\">\n",
              "  <thead>\n",
              "    <tr style=\"text-align: right;\">\n",
              "      <th></th>\n",
              "      <th>count</th>\n",
              "    </tr>\n",
              "    <tr>\n",
              "      <th>Sentiment</th>\n",
              "      <th></th>\n",
              "    </tr>\n",
              "  </thead>\n",
              "  <tbody>\n",
              "    <tr>\n",
              "      <th>Negative</th>\n",
              "      <td>48354</td>\n",
              "    </tr>\n",
              "    <tr>\n",
              "      <th>Positive</th>\n",
              "      <td>241</td>\n",
              "    </tr>\n",
              "  </tbody>\n",
              "</table>\n",
              "</div><br><label><b>dtype:</b> int64</label>"
            ]
          },
          "metadata": {},
          "execution_count": 104
        }
      ]
    },
    {
      "cell_type": "markdown",
      "source": [
        "See what portion of messages is positive and negative using value_counts().\n",
        "\n",
        "Normalise value_counts() with normalize=True to get the exact proportion instead of raw counts."
      ],
      "metadata": {
        "id": "q-Un60kmeHuN"
      }
    },
    {
      "cell_type": "code",
      "source": [
        "text['Sentiment'].value_counts(normalize=True)"
      ],
      "metadata": {
        "colab": {
          "base_uri": "https://localhost:8080/",
          "height": 176
        },
        "id": "CEF1TNF1B2ZS",
        "outputId": "ba466eba-90f5-4bed-c904-552d4f498aac"
      },
      "execution_count": 70,
      "outputs": [
        {
          "output_type": "execute_result",
          "data": {
            "text/plain": [
              "Sentiment\n",
              "Negative    0.995041\n",
              "Positive    0.004959\n",
              "Name: proportion, dtype: float64"
            ],
            "text/html": [
              "<div>\n",
              "<style scoped>\n",
              "    .dataframe tbody tr th:only-of-type {\n",
              "        vertical-align: middle;\n",
              "    }\n",
              "\n",
              "    .dataframe tbody tr th {\n",
              "        vertical-align: top;\n",
              "    }\n",
              "\n",
              "    .dataframe thead th {\n",
              "        text-align: right;\n",
              "    }\n",
              "</style>\n",
              "<table border=\"1\" class=\"dataframe\">\n",
              "  <thead>\n",
              "    <tr style=\"text-align: right;\">\n",
              "      <th></th>\n",
              "      <th>proportion</th>\n",
              "    </tr>\n",
              "    <tr>\n",
              "      <th>Sentiment</th>\n",
              "      <th></th>\n",
              "    </tr>\n",
              "  </thead>\n",
              "  <tbody>\n",
              "    <tr>\n",
              "      <th>Negative</th>\n",
              "      <td>0.995041</td>\n",
              "    </tr>\n",
              "    <tr>\n",
              "      <th>Positive</th>\n",
              "      <td>0.004959</td>\n",
              "    </tr>\n",
              "  </tbody>\n",
              "</table>\n",
              "</div><br><label><b>dtype:</b> float64</label>"
            ]
          },
          "metadata": {},
          "execution_count": 70
        }
      ]
    },
    {
      "cell_type": "markdown",
      "source": [
        "View distribution in a countplot."
      ],
      "metadata": {
        "id": "Y5ppxs25eY5G"
      }
    },
    {
      "cell_type": "code",
      "source": [
        "sns.countplot(x='Sentiment', data=text, palette='RdBu')"
      ],
      "metadata": {
        "colab": {
          "base_uri": "https://localhost:8080/",
          "height": 571
        },
        "id": "2yyqYXOOB_84",
        "outputId": "88cd9bb8-3157-4a71-91c3-33b6b95c93e8"
      },
      "execution_count": 71,
      "outputs": [
        {
          "output_type": "stream",
          "name": "stderr",
          "text": [
            "<ipython-input-71-f6d52e264b3a>:1: FutureWarning: \n",
            "\n",
            "Passing `palette` without assigning `hue` is deprecated and will be removed in v0.14.0. Assign the `x` variable to `hue` and set `legend=False` for the same effect.\n",
            "\n",
            "  sns.countplot(x='Sentiment', data=text, palette='RdBu')\n"
          ]
        },
        {
          "output_type": "execute_result",
          "data": {
            "text/plain": [
              "<Axes: xlabel='Sentiment', ylabel='count'>"
            ]
          },
          "metadata": {},
          "execution_count": 71
        },
        {
          "output_type": "display_data",
          "data": {
            "text/plain": [
              "<Figure size 640x480 with 1 Axes>"
            ],
            "image/png": "[encoded data removed]"
          },
          "metadata": {}
        }
      ]
    },
    {
      "cell_type": "markdown",
      "source": [
        "Model predicts that 64.3% messages are negative in the SMS corpus.\n",
        "\n",
        "Now we want to compare the sentiment per country.\n",
        "\n",
        "To make this easier transform the sentiment into numeric variable, positive messages are 1 and negative are -1."
      ],
      "metadata": {
        "id": "ogEpB0oaec02"
      }
    },
    {
      "cell_type": "code",
      "source": [
        "# Define a function to convert sentiment into binary values\n",
        "def convert_sentiment(sentiment):\n",
        "    if sentiment == 'Positive':\n",
        "        return 1\n",
        "    else:\n",
        "        return -1\n",
        "\n",
        "# Create new feature based on the values returned from function\n",
        "text['Sentiment_score'] = text['Sentiment'].apply(convert_sentiment)\n",
        "\n",
        "#check\n",
        "text.head()"
      ],
      "metadata": {
        "colab": {
          "base_uri": "https://localhost:8080/",
          "height": 442
        },
        "id": "J301f8HSCsQ2",
        "outputId": "8b379386-5499-4fba-8f4a-e2c2247ba232"
      },
      "execution_count": 105,
      "outputs": [
        {
          "output_type": "execute_result",
          "data": {
            "text/plain": [
              "   Unnamed: 0     id                                            Message  \\\n",
              "0           0  10120                              Bugis oso near wat...   \n",
              "1           1  10121  Go until jurong point, crazy.. Available only ...   \n",
              "2           2  10122     I dunno until when... Lets go learn pilates...   \n",
              "3           3  10123  Den only weekdays got special price... Haiz......   \n",
              "4           4  10124                             Meet after lunch la...   \n",
              "\n",
              "  length    country    Date  \\\n",
              "0     21  Singapore  2003/4   \n",
              "1    111  Singapore  2003/4   \n",
              "2     46  Singapore  2003/4   \n",
              "3    140  Singapore  2003/4   \n",
              "4     22  Singapore  2003/4   \n",
              "\n",
              "                                   Message_lowercase  \\\n",
              "0                              bugis oso near wat...   \n",
              "1  go until jurong point, crazy.. available only ...   \n",
              "2     i dunno until when... lets go learn pilates...   \n",
              "3  den only weekdays got special price... haiz......   \n",
              "4                             meet after lunch la...   \n",
              "\n",
              "                                       message_clean Sentiment  \\\n",
              "0                              bugis oso near wat...  Negative   \n",
              "1  go until jurong point, crazy.. available only ...  Negative   \n",
              "2     i dunno until when... lets go learn pilates...  Negative   \n",
              "3  den only weekdays got special price... haiz......  Negative   \n",
              "4                             meet after lunch la...  Negative   \n",
              "\n",
              "   Sentiment_score  \n",
              "0               -1  \n",
              "1               -1  \n",
              "2               -1  \n",
              "3               -1  \n",
              "4               -1  "
            ],
            "text/html": [
              "\n",
              "  <div id=\"df-cb44a5bb-77db-4c80-a9d2-cf1fe25b4120\" class=\"colab-df-container\">\n",
              "    <div>\n",
              "<style scoped>\n",
              "    .dataframe tbody tr th:only-of-type {\n",
              "        vertical-align: middle;\n",
              "    }\n",
              "\n",
              "    .dataframe tbody tr th {\n",
              "        vertical-align: top;\n",
              "    }\n",
              "\n",
              "    .dataframe thead th {\n",
              "        text-align: right;\n",
              "    }\n",
              "</style>\n",
              "<table border=\"1\" class=\"dataframe\">\n",
              "  <thead>\n",
              "    <tr style=\"text-align: right;\">\n",
              "      <th></th>\n",
              "      <th>Unnamed: 0</th>\n",
              "      <th>id</th>\n",
              "      <th>Message</th>\n",
              "      <th>length</th>\n",
              "      <th>country</th>\n",
              "      <th>Date</th>\n",
              "      <th>Message_lowercase</th>\n",
              "      <th>message_clean</th>\n",
              "      <th>Sentiment</th>\n",
              "      <th>Sentiment_score</th>\n",
              "    </tr>\n",
              "  </thead>\n",
              "  <tbody>\n",
              "    <tr>\n",
              "      <th>0</th>\n",
              "      <td>0</td>\n",
              "      <td>10120</td>\n",
              "      <td>Bugis oso near wat...</td>\n",
              "      <td>21</td>\n",
              "      <td>Singapore</td>\n",
              "      <td>2003/4</td>\n",
              "      <td>bugis oso near wat...</td>\n",
              "      <td>bugis oso near wat...</td>\n",
              "      <td>Negative</td>\n",
              "      <td>-1</td>\n",
              "    </tr>\n",
              "    <tr>\n",
              "      <th>1</th>\n",
              "      <td>1</td>\n",
              "      <td>10121</td>\n",
              "      <td>Go until jurong point, crazy.. Available only ...</td>\n",
              "      <td>111</td>\n",
              "      <td>Singapore</td>\n",
              "      <td>2003/4</td>\n",
              "      <td>go until jurong point, crazy.. available only ...</td>\n",
              "      <td>go until jurong point, crazy.. available only ...</td>\n",
              "      <td>Negative</td>\n",
              "      <td>-1</td>\n",
              "    </tr>\n",
              "    <tr>\n",
              "      <th>2</th>\n",
              "      <td>2</td>\n",
              "      <td>10122</td>\n",
              "      <td>I dunno until when... Lets go learn pilates...</td>\n",
              "      <td>46</td>\n",
              "      <td>Singapore</td>\n",
              "      <td>2003/4</td>\n",
              "      <td>i dunno until when... lets go learn pilates...</td>\n",
              "      <td>i dunno until when... lets go learn pilates...</td>\n",
              "      <td>Negative</td>\n",
              "      <td>-1</td>\n",
              "    </tr>\n",
              "    <tr>\n",
              "      <th>3</th>\n",
              "      <td>3</td>\n",
              "      <td>10123</td>\n",
              "      <td>Den only weekdays got special price... Haiz......</td>\n",
              "      <td>140</td>\n",
              "      <td>Singapore</td>\n",
              "      <td>2003/4</td>\n",
              "      <td>den only weekdays got special price... haiz......</td>\n",
              "      <td>den only weekdays got special price... haiz......</td>\n",
              "      <td>Negative</td>\n",
              "      <td>-1</td>\n",
              "    </tr>\n",
              "    <tr>\n",
              "      <th>4</th>\n",
              "      <td>4</td>\n",
              "      <td>10124</td>\n",
              "      <td>Meet after lunch la...</td>\n",
              "      <td>22</td>\n",
              "      <td>Singapore</td>\n",
              "      <td>2003/4</td>\n",
              "      <td>meet after lunch la...</td>\n",
              "      <td>meet after lunch la...</td>\n",
              "      <td>Negative</td>\n",
              "      <td>-1</td>\n",
              "    </tr>\n",
              "  </tbody>\n",
              "</table>\n",
              "</div>\n",
              "    <div class=\"colab-df-buttons\">\n",
              "\n",
              "  <div class=\"colab-df-container\">\n",
              "    <button class=\"colab-df-convert\" onclick=\"convertToInteractive('df-cb44a5bb-77db-4c80-a9d2-cf1fe25b4120')\"\n",
              "            title=\"Convert this dataframe to an interactive table.\"\n",
              "            style=\"display:none;\">\n",
              "\n",
              "  <svg xmlns=\"http://www.w3.org/2000/svg\" height=\"24px\" viewBox=\"0 -960 960 960\">\n",
              "    <path d=\"M120-120v-720h720v720H120Zm60-500h600v-160H180v160Zm220 220h160v-160H400v160Zm0 220h160v-160H400v160ZM180-400h160v-160H180v160Zm440 0h160v-160H620v160ZM180-180h160v-160H180v160Zm440 0h160v-160H620v160Z\"/>\n",
              "  </svg>\n",
              "    </button>\n",
              "\n",
              "  <style>\n",
              "    .colab-df-container {\n",
              "      display:flex;\n",
              "      gap: 12px;\n",
              "    }\n",
              "\n",
              "    .colab-df-convert {\n",
              "      background-color: #E8F0FE;\n",
              "      border: none;\n",
              "      border-radius: 50%;\n",
              "      cursor: pointer;\n",
              "      display: none;\n",
              "      fill: #1967D2;\n",
              "      height: 32px;\n",
              "      padding: 0 0 0 0;\n",
              "      width: 32px;\n",
              "    }\n",
              "\n",
              "    .colab-df-convert:hover {\n",
              "      background-color: #E2EBFA;\n",
              "      box-shadow: 0px 1px 2px rgba(60, 64, 67, 0.3), 0px 1px 3px 1px rgba(60, 64, 67, 0.15);\n",
              "      fill: #174EA6;\n",
              "    }\n",
              "\n",
              "    .colab-df-buttons div {\n",
              "      margin-bottom: 4px;\n",
              "    }\n",
              "\n",
              "    [theme=dark] .colab-df-convert {\n",
              "      background-color: #3B4455;\n",
              "      fill: #D2E3FC;\n",
              "    }\n",
              "\n",
              "    [theme=dark] .colab-df-convert:hover {\n",
              "      background-color: #434B5C;\n",
              "      box-shadow: 0px 1px 3px 1px rgba(0, 0, 0, 0.15);\n",
              "      filter: drop-shadow(0px 1px 2px rgba(0, 0, 0, 0.3));\n",
              "      fill: #FFFFFF;\n",
              "    }\n",
              "  </style>\n",
              "\n",
              "    <script>\n",
              "      const buttonEl =\n",
              "        document.querySelector('#df-cb44a5bb-77db-4c80-a9d2-cf1fe25b4120 button.colab-df-convert');\n",
              "      buttonEl.style.display =\n",
              "        google.colab.kernel.accessAllowed ? 'block' : 'none';\n",
              "\n",
              "      async function convertToInteractive(key) {\n",
              "        const element = document.querySelector('#df-cb44a5bb-77db-4c80-a9d2-cf1fe25b4120');\n",
              "        const dataTable =\n",
              "          await google.colab.kernel.invokeFunction('convertToInteractive',\n",
              "                                                    [key], {});\n",
              "        if (!dataTable) return;\n",
              "\n",
              "        const docLinkHtml = 'Like what you see? Visit the ' +\n",
              "          '<a target=\"_blank\" href=https://colab.research.google.com/notebooks/data_table.ipynb>data table notebook</a>'\n",
              "          + ' to learn more about interactive tables.';\n",
              "        element.innerHTML = '';\n",
              "        dataTable['output_type'] = 'display_data';\n",
              "        await google.colab.output.renderOutput(dataTable, element);\n",
              "        const docLink = document.createElement('div');\n",
              "        docLink.innerHTML = docLinkHtml;\n",
              "        element.appendChild(docLink);\n",
              "      }\n",
              "    </script>\n",
              "  </div>\n",
              "\n",
              "\n",
              "<div id=\"df-cf15988f-f066-43c1-bf22-a24e270de8fd\">\n",
              "  <button class=\"colab-df-quickchart\" onclick=\"quickchart('df-cf15988f-f066-43c1-bf22-a24e270de8fd')\"\n",
              "            title=\"Suggest charts\"\n",
              "            style=\"display:none;\">\n",
              "\n",
              "<svg xmlns=\"http://www.w3.org/2000/svg\" height=\"24px\"viewBox=\"0 0 24 24\"\n",
              "     width=\"24px\">\n",
              "    <g>\n",
              "        <path d=\"M19 3H5c-1.1 0-2 .9-2 2v14c0 1.1.9 2 2 2h14c1.1 0 2-.9 2-2V5c0-1.1-.9-2-2-2zM9 17H7v-7h2v7zm4 0h-2V7h2v10zm4 0h-2v-4h2v4z\"/>\n",
              "    </g>\n",
              "</svg>\n",
              "  </button>\n",
              "\n",
              "<style>\n",
              "  .colab-df-quickchart {\n",
              "      --bg-color: #E8F0FE;\n",
              "      --fill-color: #1967D2;\n",
              "      --hover-bg-color: #E2EBFA;\n",
              "      --hover-fill-color: #174EA6;\n",
              "      --disabled-fill-color: #AAA;\n",
              "      --disabled-bg-color: #DDD;\n",
              "  }\n",
              "\n",
              "  [theme=dark] .colab-df-quickchart {\n",
              "      --bg-color: #3B4455;\n",
              "      --fill-color: #D2E3FC;\n",
              "      --hover-bg-color: #434B5C;\n",
              "      --hover-fill-color: #FFFFFF;\n",
              "      --disabled-bg-color: #3B4455;\n",
              "      --disabled-fill-color: #666;\n",
              "  }\n",
              "\n",
              "  .colab-df-quickchart {\n",
              "    background-color: var(--bg-color);\n",
              "    border: none;\n",
              "    border-radius: 50%;\n",
              "    cursor: pointer;\n",
              "    display: none;\n",
              "    fill: var(--fill-color);\n",
              "    height: 32px;\n",
              "    padding: 0;\n",
              "    width: 32px;\n",
              "  }\n",
              "\n",
              "  .colab-df-quickchart:hover {\n",
              "    background-color: var(--hover-bg-color);\n",
              "    box-shadow: 0 1px 2px rgba(60, 64, 67, 0.3), 0 1px 3px 1px rgba(60, 64, 67, 0.15);\n",
              "    fill: var(--button-hover-fill-color);\n",
              "  }\n",
              "\n",
              "  .colab-df-quickchart-complete:disabled,\n",
              "  .colab-df-quickchart-complete:disabled:hover {\n",
              "    background-color: var(--disabled-bg-color);\n",
              "    fill: var(--disabled-fill-color);\n",
              "    box-shadow: none;\n",
              "  }\n",
              "\n",
              "  .colab-df-spinner {\n",
              "    border: 2px solid var(--fill-color);\n",
              "    border-color: transparent;\n",
              "    border-bottom-color: var(--fill-color);\n",
              "    animation:\n",
              "      spin 1s steps(1) infinite;\n",
              "  }\n",
              "\n",
              "  @keyframes spin {\n",
              "    0% {\n",
              "      border-color: transparent;\n",
              "      border-bottom-color: var(--fill-color);\n",
              "      border-left-color: var(--fill-color);\n",
              "    }\n",
              "    20% {\n",
              "      border-color: transparent;\n",
              "      border-left-color: var(--fill-color);\n",
              "      border-top-color: var(--fill-color);\n",
              "    }\n",
              "    30% {\n",
              "      border-color: transparent;\n",
              "      border-left-color: var(--fill-color);\n",
              "      border-top-color: var(--fill-color);\n",
              "      border-right-color: var(--fill-color);\n",
              "    }\n",
              "    40% {\n",
              "      border-color: transparent;\n",
              "      border-right-color: var(--fill-color);\n",
              "      border-top-color: var(--fill-color);\n",
              "    }\n",
              "    60% {\n",
              "      border-color: transparent;\n",
              "      border-right-color: var(--fill-color);\n",
              "    }\n",
              "    80% {\n",
              "      border-color: transparent;\n",
              "      border-right-color: var(--fill-color);\n",
              "      border-bottom-color: var(--fill-color);\n",
              "    }\n",
              "    90% {\n",
              "      border-color: transparent;\n",
              "      border-bottom-color: var(--fill-color);\n",
              "    }\n",
              "  }\n",
              "</style>\n",
              "\n",
              "  <script>\n",
              "    async function quickchart(key) {\n",
              "      const quickchartButtonEl =\n",
              "        document.querySelector('#' + key + ' button');\n",
              "      quickchartButtonEl.disabled = true;  // To prevent multiple clicks.\n",
              "      quickchartButtonEl.classList.add('colab-df-spinner');\n",
              "      try {\n",
              "        const charts = await google.colab.kernel.invokeFunction(\n",
              "            'suggestCharts', [key], {});\n",
              "      } catch (error) {\n",
              "        console.error('Error during call to suggestCharts:', error);\n",
              "      }\n",
              "      quickchartButtonEl.classList.remove('colab-df-spinner');\n",
              "      quickchartButtonEl.classList.add('colab-df-quickchart-complete');\n",
              "    }\n",
              "    (() => {\n",
              "      let quickchartButtonEl =\n",
              "        document.querySelector('#df-cf15988f-f066-43c1-bf22-a24e270de8fd button');\n",
              "      quickchartButtonEl.style.display =\n",
              "        google.colab.kernel.accessAllowed ? 'block' : 'none';\n",
              "    })();\n",
              "  </script>\n",
              "</div>\n",
              "\n",
              "    </div>\n",
              "  </div>\n"
            ],
            "application/vnd.google.colaboratory.intrinsic+json": {
              "type": "dataframe",
              "variable_name": "text",
              "summary": "{\n  \"name\": \"text\",\n  \"rows\": 48595,\n  \"fields\": [\n    {\n      \"column\": \"Unnamed: 0\",\n      \"properties\": {\n        \"dtype\": \"number\",\n        \"std\": 16205,\n        \"min\": 0,\n        \"max\": 55834,\n        \"num_unique_values\": 48595,\n        \"samples\": [\n          45801,\n          20975,\n          16397\n        ],\n        \"semantic_type\": \"\",\n        \"description\": \"\"\n      }\n    },\n    {\n      \"column\": \"id\",\n      \"properties\": {\n        \"dtype\": \"number\",\n        \"std\": 12189,\n        \"min\": 1,\n        \"max\": 45718,\n        \"num_unique_values\": 39462,\n        \"samples\": [\n          43951,\n          3990,\n          9860\n        ],\n        \"semantic_type\": \"\",\n        \"description\": \"\"\n      }\n    },\n    {\n      \"column\": \"Message\",\n      \"properties\": {\n        \"dtype\": \"string\",\n        \"num_unique_values\": 48586,\n        \"samples\": [\n          \"Not very sure eh... neva buy before. U may want to try other software like \\u7f8e\\u56fe\\u79c0\\u79c0, tat one i htink is free\",\n          \"nai...kal hi deni ha\",\n          \"Hello my little party animal! I just thought I'd buzz you as you were with your friends ...*grins*... Reminding you were loved and send a naughty adoring kiss\"\n        ],\n        \"semantic_type\": \"\",\n        \"description\": \"\"\n      }\n    },\n    {\n      \"column\": \"length\",\n      \"properties\": {\n        \"dtype\": \"category\",\n        \"num_unique_values\": 470,\n        \"samples\": [\n          \"43\",\n          \"108\",\n          \"125\"\n        ],\n        \"semantic_type\": \"\",\n        \"description\": \"\"\n      }\n    },\n    {\n      \"column\": \"country\",\n      \"properties\": {\n        \"dtype\": \"category\",\n        \"num_unique_values\": 33,\n        \"samples\": [\n          \"Barbados\",\n          \"Macedonia\",\n          \"Trinidad and Tobago\"\n        ],\n        \"semantic_type\": \"\",\n        \"description\": \"\"\n      }\n    },\n    {\n      \"column\": \"Date\",\n      \"properties\": {\n        \"dtype\": \"object\",\n        \"num_unique_values\": 27,\n        \"samples\": [\n          \"2011/6\",\n          \"2012/2\",\n          \"2011/8\"\n        ],\n        \"semantic_type\": \"\",\n        \"description\": \"\"\n      }\n    },\n    {\n      \"column\": \"Message_lowercase\",\n      \"properties\": {\n        \"dtype\": \"string\",\n        \"num_unique_values\": 48354,\n        \"samples\": [\n          \"got bread in e toaster...\",\n          \"ll quit my job at e end of tis month... so sian of workin oredi.. u still workin?\",\n          \"wa so many lol... no arh i king then.u shld be queen mah! lol... sofat fat also =p... so wat time u intending to sleep?\"\n        ],\n        \"semantic_type\": \"\",\n        \"description\": \"\"\n      }\n    },\n    {\n      \"column\": \"message_clean\",\n      \"properties\": {\n        \"dtype\": \"string\",\n        \"num_unique_values\": 48334,\n        \"samples\": [\n          \"xin said okie... huh? u in macs now ah...\",\n          \"yes andrx,u r more dan  % corect.v hv 2 go 2 1 day,bt malli wnt earlier.one way its gud cos its 4 his own gud n he wil pave d way 4 us 2 reach god.yes..gb\",\n          \"haha better late than ever, any way i could swing by?\"\n        ],\n        \"semantic_type\": \"\",\n        \"description\": \"\"\n      }\n    },\n    {\n      \"column\": \"Sentiment\",\n      \"properties\": {\n        \"dtype\": \"category\",\n        \"num_unique_values\": 2,\n        \"samples\": [\n          \"Positive\",\n          \"Negative\"\n        ],\n        \"semantic_type\": \"\",\n        \"description\": \"\"\n      }\n    },\n    {\n      \"column\": \"Sentiment_score\",\n      \"properties\": {\n        \"dtype\": \"number\",\n        \"std\": 0,\n        \"min\": -1,\n        \"max\": 1,\n        \"num_unique_values\": 2,\n        \"samples\": [\n          1,\n          -1\n        ],\n        \"semantic_type\": \"\",\n        \"description\": \"\"\n      }\n    }\n  ]\n}"
            }
          },
          "metadata": {},
          "execution_count": 105
        }
      ]
    },
    {
      "cell_type": "markdown",
      "source": [
        "Create new feature column Sentiment_score and sort values based on it."
      ],
      "metadata": {
        "id": "SxY6KJk7e9GN"
      }
    },
    {
      "cell_type": "code",
      "source": [
        "text['country'].dtype"
      ],
      "metadata": {
        "colab": {
          "base_uri": "https://localhost:8080/"
        },
        "id": "Fr4Kj7aeEHFt",
        "outputId": "26daf8ac-c0cc-4047-aa2d-7ad5e4dad12c"
      },
      "execution_count": 107,
      "outputs": [
        {
          "output_type": "execute_result",
          "data": {
            "text/plain": [
              "dtype('O')"
            ]
          },
          "metadata": {},
          "execution_count": 107
        }
      ]
    },
    {
      "cell_type": "code",
      "source": [
        "text = pd.DataFrame(text)"
      ],
      "metadata": {
        "id": "MVJrb8SIEc3-"
      },
      "execution_count": 74,
      "outputs": []
    },
    {
      "cell_type": "code",
      "source": [
        "text.sort_values(by='Sentiment_score')"
      ],
      "metadata": {
        "colab": {
          "base_uri": "https://localhost:8080/",
          "height": 677
        },
        "id": "FRUTbfEJC5cP",
        "outputId": "305365a3-a8a5-4f17-e440-5c731a63d6b0"
      },
      "execution_count": 75,
      "outputs": [
        {
          "output_type": "execute_result",
          "data": {
            "text/plain": [
              "       Unnamed: 0     id                                            Message  \\\n",
              "32355       35606  25490                                   Ya good. Thanks.   \n",
              "32344       35595  25479  Okay can help me buy 4 packers of flour and 1 ...   \n",
              "32345       35596  25480                        Remember to get receipt eh.   \n",
              "32346       35597  25481  Hey call those participants that want to come ...   \n",
              "32347       35598  25482                                       Hahaha yuppp   \n",
              "...           ...    ...                                                ...   \n",
              "10746       11314   1198                                        <DECIMAL> %   \n",
              "28964       31763  21647                                               我在上课   \n",
              "13418       14297   4181                                                  4   \n",
              "32655       35966  25850                                           Awwwwwww   \n",
              "13152       14028   3912                                                ???   \n",
              "\n",
              "      length    country     Date  \\\n",
              "32355     16  Singapore   2011/4   \n",
              "32344     60  Singapore   2011/4   \n",
              "32345     27  Singapore   2011/4   \n",
              "32346    119  Singapore   2011/4   \n",
              "32347     12  Singapore   2011/4   \n",
              "...      ...        ...      ...   \n",
              "10746     11      India  2010/12   \n",
              "28964      4  Singapore   2011/4   \n",
              "13418      1      India   2011/1   \n",
              "32655      8  Singapore   2011/4   \n",
              "13152      3      India   2011/1   \n",
              "\n",
              "                                       Message_lowercase  \\\n",
              "32355                                   ya good. thanks.   \n",
              "32344  okay can help me buy 4 packers of flour and 1 ...   \n",
              "32345                        remember to get receipt eh.   \n",
              "32346  hey call those participants that want to come ...   \n",
              "32347                                       hahaha yuppp   \n",
              "...                                                  ...   \n",
              "10746                                        <decimal> %   \n",
              "28964                                               我在上课   \n",
              "13418                                                  4   \n",
              "32655                                           awwwwwww   \n",
              "13152                                                ???   \n",
              "\n",
              "                                           message_clean Sentiment  \\\n",
              "32355                                   ya good. thanks.  Negative   \n",
              "32344  okay can help me buy 4 packers of flour and 1 ...  Negative   \n",
              "32345                        remember to get receipt eh.  Negative   \n",
              "32346  hey call those participants that want to come ...  Negative   \n",
              "32347                                       hahaha yuppp  Negative   \n",
              "...                                                  ...       ...   \n",
              "10746                                                  %  Positive   \n",
              "28964                                               我在上课  Positive   \n",
              "13418                                                  4  Positive   \n",
              "32655                                           awwwwwww  Positive   \n",
              "13152                                                ???  Positive   \n",
              "\n",
              "       Sentiment_score  \n",
              "32355               -1  \n",
              "32344               -1  \n",
              "32345               -1  \n",
              "32346               -1  \n",
              "32347               -1  \n",
              "...                ...  \n",
              "10746                1  \n",
              "28964                1  \n",
              "13418                1  \n",
              "32655                1  \n",
              "13152                1  \n",
              "\n",
              "[48595 rows x 10 columns]"
            ],
            "text/html": [
              "\n",
              "  <div id=\"df-7b216ca2-9c52-4256-b6b9-57d5a9c7a158\" class=\"colab-df-container\">\n",
              "    <div>\n",
              "<style scoped>\n",
              "    .dataframe tbody tr th:only-of-type {\n",
              "        vertical-align: middle;\n",
              "    }\n",
              "\n",
              "    .dataframe tbody tr th {\n",
              "        vertical-align: top;\n",
              "    }\n",
              "\n",
              "    .dataframe thead th {\n",
              "        text-align: right;\n",
              "    }\n",
              "</style>\n",
              "<table border=\"1\" class=\"dataframe\">\n",
              "  <thead>\n",
              "    <tr style=\"text-align: right;\">\n",
              "      <th></th>\n",
              "      <th>Unnamed: 0</th>\n",
              "      <th>id</th>\n",
              "      <th>Message</th>\n",
              "      <th>length</th>\n",
              "      <th>country</th>\n",
              "      <th>Date</th>\n",
              "      <th>Message_lowercase</th>\n",
              "      <th>message_clean</th>\n",
              "      <th>Sentiment</th>\n",
              "      <th>Sentiment_score</th>\n",
              "    </tr>\n",
              "  </thead>\n",
              "  <tbody>\n",
              "    <tr>\n",
              "      <th>32355</th>\n",
              "      <td>35606</td>\n",
              "      <td>25490</td>\n",
              "      <td>Ya good. Thanks.</td>\n",
              "      <td>16</td>\n",
              "      <td>Singapore</td>\n",
              "      <td>2011/4</td>\n",
              "      <td>ya good. thanks.</td>\n",
              "      <td>ya good. thanks.</td>\n",
              "      <td>Negative</td>\n",
              "      <td>-1</td>\n",
              "    </tr>\n",
              "    <tr>\n",
              "      <th>32344</th>\n",
              "      <td>35595</td>\n",
              "      <td>25479</td>\n",
              "      <td>Okay can help me buy 4 packers of flour and 1 ...</td>\n",
              "      <td>60</td>\n",
              "      <td>Singapore</td>\n",
              "      <td>2011/4</td>\n",
              "      <td>okay can help me buy 4 packers of flour and 1 ...</td>\n",
              "      <td>okay can help me buy 4 packers of flour and 1 ...</td>\n",
              "      <td>Negative</td>\n",
              "      <td>-1</td>\n",
              "    </tr>\n",
              "    <tr>\n",
              "      <th>32345</th>\n",
              "      <td>35596</td>\n",
              "      <td>25480</td>\n",
              "      <td>Remember to get receipt eh.</td>\n",
              "      <td>27</td>\n",
              "      <td>Singapore</td>\n",
              "      <td>2011/4</td>\n",
              "      <td>remember to get receipt eh.</td>\n",
              "      <td>remember to get receipt eh.</td>\n",
              "      <td>Negative</td>\n",
              "      <td>-1</td>\n",
              "    </tr>\n",
              "    <tr>\n",
              "      <th>32346</th>\n",
              "      <td>35597</td>\n",
              "      <td>25481</td>\n",
              "      <td>Hey call those participants that want to come ...</td>\n",
              "      <td>119</td>\n",
              "      <td>Singapore</td>\n",
              "      <td>2011/4</td>\n",
              "      <td>hey call those participants that want to come ...</td>\n",
              "      <td>hey call those participants that want to come ...</td>\n",
              "      <td>Negative</td>\n",
              "      <td>-1</td>\n",
              "    </tr>\n",
              "    <tr>\n",
              "      <th>32347</th>\n",
              "      <td>35598</td>\n",
              "      <td>25482</td>\n",
              "      <td>Hahaha yuppp</td>\n",
              "      <td>12</td>\n",
              "      <td>Singapore</td>\n",
              "      <td>2011/4</td>\n",
              "      <td>hahaha yuppp</td>\n",
              "      <td>hahaha yuppp</td>\n",
              "      <td>Negative</td>\n",
              "      <td>-1</td>\n",
              "    </tr>\n",
              "    <tr>\n",
              "      <th>...</th>\n",
              "      <td>...</td>\n",
              "      <td>...</td>\n",
              "      <td>...</td>\n",
              "      <td>...</td>\n",
              "      <td>...</td>\n",
              "      <td>...</td>\n",
              "      <td>...</td>\n",
              "      <td>...</td>\n",
              "      <td>...</td>\n",
              "      <td>...</td>\n",
              "    </tr>\n",
              "    <tr>\n",
              "      <th>10746</th>\n",
              "      <td>11314</td>\n",
              "      <td>1198</td>\n",
              "      <td>&lt;DECIMAL&gt; %</td>\n",
              "      <td>11</td>\n",
              "      <td>India</td>\n",
              "      <td>2010/12</td>\n",
              "      <td>&lt;decimal&gt; %</td>\n",
              "      <td>%</td>\n",
              "      <td>Positive</td>\n",
              "      <td>1</td>\n",
              "    </tr>\n",
              "    <tr>\n",
              "      <th>28964</th>\n",
              "      <td>31763</td>\n",
              "      <td>21647</td>\n",
              "      <td>我在上课</td>\n",
              "      <td>4</td>\n",
              "      <td>Singapore</td>\n",
              "      <td>2011/4</td>\n",
              "      <td>我在上课</td>\n",
              "      <td>我在上课</td>\n",
              "      <td>Positive</td>\n",
              "      <td>1</td>\n",
              "    </tr>\n",
              "    <tr>\n",
              "      <th>13418</th>\n",
              "      <td>14297</td>\n",
              "      <td>4181</td>\n",
              "      <td>4</td>\n",
              "      <td>1</td>\n",
              "      <td>India</td>\n",
              "      <td>2011/1</td>\n",
              "      <td>4</td>\n",
              "      <td>4</td>\n",
              "      <td>Positive</td>\n",
              "      <td>1</td>\n",
              "    </tr>\n",
              "    <tr>\n",
              "      <th>32655</th>\n",
              "      <td>35966</td>\n",
              "      <td>25850</td>\n",
              "      <td>Awwwwwww</td>\n",
              "      <td>8</td>\n",
              "      <td>Singapore</td>\n",
              "      <td>2011/4</td>\n",
              "      <td>awwwwwww</td>\n",
              "      <td>awwwwwww</td>\n",
              "      <td>Positive</td>\n",
              "      <td>1</td>\n",
              "    </tr>\n",
              "    <tr>\n",
              "      <th>13152</th>\n",
              "      <td>14028</td>\n",
              "      <td>3912</td>\n",
              "      <td>???</td>\n",
              "      <td>3</td>\n",
              "      <td>India</td>\n",
              "      <td>2011/1</td>\n",
              "      <td>???</td>\n",
              "      <td>???</td>\n",
              "      <td>Positive</td>\n",
              "      <td>1</td>\n",
              "    </tr>\n",
              "  </tbody>\n",
              "</table>\n",
              "<p>48595 rows × 10 columns</p>\n",
              "</div>\n",
              "    <div class=\"colab-df-buttons\">\n",
              "\n",
              "  <div class=\"colab-df-container\">\n",
              "    <button class=\"colab-df-convert\" onclick=\"convertToInteractive('df-7b216ca2-9c52-4256-b6b9-57d5a9c7a158')\"\n",
              "            title=\"Convert this dataframe to an interactive table.\"\n",
              "            style=\"display:none;\">\n",
              "\n",
              "  <svg xmlns=\"http://www.w3.org/2000/svg\" height=\"24px\" viewBox=\"0 -960 960 960\">\n",
              "    <path d=\"M120-120v-720h720v720H120Zm60-500h600v-160H180v160Zm220 220h160v-160H400v160Zm0 220h160v-160H400v160ZM180-400h160v-160H180v160Zm440 0h160v-160H620v160ZM180-180h160v-160H180v160Zm440 0h160v-160H620v160Z\"/>\n",
              "  </svg>\n",
              "    </button>\n",
              "\n",
              "  <style>\n",
              "    .colab-df-container {\n",
              "      display:flex;\n",
              "      gap: 12px;\n",
              "    }\n",
              "\n",
              "    .colab-df-convert {\n",
              "      background-color: #E8F0FE;\n",
              "      border: none;\n",
              "      border-radius: 50%;\n",
              "      cursor: pointer;\n",
              "      display: none;\n",
              "      fill: #1967D2;\n",
              "      height: 32px;\n",
              "      padding: 0 0 0 0;\n",
              "      width: 32px;\n",
              "    }\n",
              "\n",
              "    .colab-df-convert:hover {\n",
              "      background-color: #E2EBFA;\n",
              "      box-shadow: 0px 1px 2px rgba(60, 64, 67, 0.3), 0px 1px 3px 1px rgba(60, 64, 67, 0.15);\n",
              "      fill: #174EA6;\n",
              "    }\n",
              "\n",
              "    .colab-df-buttons div {\n",
              "      margin-bottom: 4px;\n",
              "    }\n",
              "\n",
              "    [theme=dark] .colab-df-convert {\n",
              "      background-color: #3B4455;\n",
              "      fill: #D2E3FC;\n",
              "    }\n",
              "\n",
              "    [theme=dark] .colab-df-convert:hover {\n",
              "      background-color: #434B5C;\n",
              "      box-shadow: 0px 1px 3px 1px rgba(0, 0, 0, 0.15);\n",
              "      filter: drop-shadow(0px 1px 2px rgba(0, 0, 0, 0.3));\n",
              "      fill: #FFFFFF;\n",
              "    }\n",
              "  </style>\n",
              "\n",
              "    <script>\n",
              "      const buttonEl =\n",
              "        document.querySelector('#df-7b216ca2-9c52-4256-b6b9-57d5a9c7a158 button.colab-df-convert');\n",
              "      buttonEl.style.display =\n",
              "        google.colab.kernel.accessAllowed ? 'block' : 'none';\n",
              "\n",
              "      async function convertToInteractive(key) {\n",
              "        const element = document.querySelector('#df-7b216ca2-9c52-4256-b6b9-57d5a9c7a158');\n",
              "        const dataTable =\n",
              "          await google.colab.kernel.invokeFunction('convertToInteractive',\n",
              "                                                    [key], {});\n",
              "        if (!dataTable) return;\n",
              "\n",
              "        const docLinkHtml = 'Like what you see? Visit the ' +\n",
              "          '<a target=\"_blank\" href=https://colab.research.google.com/notebooks/data_table.ipynb>data table notebook</a>'\n",
              "          + ' to learn more about interactive tables.';\n",
              "        element.innerHTML = '';\n",
              "        dataTable['output_type'] = 'display_data';\n",
              "        await google.colab.output.renderOutput(dataTable, element);\n",
              "        const docLink = document.createElement('div');\n",
              "        docLink.innerHTML = docLinkHtml;\n",
              "        element.appendChild(docLink);\n",
              "      }\n",
              "    </script>\n",
              "  </div>\n",
              "\n",
              "\n",
              "<div id=\"df-50c2c2e4-a90a-4143-beff-4f9df57d1066\">\n",
              "  <button class=\"colab-df-quickchart\" onclick=\"quickchart('df-50c2c2e4-a90a-4143-beff-4f9df57d1066')\"\n",
              "            title=\"Suggest charts\"\n",
              "            style=\"display:none;\">\n",
              "\n",
              "<svg xmlns=\"http://www.w3.org/2000/svg\" height=\"24px\"viewBox=\"0 0 24 24\"\n",
              "     width=\"24px\">\n",
              "    <g>\n",
              "        <path d=\"M19 3H5c-1.1 0-2 .9-2 2v14c0 1.1.9 2 2 2h14c1.1 0 2-.9 2-2V5c0-1.1-.9-2-2-2zM9 17H7v-7h2v7zm4 0h-2V7h2v10zm4 0h-2v-4h2v4z\"/>\n",
              "    </g>\n",
              "</svg>\n",
              "  </button>\n",
              "\n",
              "<style>\n",
              "  .colab-df-quickchart {\n",
              "      --bg-color: #E8F0FE;\n",
              "      --fill-color: #1967D2;\n",
              "      --hover-bg-color: #E2EBFA;\n",
              "      --hover-fill-color: #174EA6;\n",
              "      --disabled-fill-color: #AAA;\n",
              "      --disabled-bg-color: #DDD;\n",
              "  }\n",
              "\n",
              "  [theme=dark] .colab-df-quickchart {\n",
              "      --bg-color: #3B4455;\n",
              "      --fill-color: #D2E3FC;\n",
              "      --hover-bg-color: #434B5C;\n",
              "      --hover-fill-color: #FFFFFF;\n",
              "      --disabled-bg-color: #3B4455;\n",
              "      --disabled-fill-color: #666;\n",
              "  }\n",
              "\n",
              "  .colab-df-quickchart {\n",
              "    background-color: var(--bg-color);\n",
              "    border: none;\n",
              "    border-radius: 50%;\n",
              "    cursor: pointer;\n",
              "    display: none;\n",
              "    fill: var(--fill-color);\n",
              "    height: 32px;\n",
              "    padding: 0;\n",
              "    width: 32px;\n",
              "  }\n",
              "\n",
              "  .colab-df-quickchart:hover {\n",
              "    background-color: var(--hover-bg-color);\n",
              "    box-shadow: 0 1px 2px rgba(60, 64, 67, 0.3), 0 1px 3px 1px rgba(60, 64, 67, 0.15);\n",
              "    fill: var(--button-hover-fill-color);\n",
              "  }\n",
              "\n",
              "  .colab-df-quickchart-complete:disabled,\n",
              "  .colab-df-quickchart-complete:disabled:hover {\n",
              "    background-color: var(--disabled-bg-color);\n",
              "    fill: var(--disabled-fill-color);\n",
              "    box-shadow: none;\n",
              "  }\n",
              "\n",
              "  .colab-df-spinner {\n",
              "    border: 2px solid var(--fill-color);\n",
              "    border-color: transparent;\n",
              "    border-bottom-color: var(--fill-color);\n",
              "    animation:\n",
              "      spin 1s steps(1) infinite;\n",
              "  }\n",
              "\n",
              "  @keyframes spin {\n",
              "    0% {\n",
              "      border-color: transparent;\n",
              "      border-bottom-color: var(--fill-color);\n",
              "      border-left-color: var(--fill-color);\n",
              "    }\n",
              "    20% {\n",
              "      border-color: transparent;\n",
              "      border-left-color: var(--fill-color);\n",
              "      border-top-color: var(--fill-color);\n",
              "    }\n",
              "    30% {\n",
              "      border-color: transparent;\n",
              "      border-left-color: var(--fill-color);\n",
              "      border-top-color: var(--fill-color);\n",
              "      border-right-color: var(--fill-color);\n",
              "    }\n",
              "    40% {\n",
              "      border-color: transparent;\n",
              "      border-right-color: var(--fill-color);\n",
              "      border-top-color: var(--fill-color);\n",
              "    }\n",
              "    60% {\n",
              "      border-color: transparent;\n",
              "      border-right-color: var(--fill-color);\n",
              "    }\n",
              "    80% {\n",
              "      border-color: transparent;\n",
              "      border-right-color: var(--fill-color);\n",
              "      border-bottom-color: var(--fill-color);\n",
              "    }\n",
              "    90% {\n",
              "      border-color: transparent;\n",
              "      border-bottom-color: var(--fill-color);\n",
              "    }\n",
              "  }\n",
              "</style>\n",
              "\n",
              "  <script>\n",
              "    async function quickchart(key) {\n",
              "      const quickchartButtonEl =\n",
              "        document.querySelector('#' + key + ' button');\n",
              "      quickchartButtonEl.disabled = true;  // To prevent multiple clicks.\n",
              "      quickchartButtonEl.classList.add('colab-df-spinner');\n",
              "      try {\n",
              "        const charts = await google.colab.kernel.invokeFunction(\n",
              "            'suggestCharts', [key], {});\n",
              "      } catch (error) {\n",
              "        console.error('Error during call to suggestCharts:', error);\n",
              "      }\n",
              "      quickchartButtonEl.classList.remove('colab-df-spinner');\n",
              "      quickchartButtonEl.classList.add('colab-df-quickchart-complete');\n",
              "    }\n",
              "    (() => {\n",
              "      let quickchartButtonEl =\n",
              "        document.querySelector('#df-50c2c2e4-a90a-4143-beff-4f9df57d1066 button');\n",
              "      quickchartButtonEl.style.display =\n",
              "        google.colab.kernel.accessAllowed ? 'block' : 'none';\n",
              "    })();\n",
              "  </script>\n",
              "</div>\n",
              "\n",
              "    </div>\n",
              "  </div>\n"
            ],
            "application/vnd.google.colaboratory.intrinsic+json": {
              "type": "dataframe",
              "summary": "{\n  \"name\": \"text\",\n  \"rows\": 48595,\n  \"fields\": [\n    {\n      \"column\": \"Unnamed: 0\",\n      \"properties\": {\n        \"dtype\": \"number\",\n        \"std\": 16205,\n        \"min\": 0,\n        \"max\": 55834,\n        \"num_unique_values\": 48595,\n        \"samples\": [\n          25833,\n          44187,\n          49827\n        ],\n        \"semantic_type\": \"\",\n        \"description\": \"\"\n      }\n    },\n    {\n      \"column\": \"id\",\n      \"properties\": {\n        \"dtype\": \"number\",\n        \"std\": 12189,\n        \"min\": 1,\n        \"max\": 45718,\n        \"num_unique_values\": 39462,\n        \"samples\": [\n          7032,\n          41837,\n          43090\n        ],\n        \"semantic_type\": \"\",\n        \"description\": \"\"\n      }\n    },\n    {\n      \"column\": \"Message\",\n      \"properties\": {\n        \"dtype\": \"string\",\n        \"num_unique_values\": 48586,\n        \"samples\": [\n          \"good..So,we r meeting at 945 at raffles place mrt?i maybe a little late.\\u00dc heard of hendrix?I am thinking of going there.We r just drinking,not dancing\",\n          \"go happily\",\n          \"WHOA THERE'S PPL TO SMS? When I got my phone in p2 I only smsed my cousins!!!!\"\n        ],\n        \"semantic_type\": \"\",\n        \"description\": \"\"\n      }\n    },\n    {\n      \"column\": \"length\",\n      \"properties\": {\n        \"dtype\": \"category\",\n        \"num_unique_values\": 470,\n        \"samples\": [\n          \"49\",\n          \"37\",\n          \"69\"\n        ],\n        \"semantic_type\": \"\",\n        \"description\": \"\"\n      }\n    },\n    {\n      \"column\": \"country\",\n      \"properties\": {\n        \"dtype\": \"category\",\n        \"num_unique_values\": 33,\n        \"samples\": [\n          \"France\",\n          \"Nepal\",\n          \"Italia\"\n        ],\n        \"semantic_type\": \"\",\n        \"description\": \"\"\n      }\n    },\n    {\n      \"column\": \"Date\",\n      \"properties\": {\n        \"dtype\": \"object\",\n        \"num_unique_values\": 27,\n        \"samples\": [\n          \"2011/12\",\n          \"2012/6\",\n          \"2012/5\"\n        ],\n        \"semantic_type\": \"\",\n        \"description\": \"\"\n      }\n    },\n    {\n      \"column\": \"Message_lowercase\",\n      \"properties\": {\n        \"dtype\": \"string\",\n        \"num_unique_values\": 48354,\n        \"samples\": [\n          \"but not like it is graded wat fb post only i type out before i tinkone mah... like that also must say me i very pek chek le lo... make mefeel like not using english for the rest of my life\",\n          \"do my hse have a clipboard?...or ur hse got?...can lend me one if u have?...\",\n          \";o). joy, my hp no.016-787 3187\"\n        ],\n        \"semantic_type\": \"\",\n        \"description\": \"\"\n      }\n    },\n    {\n      \"column\": \"message_clean\",\n      \"properties\": {\n        \"dtype\": \"string\",\n        \"num_unique_values\": 48334,\n        \"samples\": [\n          \"hokay im coming.\",\n          \"call u when i leave.\",\n          \"not sure if you can go places not over night but we're going to themovies friday and game of thrones sunday... if you can't no big dealat all ^^\"\n        ],\n        \"semantic_type\": \"\",\n        \"description\": \"\"\n      }\n    },\n    {\n      \"column\": \"Sentiment\",\n      \"properties\": {\n        \"dtype\": \"category\",\n        \"num_unique_values\": 2,\n        \"samples\": [\n          \"Positive\",\n          \"Negative\"\n        ],\n        \"semantic_type\": \"\",\n        \"description\": \"\"\n      }\n    },\n    {\n      \"column\": \"Sentiment_score\",\n      \"properties\": {\n        \"dtype\": \"number\",\n        \"std\": 0,\n        \"min\": -1,\n        \"max\": 1,\n        \"num_unique_values\": 2,\n        \"samples\": [\n          1,\n          -1\n        ],\n        \"semantic_type\": \"\",\n        \"description\": \"\"\n      }\n    }\n  ]\n}"
            }
          },
          "metadata": {},
          "execution_count": 75
        }
      ]
    },
    {
      "cell_type": "markdown",
      "source": [
        "Now group by each country and get the average sentiment score with mean() method for each country."
      ],
      "metadata": {
        "id": "aEcs55W7fP6S"
      }
    },
    {
      "cell_type": "markdown",
      "source": [],
      "metadata": {
        "id": "Wu6VNMXc3JI9"
      }
    },
    {
      "cell_type": "code",
      "source": [
        "text.sort_values(by='Sentiment_score')"
      ],
      "metadata": {
        "colab": {
          "base_uri": "https://localhost:8080/",
          "height": 677
        },
        "id": "kAyO2dFP3Ove",
        "outputId": "ec9242ea-2bd7-45dc-d498-f8bbceb208f6"
      },
      "execution_count": 124,
      "outputs": [
        {
          "output_type": "execute_result",
          "data": {
            "text/plain": [
              "       Unnamed: 0     id                                            Message  \\\n",
              "32355       35606  25490                                   Ya good. Thanks.   \n",
              "32344       35595  25479  Okay can help me buy 4 packers of flour and 1 ...   \n",
              "32345       35596  25480                        Remember to get receipt eh.   \n",
              "32346       35597  25481  Hey call those participants that want to come ...   \n",
              "32347       35598  25482                                       Hahaha yuppp   \n",
              "...           ...    ...                                                ...   \n",
              "10746       11314   1198                                        <DECIMAL> %   \n",
              "28964       31763  21647                                               我在上课   \n",
              "13418       14297   4181                                                  4   \n",
              "32655       35966  25850                                           Awwwwwww   \n",
              "13152       14028   3912                                                ???   \n",
              "\n",
              "      length    country     Date  \\\n",
              "32355     16  Singapore   2011/4   \n",
              "32344     60  Singapore   2011/4   \n",
              "32345     27  Singapore   2011/4   \n",
              "32346    119  Singapore   2011/4   \n",
              "32347     12  Singapore   2011/4   \n",
              "...      ...        ...      ...   \n",
              "10746     11      India  2010/12   \n",
              "28964      4  Singapore   2011/4   \n",
              "13418      1      India   2011/1   \n",
              "32655      8  Singapore   2011/4   \n",
              "13152      3      India   2011/1   \n",
              "\n",
              "                                       Message_lowercase  \\\n",
              "32355                                   ya good. thanks.   \n",
              "32344  okay can help me buy 4 packers of flour and 1 ...   \n",
              "32345                        remember to get receipt eh.   \n",
              "32346  hey call those participants that want to come ...   \n",
              "32347                                       hahaha yuppp   \n",
              "...                                                  ...   \n",
              "10746                                        <decimal> %   \n",
              "28964                                               我在上课   \n",
              "13418                                                  4   \n",
              "32655                                           awwwwwww   \n",
              "13152                                                ???   \n",
              "\n",
              "                                           message_clean Sentiment  \\\n",
              "32355                                   ya good. thanks.  Negative   \n",
              "32344  okay can help me buy 4 packers of flour and 1 ...  Negative   \n",
              "32345                        remember to get receipt eh.  Negative   \n",
              "32346  hey call those participants that want to come ...  Negative   \n",
              "32347                                       hahaha yuppp  Negative   \n",
              "...                                                  ...       ...   \n",
              "10746                                                  %  Positive   \n",
              "28964                                               我在上课  Positive   \n",
              "13418                                                  4  Positive   \n",
              "32655                                           awwwwwww  Positive   \n",
              "13152                                                ???  Positive   \n",
              "\n",
              "       Sentiment_score  \n",
              "32355               -1  \n",
              "32344               -1  \n",
              "32345               -1  \n",
              "32346               -1  \n",
              "32347               -1  \n",
              "...                ...  \n",
              "10746                1  \n",
              "28964                1  \n",
              "13418                1  \n",
              "32655                1  \n",
              "13152                1  \n",
              "\n",
              "[48595 rows x 10 columns]"
            ],
            "text/html": [
              "\n",
              "  <div id=\"df-bb9d38ad-80ee-4383-9dfa-e5ebfa78324c\" class=\"colab-df-container\">\n",
              "    <div>\n",
              "<style scoped>\n",
              "    .dataframe tbody tr th:only-of-type {\n",
              "        vertical-align: middle;\n",
              "    }\n",
              "\n",
              "    .dataframe tbody tr th {\n",
              "        vertical-align: top;\n",
              "    }\n",
              "\n",
              "    .dataframe thead th {\n",
              "        text-align: right;\n",
              "    }\n",
              "</style>\n",
              "<table border=\"1\" class=\"dataframe\">\n",
              "  <thead>\n",
              "    <tr style=\"text-align: right;\">\n",
              "      <th></th>\n",
              "      <th>Unnamed: 0</th>\n",
              "      <th>id</th>\n",
              "      <th>Message</th>\n",
              "      <th>length</th>\n",
              "      <th>country</th>\n",
              "      <th>Date</th>\n",
              "      <th>Message_lowercase</th>\n",
              "      <th>message_clean</th>\n",
              "      <th>Sentiment</th>\n",
              "      <th>Sentiment_score</th>\n",
              "    </tr>\n",
              "  </thead>\n",
              "  <tbody>\n",
              "    <tr>\n",
              "      <th>32355</th>\n",
              "      <td>35606</td>\n",
              "      <td>25490</td>\n",
              "      <td>Ya good. Thanks.</td>\n",
              "      <td>16</td>\n",
              "      <td>Singapore</td>\n",
              "      <td>2011/4</td>\n",
              "      <td>ya good. thanks.</td>\n",
              "      <td>ya good. thanks.</td>\n",
              "      <td>Negative</td>\n",
              "      <td>-1</td>\n",
              "    </tr>\n",
              "    <tr>\n",
              "      <th>32344</th>\n",
              "      <td>35595</td>\n",
              "      <td>25479</td>\n",
              "      <td>Okay can help me buy 4 packers of flour and 1 ...</td>\n",
              "      <td>60</td>\n",
              "      <td>Singapore</td>\n",
              "      <td>2011/4</td>\n",
              "      <td>okay can help me buy 4 packers of flour and 1 ...</td>\n",
              "      <td>okay can help me buy 4 packers of flour and 1 ...</td>\n",
              "      <td>Negative</td>\n",
              "      <td>-1</td>\n",
              "    </tr>\n",
              "    <tr>\n",
              "      <th>32345</th>\n",
              "      <td>35596</td>\n",
              "      <td>25480</td>\n",
              "      <td>Remember to get receipt eh.</td>\n",
              "      <td>27</td>\n",
              "      <td>Singapore</td>\n",
              "      <td>2011/4</td>\n",
              "      <td>remember to get receipt eh.</td>\n",
              "      <td>remember to get receipt eh.</td>\n",
              "      <td>Negative</td>\n",
              "      <td>-1</td>\n",
              "    </tr>\n",
              "    <tr>\n",
              "      <th>32346</th>\n",
              "      <td>35597</td>\n",
              "      <td>25481</td>\n",
              "      <td>Hey call those participants that want to come ...</td>\n",
              "      <td>119</td>\n",
              "      <td>Singapore</td>\n",
              "      <td>2011/4</td>\n",
              "      <td>hey call those participants that want to come ...</td>\n",
              "      <td>hey call those participants that want to come ...</td>\n",
              "      <td>Negative</td>\n",
              "      <td>-1</td>\n",
              "    </tr>\n",
              "    <tr>\n",
              "      <th>32347</th>\n",
              "      <td>35598</td>\n",
              "      <td>25482</td>\n",
              "      <td>Hahaha yuppp</td>\n",
              "      <td>12</td>\n",
              "      <td>Singapore</td>\n",
              "      <td>2011/4</td>\n",
              "      <td>hahaha yuppp</td>\n",
              "      <td>hahaha yuppp</td>\n",
              "      <td>Negative</td>\n",
              "      <td>-1</td>\n",
              "    </tr>\n",
              "    <tr>\n",
              "      <th>...</th>\n",
              "      <td>...</td>\n",
              "      <td>...</td>\n",
              "      <td>...</td>\n",
              "      <td>...</td>\n",
              "      <td>...</td>\n",
              "      <td>...</td>\n",
              "      <td>...</td>\n",
              "      <td>...</td>\n",
              "      <td>...</td>\n",
              "      <td>...</td>\n",
              "    </tr>\n",
              "    <tr>\n",
              "      <th>10746</th>\n",
              "      <td>11314</td>\n",
              "      <td>1198</td>\n",
              "      <td>&lt;DECIMAL&gt; %</td>\n",
              "      <td>11</td>\n",
              "      <td>India</td>\n",
              "      <td>2010/12</td>\n",
              "      <td>&lt;decimal&gt; %</td>\n",
              "      <td>%</td>\n",
              "      <td>Positive</td>\n",
              "      <td>1</td>\n",
              "    </tr>\n",
              "    <tr>\n",
              "      <th>28964</th>\n",
              "      <td>31763</td>\n",
              "      <td>21647</td>\n",
              "      <td>我在上课</td>\n",
              "      <td>4</td>\n",
              "      <td>Singapore</td>\n",
              "      <td>2011/4</td>\n",
              "      <td>我在上课</td>\n",
              "      <td>我在上课</td>\n",
              "      <td>Positive</td>\n",
              "      <td>1</td>\n",
              "    </tr>\n",
              "    <tr>\n",
              "      <th>13418</th>\n",
              "      <td>14297</td>\n",
              "      <td>4181</td>\n",
              "      <td>4</td>\n",
              "      <td>1</td>\n",
              "      <td>India</td>\n",
              "      <td>2011/1</td>\n",
              "      <td>4</td>\n",
              "      <td>4</td>\n",
              "      <td>Positive</td>\n",
              "      <td>1</td>\n",
              "    </tr>\n",
              "    <tr>\n",
              "      <th>32655</th>\n",
              "      <td>35966</td>\n",
              "      <td>25850</td>\n",
              "      <td>Awwwwwww</td>\n",
              "      <td>8</td>\n",
              "      <td>Singapore</td>\n",
              "      <td>2011/4</td>\n",
              "      <td>awwwwwww</td>\n",
              "      <td>awwwwwww</td>\n",
              "      <td>Positive</td>\n",
              "      <td>1</td>\n",
              "    </tr>\n",
              "    <tr>\n",
              "      <th>13152</th>\n",
              "      <td>14028</td>\n",
              "      <td>3912</td>\n",
              "      <td>???</td>\n",
              "      <td>3</td>\n",
              "      <td>India</td>\n",
              "      <td>2011/1</td>\n",
              "      <td>???</td>\n",
              "      <td>???</td>\n",
              "      <td>Positive</td>\n",
              "      <td>1</td>\n",
              "    </tr>\n",
              "  </tbody>\n",
              "</table>\n",
              "<p>48595 rows × 10 columns</p>\n",
              "</div>\n",
              "    <div class=\"colab-df-buttons\">\n",
              "\n",
              "  <div class=\"colab-df-container\">\n",
              "    <button class=\"colab-df-convert\" onclick=\"convertToInteractive('df-bb9d38ad-80ee-4383-9dfa-e5ebfa78324c')\"\n",
              "            title=\"Convert this dataframe to an interactive table.\"\n",
              "            style=\"display:none;\">\n",
              "\n",
              "  <svg xmlns=\"http://www.w3.org/2000/svg\" height=\"24px\" viewBox=\"0 -960 960 960\">\n",
              "    <path d=\"M120-120v-720h720v720H120Zm60-500h600v-160H180v160Zm220 220h160v-160H400v160Zm0 220h160v-160H400v160ZM180-400h160v-160H180v160Zm440 0h160v-160H620v160ZM180-180h160v-160H180v160Zm440 0h160v-160H620v160Z\"/>\n",
              "  </svg>\n",
              "    </button>\n",
              "\n",
              "  <style>\n",
              "    .colab-df-container {\n",
              "      display:flex;\n",
              "      gap: 12px;\n",
              "    }\n",
              "\n",
              "    .colab-df-convert {\n",
              "      background-color: #E8F0FE;\n",
              "      border: none;\n",
              "      border-radius: 50%;\n",
              "      cursor: pointer;\n",
              "      display: none;\n",
              "      fill: #1967D2;\n",
              "      height: 32px;\n",
              "      padding: 0 0 0 0;\n",
              "      width: 32px;\n",
              "    }\n",
              "\n",
              "    .colab-df-convert:hover {\n",
              "      background-color: #E2EBFA;\n",
              "      box-shadow: 0px 1px 2px rgba(60, 64, 67, 0.3), 0px 1px 3px 1px rgba(60, 64, 67, 0.15);\n",
              "      fill: #174EA6;\n",
              "    }\n",
              "\n",
              "    .colab-df-buttons div {\n",
              "      margin-bottom: 4px;\n",
              "    }\n",
              "\n",
              "    [theme=dark] .colab-df-convert {\n",
              "      background-color: #3B4455;\n",
              "      fill: #D2E3FC;\n",
              "    }\n",
              "\n",
              "    [theme=dark] .colab-df-convert:hover {\n",
              "      background-color: #434B5C;\n",
              "      box-shadow: 0px 1px 3px 1px rgba(0, 0, 0, 0.15);\n",
              "      filter: drop-shadow(0px 1px 2px rgba(0, 0, 0, 0.3));\n",
              "      fill: #FFFFFF;\n",
              "    }\n",
              "  </style>\n",
              "\n",
              "    <script>\n",
              "      const buttonEl =\n",
              "        document.querySelector('#df-bb9d38ad-80ee-4383-9dfa-e5ebfa78324c button.colab-df-convert');\n",
              "      buttonEl.style.display =\n",
              "        google.colab.kernel.accessAllowed ? 'block' : 'none';\n",
              "\n",
              "      async function convertToInteractive(key) {\n",
              "        const element = document.querySelector('#df-bb9d38ad-80ee-4383-9dfa-e5ebfa78324c');\n",
              "        const dataTable =\n",
              "          await google.colab.kernel.invokeFunction('convertToInteractive',\n",
              "                                                    [key], {});\n",
              "        if (!dataTable) return;\n",
              "\n",
              "        const docLinkHtml = 'Like what you see? Visit the ' +\n",
              "          '<a target=\"_blank\" href=https://colab.research.google.com/notebooks/data_table.ipynb>data table notebook</a>'\n",
              "          + ' to learn more about interactive tables.';\n",
              "        element.innerHTML = '';\n",
              "        dataTable['output_type'] = 'display_data';\n",
              "        await google.colab.output.renderOutput(dataTable, element);\n",
              "        const docLink = document.createElement('div');\n",
              "        docLink.innerHTML = docLinkHtml;\n",
              "        element.appendChild(docLink);\n",
              "      }\n",
              "    </script>\n",
              "  </div>\n",
              "\n",
              "\n",
              "<div id=\"df-748a5029-26e1-4315-b45d-7d314547ad7b\">\n",
              "  <button class=\"colab-df-quickchart\" onclick=\"quickchart('df-748a5029-26e1-4315-b45d-7d314547ad7b')\"\n",
              "            title=\"Suggest charts\"\n",
              "            style=\"display:none;\">\n",
              "\n",
              "<svg xmlns=\"http://www.w3.org/2000/svg\" height=\"24px\"viewBox=\"0 0 24 24\"\n",
              "     width=\"24px\">\n",
              "    <g>\n",
              "        <path d=\"M19 3H5c-1.1 0-2 .9-2 2v14c0 1.1.9 2 2 2h14c1.1 0 2-.9 2-2V5c0-1.1-.9-2-2-2zM9 17H7v-7h2v7zm4 0h-2V7h2v10zm4 0h-2v-4h2v4z\"/>\n",
              "    </g>\n",
              "</svg>\n",
              "  </button>\n",
              "\n",
              "<style>\n",
              "  .colab-df-quickchart {\n",
              "      --bg-color: #E8F0FE;\n",
              "      --fill-color: #1967D2;\n",
              "      --hover-bg-color: #E2EBFA;\n",
              "      --hover-fill-color: #174EA6;\n",
              "      --disabled-fill-color: #AAA;\n",
              "      --disabled-bg-color: #DDD;\n",
              "  }\n",
              "\n",
              "  [theme=dark] .colab-df-quickchart {\n",
              "      --bg-color: #3B4455;\n",
              "      --fill-color: #D2E3FC;\n",
              "      --hover-bg-color: #434B5C;\n",
              "      --hover-fill-color: #FFFFFF;\n",
              "      --disabled-bg-color: #3B4455;\n",
              "      --disabled-fill-color: #666;\n",
              "  }\n",
              "\n",
              "  .colab-df-quickchart {\n",
              "    background-color: var(--bg-color);\n",
              "    border: none;\n",
              "    border-radius: 50%;\n",
              "    cursor: pointer;\n",
              "    display: none;\n",
              "    fill: var(--fill-color);\n",
              "    height: 32px;\n",
              "    padding: 0;\n",
              "    width: 32px;\n",
              "  }\n",
              "\n",
              "  .colab-df-quickchart:hover {\n",
              "    background-color: var(--hover-bg-color);\n",
              "    box-shadow: 0 1px 2px rgba(60, 64, 67, 0.3), 0 1px 3px 1px rgba(60, 64, 67, 0.15);\n",
              "    fill: var(--button-hover-fill-color);\n",
              "  }\n",
              "\n",
              "  .colab-df-quickchart-complete:disabled,\n",
              "  .colab-df-quickchart-complete:disabled:hover {\n",
              "    background-color: var(--disabled-bg-color);\n",
              "    fill: var(--disabled-fill-color);\n",
              "    box-shadow: none;\n",
              "  }\n",
              "\n",
              "  .colab-df-spinner {\n",
              "    border: 2px solid var(--fill-color);\n",
              "    border-color: transparent;\n",
              "    border-bottom-color: var(--fill-color);\n",
              "    animation:\n",
              "      spin 1s steps(1) infinite;\n",
              "  }\n",
              "\n",
              "  @keyframes spin {\n",
              "    0% {\n",
              "      border-color: transparent;\n",
              "      border-bottom-color: var(--fill-color);\n",
              "      border-left-color: var(--fill-color);\n",
              "    }\n",
              "    20% {\n",
              "      border-color: transparent;\n",
              "      border-left-color: var(--fill-color);\n",
              "      border-top-color: var(--fill-color);\n",
              "    }\n",
              "    30% {\n",
              "      border-color: transparent;\n",
              "      border-left-color: var(--fill-color);\n",
              "      border-top-color: var(--fill-color);\n",
              "      border-right-color: var(--fill-color);\n",
              "    }\n",
              "    40% {\n",
              "      border-color: transparent;\n",
              "      border-right-color: var(--fill-color);\n",
              "      border-top-color: var(--fill-color);\n",
              "    }\n",
              "    60% {\n",
              "      border-color: transparent;\n",
              "      border-right-color: var(--fill-color);\n",
              "    }\n",
              "    80% {\n",
              "      border-color: transparent;\n",
              "      border-right-color: var(--fill-color);\n",
              "      border-bottom-color: var(--fill-color);\n",
              "    }\n",
              "    90% {\n",
              "      border-color: transparent;\n",
              "      border-bottom-color: var(--fill-color);\n",
              "    }\n",
              "  }\n",
              "</style>\n",
              "\n",
              "  <script>\n",
              "    async function quickchart(key) {\n",
              "      const quickchartButtonEl =\n",
              "        document.querySelector('#' + key + ' button');\n",
              "      quickchartButtonEl.disabled = true;  // To prevent multiple clicks.\n",
              "      quickchartButtonEl.classList.add('colab-df-spinner');\n",
              "      try {\n",
              "        const charts = await google.colab.kernel.invokeFunction(\n",
              "            'suggestCharts', [key], {});\n",
              "      } catch (error) {\n",
              "        console.error('Error during call to suggestCharts:', error);\n",
              "      }\n",
              "      quickchartButtonEl.classList.remove('colab-df-spinner');\n",
              "      quickchartButtonEl.classList.add('colab-df-quickchart-complete');\n",
              "    }\n",
              "    (() => {\n",
              "      let quickchartButtonEl =\n",
              "        document.querySelector('#df-748a5029-26e1-4315-b45d-7d314547ad7b button');\n",
              "      quickchartButtonEl.style.display =\n",
              "        google.colab.kernel.accessAllowed ? 'block' : 'none';\n",
              "    })();\n",
              "  </script>\n",
              "</div>\n",
              "\n",
              "    </div>\n",
              "  </div>\n"
            ],
            "application/vnd.google.colaboratory.intrinsic+json": {
              "type": "dataframe",
              "summary": "{\n  \"name\": \"text\",\n  \"rows\": 48595,\n  \"fields\": [\n    {\n      \"column\": \"Unnamed: 0\",\n      \"properties\": {\n        \"dtype\": \"number\",\n        \"std\": 16205,\n        \"min\": 0,\n        \"max\": 55834,\n        \"num_unique_values\": 48595,\n        \"samples\": [\n          25833,\n          44187,\n          49827\n        ],\n        \"semantic_type\": \"\",\n        \"description\": \"\"\n      }\n    },\n    {\n      \"column\": \"id\",\n      \"properties\": {\n        \"dtype\": \"number\",\n        \"std\": 12189,\n        \"min\": 1,\n        \"max\": 45718,\n        \"num_unique_values\": 39462,\n        \"samples\": [\n          7032,\n          41837,\n          43090\n        ],\n        \"semantic_type\": \"\",\n        \"description\": \"\"\n      }\n    },\n    {\n      \"column\": \"Message\",\n      \"properties\": {\n        \"dtype\": \"string\",\n        \"num_unique_values\": 48586,\n        \"samples\": [\n          \"good..So,we r meeting at 945 at raffles place mrt?i maybe a little late.\\u00dc heard of hendrix?I am thinking of going there.We r just drinking,not dancing\",\n          \"go happily\",\n          \"WHOA THERE'S PPL TO SMS? When I got my phone in p2 I only smsed my cousins!!!!\"\n        ],\n        \"semantic_type\": \"\",\n        \"description\": \"\"\n      }\n    },\n    {\n      \"column\": \"length\",\n      \"properties\": {\n        \"dtype\": \"category\",\n        \"num_unique_values\": 470,\n        \"samples\": [\n          \"49\",\n          \"37\",\n          \"69\"\n        ],\n        \"semantic_type\": \"\",\n        \"description\": \"\"\n      }\n    },\n    {\n      \"column\": \"country\",\n      \"properties\": {\n        \"dtype\": \"category\",\n        \"num_unique_values\": 33,\n        \"samples\": [\n          \"France\",\n          \"Nepal\",\n          \"Italia\"\n        ],\n        \"semantic_type\": \"\",\n        \"description\": \"\"\n      }\n    },\n    {\n      \"column\": \"Date\",\n      \"properties\": {\n        \"dtype\": \"object\",\n        \"num_unique_values\": 27,\n        \"samples\": [\n          \"2011/12\",\n          \"2012/6\",\n          \"2012/5\"\n        ],\n        \"semantic_type\": \"\",\n        \"description\": \"\"\n      }\n    },\n    {\n      \"column\": \"Message_lowercase\",\n      \"properties\": {\n        \"dtype\": \"string\",\n        \"num_unique_values\": 48354,\n        \"samples\": [\n          \"but not like it is graded wat fb post only i type out before i tinkone mah... like that also must say me i very pek chek le lo... make mefeel like not using english for the rest of my life\",\n          \"do my hse have a clipboard?...or ur hse got?...can lend me one if u have?...\",\n          \";o). joy, my hp no.016-787 3187\"\n        ],\n        \"semantic_type\": \"\",\n        \"description\": \"\"\n      }\n    },\n    {\n      \"column\": \"message_clean\",\n      \"properties\": {\n        \"dtype\": \"string\",\n        \"num_unique_values\": 48334,\n        \"samples\": [\n          \"hokay im coming.\",\n          \"call u when i leave.\",\n          \"not sure if you can go places not over night but we're going to themovies friday and game of thrones sunday... if you can't no big dealat all ^^\"\n        ],\n        \"semantic_type\": \"\",\n        \"description\": \"\"\n      }\n    },\n    {\n      \"column\": \"Sentiment\",\n      \"properties\": {\n        \"dtype\": \"category\",\n        \"num_unique_values\": 2,\n        \"samples\": [\n          \"Positive\",\n          \"Negative\"\n        ],\n        \"semantic_type\": \"\",\n        \"description\": \"\"\n      }\n    },\n    {\n      \"column\": \"Sentiment_score\",\n      \"properties\": {\n        \"dtype\": \"number\",\n        \"std\": 0,\n        \"min\": -1,\n        \"max\": 1,\n        \"num_unique_values\": 2,\n        \"samples\": [\n          1,\n          -1\n        ],\n        \"semantic_type\": \"\",\n        \"description\": \"\"\n      }\n    }\n  ]\n}"
            }
          },
          "metadata": {},
          "execution_count": 124
        }
      ]
    },
    {
      "cell_type": "code",
      "source": [
        "#create a new dataframe grouped by countries and aggregated by the mean.\n",
        "text_sent = text.groupby(['country']).mean()\n",
        "\n",
        "#reset the index\n",
        "text_sent.reset_index(inplace=True)\n",
        "\n",
        "text_sent.head()"
      ],
      "metadata": {
        "id": "B57BEUFvfZxn",
        "colab": {
          "base_uri": "https://localhost:8080/",
          "height": 326
        },
        "outputId": "1913a633-35d0-4855-e5b0-4779a2fb4f2f"
      },
      "execution_count": 110,
      "outputs": [
        {
          "output_type": "error",
          "ename": "AttributeError",
          "evalue": "'DataFrameGroupBy' object has no attribute 'reset_index'",
          "traceback": [
            "\u001b[0;31m---------------------------------------------------------------------------\u001b[0m",
            "\u001b[0;31mAttributeError\u001b[0m                            Traceback (most recent call last)",
            "\u001b[0;32m<ipython-input-110-be05f576188c>\u001b[0m in \u001b[0;36m<cell line: 5>\u001b[0;34m()\u001b[0m\n\u001b[1;32m      3\u001b[0m \u001b[0;34m\u001b[0m\u001b[0m\n\u001b[1;32m      4\u001b[0m \u001b[0;31m#reset the index\u001b[0m\u001b[0;34m\u001b[0m\u001b[0;34m\u001b[0m\u001b[0m\n\u001b[0;32m----> 5\u001b[0;31m \u001b[0mtext_sent\u001b[0m\u001b[0;34m.\u001b[0m\u001b[0mreset_index\u001b[0m\u001b[0;34m(\u001b[0m\u001b[0minplace\u001b[0m\u001b[0;34m=\u001b[0m\u001b[0;32mTrue\u001b[0m\u001b[0;34m)\u001b[0m\u001b[0;34m\u001b[0m\u001b[0;34m\u001b[0m\u001b[0m\n\u001b[0m\u001b[1;32m      6\u001b[0m \u001b[0;34m\u001b[0m\u001b[0m\n\u001b[1;32m      7\u001b[0m \u001b[0mtext_sent\u001b[0m\u001b[0;34m.\u001b[0m\u001b[0mhead\u001b[0m\u001b[0;34m(\u001b[0m\u001b[0;34m)\u001b[0m\u001b[0;34m\u001b[0m\u001b[0;34m\u001b[0m\u001b[0m\n",
            "\u001b[0;32m/usr/local/lib/python3.10/dist-packages/pandas/core/groupby/groupby.py\u001b[0m in \u001b[0;36m__getattr__\u001b[0;34m(self, attr)\u001b[0m\n\u001b[1;32m   1361\u001b[0m             \u001b[0;32mreturn\u001b[0m \u001b[0mself\u001b[0m\u001b[0;34m[\u001b[0m\u001b[0mattr\u001b[0m\u001b[0;34m]\u001b[0m\u001b[0;34m\u001b[0m\u001b[0;34m\u001b[0m\u001b[0m\n\u001b[1;32m   1362\u001b[0m \u001b[0;34m\u001b[0m\u001b[0m\n\u001b[0;32m-> 1363\u001b[0;31m         raise AttributeError(\n\u001b[0m\u001b[1;32m   1364\u001b[0m             \u001b[0;34mf\"'{type(self).__name__}' object has no attribute '{attr}'\"\u001b[0m\u001b[0;34m\u001b[0m\u001b[0;34m\u001b[0m\u001b[0m\n\u001b[1;32m   1365\u001b[0m         )\n",
            "\u001b[0;31mAttributeError\u001b[0m: 'DataFrameGroupBy' object has no attribute 'reset_index'"
          ]
        }
      ]
    },
    {
      "cell_type": "markdown",
      "source": [
        "Want to know which country sends the most positive messages so use sort_values() on sentiment score."
      ],
      "metadata": {
        "id": "N-RqN73gfkqA"
      }
    },
    {
      "cell_type": "code",
      "source": [
        "text_sent = text.groupby(['country']).Sentiment_score.mean()"
      ],
      "metadata": {
        "id": "XqopcIUC4ZVN"
      },
      "execution_count": 115,
      "outputs": []
    },
    {
      "cell_type": "code",
      "source": [
        "text_sent.head()"
      ],
      "metadata": {
        "colab": {
          "base_uri": "https://localhost:8080/",
          "height": 269
        },
        "id": "WvV4o5dx4cLY",
        "outputId": "fa688b86-c415-4148-e618-e5ded897440d"
      },
      "execution_count": 116,
      "outputs": [
        {
          "output_type": "execute_result",
          "data": {
            "text/plain": [
              "country\n",
              "Australia    -1.000000\n",
              "Bangladesh   -0.984127\n",
              "Barbados     -1.000000\n",
              "Canada       -1.000000\n",
              "China        -1.000000\n",
              "Name: Sentiment_score, dtype: float64"
            ],
            "text/html": [
              "<div>\n",
              "<style scoped>\n",
              "    .dataframe tbody tr th:only-of-type {\n",
              "        vertical-align: middle;\n",
              "    }\n",
              "\n",
              "    .dataframe tbody tr th {\n",
              "        vertical-align: top;\n",
              "    }\n",
              "\n",
              "    .dataframe thead th {\n",
              "        text-align: right;\n",
              "    }\n",
              "</style>\n",
              "<table border=\"1\" class=\"dataframe\">\n",
              "  <thead>\n",
              "    <tr style=\"text-align: right;\">\n",
              "      <th></th>\n",
              "      <th>Sentiment_score</th>\n",
              "    </tr>\n",
              "    <tr>\n",
              "      <th>country</th>\n",
              "      <th></th>\n",
              "    </tr>\n",
              "  </thead>\n",
              "  <tbody>\n",
              "    <tr>\n",
              "      <th>Australia</th>\n",
              "      <td>-1.000000</td>\n",
              "    </tr>\n",
              "    <tr>\n",
              "      <th>Bangladesh</th>\n",
              "      <td>-0.984127</td>\n",
              "    </tr>\n",
              "    <tr>\n",
              "      <th>Barbados</th>\n",
              "      <td>-1.000000</td>\n",
              "    </tr>\n",
              "    <tr>\n",
              "      <th>Canada</th>\n",
              "      <td>-1.000000</td>\n",
              "    </tr>\n",
              "    <tr>\n",
              "      <th>China</th>\n",
              "      <td>-1.000000</td>\n",
              "    </tr>\n",
              "  </tbody>\n",
              "</table>\n",
              "</div><br><label><b>dtype:</b> float64</label>"
            ]
          },
          "metadata": {},
          "execution_count": 116
        }
      ]
    },
    {
      "cell_type": "code",
      "source": [
        "text_sent"
      ],
      "metadata": {
        "colab": {
          "base_uri": "https://localhost:8080/",
          "height": 1000
        },
        "id": "YeDQTFlg5WTT",
        "outputId": "fbff2dbc-8b9e-4bad-9963-d6b5e54fa64f"
      },
      "execution_count": 122,
      "outputs": [
        {
          "output_type": "execute_result",
          "data": {
            "text/plain": [
              "country\n",
              "Australia             -1.000000\n",
              "Bangladesh            -0.984127\n",
              "Barbados              -1.000000\n",
              "Canada                -1.000000\n",
              "China                 -1.000000\n",
              "France                -1.000000\n",
              "Ghana                 -1.000000\n",
              "Hungary               -1.000000\n",
              "India                 -0.985039\n",
              "Indonesia             -1.000000\n",
              "Italia                -1.000000\n",
              "Jamaica               -1.000000\n",
              "Kenya                 -1.000000\n",
              "Lebanon               -1.000000\n",
              "Macedonia             -1.000000\n",
              "Malaysia              -0.973924\n",
              "Morocco               -1.000000\n",
              "Nepal                 -1.000000\n",
              "New Zealand           -1.000000\n",
              "Nigeria               -1.000000\n",
              "Pakistan              -0.981358\n",
              "Philippines           -1.000000\n",
              "Romania               -1.000000\n",
              "Serbia                -1.000000\n",
              "Singapore             -0.992080\n",
              "Slovenia              -1.000000\n",
              "Spain                 -1.000000\n",
              "Sri Lanka             -0.996180\n",
              "Trinidad and Tobago   -1.000000\n",
              "Turkey                -1.000000\n",
              "United Kingdom        -1.000000\n",
              "United States         -0.988380\n",
              "Unknown               -0.970100\n",
              "Name: Sentiment_score, dtype: float64"
            ],
            "text/html": [
              "<div>\n",
              "<style scoped>\n",
              "    .dataframe tbody tr th:only-of-type {\n",
              "        vertical-align: middle;\n",
              "    }\n",
              "\n",
              "    .dataframe tbody tr th {\n",
              "        vertical-align: top;\n",
              "    }\n",
              "\n",
              "    .dataframe thead th {\n",
              "        text-align: right;\n",
              "    }\n",
              "</style>\n",
              "<table border=\"1\" class=\"dataframe\">\n",
              "  <thead>\n",
              "    <tr style=\"text-align: right;\">\n",
              "      <th></th>\n",
              "      <th>Sentiment_score</th>\n",
              "    </tr>\n",
              "    <tr>\n",
              "      <th>country</th>\n",
              "      <th></th>\n",
              "    </tr>\n",
              "  </thead>\n",
              "  <tbody>\n",
              "    <tr>\n",
              "      <th>Australia</th>\n",
              "      <td>-1.000000</td>\n",
              "    </tr>\n",
              "    <tr>\n",
              "      <th>Bangladesh</th>\n",
              "      <td>-0.984127</td>\n",
              "    </tr>\n",
              "    <tr>\n",
              "      <th>Barbados</th>\n",
              "      <td>-1.000000</td>\n",
              "    </tr>\n",
              "    <tr>\n",
              "      <th>Canada</th>\n",
              "      <td>-1.000000</td>\n",
              "    </tr>\n",
              "    <tr>\n",
              "      <th>China</th>\n",
              "      <td>-1.000000</td>\n",
              "    </tr>\n",
              "    <tr>\n",
              "      <th>France</th>\n",
              "      <td>-1.000000</td>\n",
              "    </tr>\n",
              "    <tr>\n",
              "      <th>Ghana</th>\n",
              "      <td>-1.000000</td>\n",
              "    </tr>\n",
              "    <tr>\n",
              "      <th>Hungary</th>\n",
              "      <td>-1.000000</td>\n",
              "    </tr>\n",
              "    <tr>\n",
              "      <th>India</th>\n",
              "      <td>-0.985039</td>\n",
              "    </tr>\n",
              "    <tr>\n",
              "      <th>Indonesia</th>\n",
              "      <td>-1.000000</td>\n",
              "    </tr>\n",
              "    <tr>\n",
              "      <th>Italia</th>\n",
              "      <td>-1.000000</td>\n",
              "    </tr>\n",
              "    <tr>\n",
              "      <th>Jamaica</th>\n",
              "      <td>-1.000000</td>\n",
              "    </tr>\n",
              "    <tr>\n",
              "      <th>Kenya</th>\n",
              "      <td>-1.000000</td>\n",
              "    </tr>\n",
              "    <tr>\n",
              "      <th>Lebanon</th>\n",
              "      <td>-1.000000</td>\n",
              "    </tr>\n",
              "    <tr>\n",
              "      <th>Macedonia</th>\n",
              "      <td>-1.000000</td>\n",
              "    </tr>\n",
              "    <tr>\n",
              "      <th>Malaysia</th>\n",
              "      <td>-0.973924</td>\n",
              "    </tr>\n",
              "    <tr>\n",
              "      <th>Morocco</th>\n",
              "      <td>-1.000000</td>\n",
              "    </tr>\n",
              "    <tr>\n",
              "      <th>Nepal</th>\n",
              "      <td>-1.000000</td>\n",
              "    </tr>\n",
              "    <tr>\n",
              "      <th>New Zealand</th>\n",
              "      <td>-1.000000</td>\n",
              "    </tr>\n",
              "    <tr>\n",
              "      <th>Nigeria</th>\n",
              "      <td>-1.000000</td>\n",
              "    </tr>\n",
              "    <tr>\n",
              "      <th>Pakistan</th>\n",
              "      <td>-0.981358</td>\n",
              "    </tr>\n",
              "    <tr>\n",
              "      <th>Philippines</th>\n",
              "      <td>-1.000000</td>\n",
              "    </tr>\n",
              "    <tr>\n",
              "      <th>Romania</th>\n",
              "      <td>-1.000000</td>\n",
              "    </tr>\n",
              "    <tr>\n",
              "      <th>Serbia</th>\n",
              "      <td>-1.000000</td>\n",
              "    </tr>\n",
              "    <tr>\n",
              "      <th>Singapore</th>\n",
              "      <td>-0.992080</td>\n",
              "    </tr>\n",
              "    <tr>\n",
              "      <th>Slovenia</th>\n",
              "      <td>-1.000000</td>\n",
              "    </tr>\n",
              "    <tr>\n",
              "      <th>Spain</th>\n",
              "      <td>-1.000000</td>\n",
              "    </tr>\n",
              "    <tr>\n",
              "      <th>Sri Lanka</th>\n",
              "      <td>-0.996180</td>\n",
              "    </tr>\n",
              "    <tr>\n",
              "      <th>Trinidad and Tobago</th>\n",
              "      <td>-1.000000</td>\n",
              "    </tr>\n",
              "    <tr>\n",
              "      <th>Turkey</th>\n",
              "      <td>-1.000000</td>\n",
              "    </tr>\n",
              "    <tr>\n",
              "      <th>United Kingdom</th>\n",
              "      <td>-1.000000</td>\n",
              "    </tr>\n",
              "    <tr>\n",
              "      <th>United States</th>\n",
              "      <td>-0.988380</td>\n",
              "    </tr>\n",
              "    <tr>\n",
              "      <th>Unknown</th>\n",
              "      <td>-0.970100</td>\n",
              "    </tr>\n",
              "  </tbody>\n",
              "</table>\n",
              "</div><br><label><b>dtype:</b> float64</label>"
            ]
          },
          "metadata": {},
          "execution_count": 122
        }
      ]
    },
    {
      "cell_type": "code",
      "source": [
        "text_sent.max()"
      ],
      "metadata": {
        "colab": {
          "base_uri": "https://localhost:8080/"
        },
        "id": "cPCOvXDc5ZLw",
        "outputId": "9631819e-4a0c-4f05-9d68-3a2a48b4e94d"
      },
      "execution_count": 123,
      "outputs": [
        {
          "output_type": "execute_result",
          "data": {
            "text/plain": [
              "-0.9700996677740864"
            ]
          },
          "metadata": {},
          "execution_count": 123
        }
      ]
    },
    {
      "cell_type": "code",
      "source": [
        "text_sent = text.groupby(['country']).Sentiment_score.mean().sort_values(by='Sentiment_score')"
      ],
      "metadata": {
        "colab": {
          "base_uri": "https://localhost:8080/",
          "height": 139
        },
        "id": "yOQ1qt865Nok",
        "outputId": "8f5b1ce2-feb5-4a94-c8d6-8670563a4bbf"
      },
      "execution_count": 121,
      "outputs": [
        {
          "output_type": "error",
          "ename": "TypeError",
          "evalue": "Series.sort_values() got an unexpected keyword argument 'by'",
          "traceback": [
            "\u001b[0;31m---------------------------------------------------------------------------\u001b[0m",
            "\u001b[0;31mTypeError\u001b[0m                                 Traceback (most recent call last)",
            "\u001b[0;32m<ipython-input-121-e02887f3557f>\u001b[0m in \u001b[0;36m<cell line: 1>\u001b[0;34m()\u001b[0m\n\u001b[0;32m----> 1\u001b[0;31m \u001b[0mtext_sent\u001b[0m \u001b[0;34m=\u001b[0m \u001b[0mtext\u001b[0m\u001b[0;34m.\u001b[0m\u001b[0mgroupby\u001b[0m\u001b[0;34m(\u001b[0m\u001b[0;34m[\u001b[0m\u001b[0;34m'country'\u001b[0m\u001b[0;34m]\u001b[0m\u001b[0;34m)\u001b[0m\u001b[0;34m.\u001b[0m\u001b[0mSentiment_score\u001b[0m\u001b[0;34m.\u001b[0m\u001b[0mmean\u001b[0m\u001b[0;34m(\u001b[0m\u001b[0;34m)\u001b[0m\u001b[0;34m.\u001b[0m\u001b[0msort_values\u001b[0m\u001b[0;34m(\u001b[0m\u001b[0mby\u001b[0m\u001b[0;34m=\u001b[0m\u001b[0;34m'Sentiment_score'\u001b[0m\u001b[0;34m)\u001b[0m\u001b[0;34m\u001b[0m\u001b[0;34m\u001b[0m\u001b[0m\n\u001b[0m",
            "\u001b[0;31mTypeError\u001b[0m: Series.sort_values() got an unexpected keyword argument 'by'"
          ]
        }
      ]
    },
    {
      "cell_type": "code",
      "source": [
        "# Sort DataFrame by Sentiment_score\n",
        "text_sent.sort_values(by='Sentiment_score')"
      ],
      "metadata": {
        "colab": {
          "base_uri": "https://localhost:8080/",
          "height": 156
        },
        "id": "Rc8eUIVQ4pC1",
        "outputId": "7123153f-d391-4121-ecbc-47e36ba9c050"
      },
      "execution_count": 120,
      "outputs": [
        {
          "output_type": "error",
          "ename": "TypeError",
          "evalue": "Series.sort_values() got an unexpected keyword argument 'by'",
          "traceback": [
            "\u001b[0;31m---------------------------------------------------------------------------\u001b[0m",
            "\u001b[0;31mTypeError\u001b[0m                                 Traceback (most recent call last)",
            "\u001b[0;32m<ipython-input-120-b4eb5c5c7ab8>\u001b[0m in \u001b[0;36m<cell line: 2>\u001b[0;34m()\u001b[0m\n\u001b[1;32m      1\u001b[0m \u001b[0;31m# Sort DataFrame by Sentiment_score\u001b[0m\u001b[0;34m\u001b[0m\u001b[0;34m\u001b[0m\u001b[0m\n\u001b[0;32m----> 2\u001b[0;31m \u001b[0mtext_sent\u001b[0m\u001b[0;34m.\u001b[0m\u001b[0msort_values\u001b[0m\u001b[0;34m(\u001b[0m\u001b[0mby\u001b[0m\u001b[0;34m=\u001b[0m\u001b[0;34m'Sentiment_score'\u001b[0m\u001b[0;34m)\u001b[0m\u001b[0;34m\u001b[0m\u001b[0;34m\u001b[0m\u001b[0m\n\u001b[0m",
            "\u001b[0;31mTypeError\u001b[0m: Series.sort_values() got an unexpected keyword argument 'by'"
          ]
        }
      ]
    },
    {
      "cell_type": "markdown",
      "source": [
        "I didn't get the same result as the original script, for me all countries sent a negative message on average whereas in the original script some countries like Spain or Australia had positive average sentiment scores.\n",
        "\n",
        "**I'm guessing is that this was caused by the tokenisation method which resulted in  the classifier being trained slightly differently and generating different sentiment scores at the end.**\n",
        "\n",
        "For me word_tokenize() didn't work and i had to use tokenized() method."
      ],
      "metadata": {
        "id": "N2rJNg6S5uKC"
      }
    }
  ]
}